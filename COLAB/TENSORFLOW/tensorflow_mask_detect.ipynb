{
  "nbformat": 4,
  "nbformat_minor": 0,
  "metadata": {
    "kernelspec": {
      "language": "python",
      "display_name": "Python 3",
      "name": "python3"
    },
    "language_info": {
      "pygments_lexer": "ipython3",
      "nbconvert_exporter": "python",
      "version": "3.6.4",
      "file_extension": ".py",
      "codemirror_mode": {
        "name": "ipython",
        "version": 3
      },
      "name": "python",
      "mimetype": "text/x-python"
    },
    "colab": {
      "name": "tensorflow - mask detect",
      "provenance": [],
      "collapsed_sections": []
    }
  },
  "cells": [
    {
      "cell_type": "code",
      "metadata": {
        "id": "aW7ilA2JoKCv"
      },
      "source": [
        "import cv2\r\n",
        "import os\r\n",
        "from tensorflow.keras.preprocessing.image import img_to_array\r\n",
        "from tensorflow.keras.models import load_model\r\n",
        "from tensorflow.keras.applications.mobilenet_v2 import preprocess_input\r\n",
        "import numpy as np"
      ],
      "execution_count": null,
      "outputs": []
    },
    {
      "cell_type": "code",
      "metadata": {
        "id": "z9i0GyhSoK0C"
      },
      "source": [
        "faceCascade = cv2.CascadeClassifier(cv2.data.haarcascades + \"haarcascade_frontalface_alt2.xml\")\r\n",
        "model = load_model(\"mask.h5\")"
      ],
      "execution_count": null,
      "outputs": []
    },
    {
      "cell_type": "code",
      "metadata": {
        "colab": {
          "base_uri": "https://localhost:8080/",
          "height": 435
        },
        "id": "9V-6JEVnoPf8",
        "outputId": "3b939bb8-1089-4ab3-8453-67d8ed98594a"
      },
      "source": [
        "video_capture = cv2.VideoCapture(0)\r\n",
        "while True:\r\n",
        "    try:\r\n",
        "        # Capture frame-by-frame\r\n",
        "        ret, frame = video_capture.read()\r\n",
        "        gray = cv2.cvtColor(frame, cv2.COLOR_BGR2GRAY)\r\n",
        "        faces = faceCascade.detectMultiScale(gray,\r\n",
        "                                             scaleFactor=1.1,\r\n",
        "                                             minNeighbors=5,\r\n",
        "                                             minSize=(60, 60),\r\n",
        "                                             flags=cv2.CASCADE_SCALE_IMAGE)\r\n",
        "        faces_list = []\r\n",
        "        preds = []\r\n",
        "        for (x, y, w, h) in faces:\r\n",
        "            face_frame = frame[y:y + h, x:x + w]\r\n",
        "            face_frame = cv2.cvtColor(face_frame, cv2.COLOR_BGR2RGB)\r\n",
        "            face_frame = cv2.resize(face_frame, (224, 224))\r\n",
        "            face_frame = img_to_array(face_frame)\r\n",
        "            face_frame = np.expand_dims(face_frame, axis=0)\r\n",
        "            face_frame = preprocess_input(face_frame)\r\n",
        "            faces_list.append(face_frame)\r\n",
        "            if len(faces_list) > 0:\r\n",
        "                preds = model.predict(faces_list)\r\n",
        "            for pred in preds:\r\n",
        "                (mask, withoutMask) = pred\r\n",
        "            label = \"OLA!!!\" if mask > withoutMask else \"USE MASCARA\"\r\n",
        "            color = (0, 255, 0) if label == \"SEJA BEM VINDO\" else (255, 255, 255)\r\n",
        "            # label = \"{}: {:.2f}%\".format(label, max(mask, withoutMask) * 100)\r\n",
        "            label = \"{}\".format(label)\r\n",
        "            cv2.putText(frame, label, (x, y - 10),\r\n",
        "                        cv2.FONT_HERSHEY_SIMPLEX, 0.55, color, 2)\r\n",
        "\r\n",
        "            cv2.rectangle(frame, (x, y), (x + w, y + h), color, 2)\r\n",
        "\r\n",
        "            # Display the resulting frame\r\n",
        "        cv2.putText(frame, ' LabFront - detector de mascara', (0, 450),\r\n",
        "                    cv2.FONT_HERSHEY_SIMPLEX, 0.8, (0, 255, 255), 2)\r\n",
        "        cv2.imshow('Video', frame)\r\n",
        "        key = cv2.waitKey(10)\r\n",
        "\r\n",
        "        if key == 27:\r\n",
        "            break\r\n",
        "    except:\r\n",
        "        pass\r\n",
        "video_capture.release()\r\n",
        "cv2.destroyAllWindows()"
      ],
      "execution_count": null,
      "outputs": [
        {
          "output_type": "error",
          "ename": "KeyboardInterrupt",
          "evalue": "ignored",
          "traceback": [
            "\u001b[0;31m---------------------------------------------------------------------------\u001b[0m",
            "\u001b[0;31merror\u001b[0m                                     Traceback (most recent call last)",
            "\u001b[0;32m<ipython-input-4-d708da849816>\u001b[0m in \u001b[0;36m<module>\u001b[0;34m()\u001b[0m\n\u001b[1;32m      5\u001b[0m         \u001b[0mret\u001b[0m\u001b[0;34m,\u001b[0m \u001b[0mframe\u001b[0m \u001b[0;34m=\u001b[0m \u001b[0mvideo_capture\u001b[0m\u001b[0;34m.\u001b[0m\u001b[0mread\u001b[0m\u001b[0;34m(\u001b[0m\u001b[0;34m)\u001b[0m\u001b[0;34m\u001b[0m\u001b[0;34m\u001b[0m\u001b[0m\n\u001b[0;32m----> 6\u001b[0;31m         \u001b[0mgray\u001b[0m \u001b[0;34m=\u001b[0m \u001b[0mcv2\u001b[0m\u001b[0;34m.\u001b[0m\u001b[0mcvtColor\u001b[0m\u001b[0;34m(\u001b[0m\u001b[0mframe\u001b[0m\u001b[0;34m,\u001b[0m \u001b[0mcv2\u001b[0m\u001b[0;34m.\u001b[0m\u001b[0mCOLOR_BGR2GRAY\u001b[0m\u001b[0;34m)\u001b[0m\u001b[0;34m\u001b[0m\u001b[0;34m\u001b[0m\u001b[0m\n\u001b[0m\u001b[1;32m      7\u001b[0m         faces = faceCascade.detectMultiScale(gray,\n",
            "\u001b[0;31merror\u001b[0m: OpenCV(4.1.2) /io/opencv/modules/imgproc/src/color.cpp:182: error: (-215:Assertion failed) !_src.empty() in function 'cvtColor'\n",
            "\nDuring handling of the above exception, another exception occurred:\n",
            "\u001b[0;31mKeyboardInterrupt\u001b[0m                         Traceback (most recent call last)",
            "\u001b[0;32m<ipython-input-4-d708da849816>\u001b[0m in \u001b[0;36m<module>\u001b[0;34m()\u001b[0m\n\u001b[1;32m      4\u001b[0m         \u001b[0;31m# Capture frame-by-frame\u001b[0m\u001b[0;34m\u001b[0m\u001b[0;34m\u001b[0m\u001b[0;34m\u001b[0m\u001b[0m\n\u001b[1;32m      5\u001b[0m         \u001b[0mret\u001b[0m\u001b[0;34m,\u001b[0m \u001b[0mframe\u001b[0m \u001b[0;34m=\u001b[0m \u001b[0mvideo_capture\u001b[0m\u001b[0;34m.\u001b[0m\u001b[0mread\u001b[0m\u001b[0;34m(\u001b[0m\u001b[0;34m)\u001b[0m\u001b[0;34m\u001b[0m\u001b[0;34m\u001b[0m\u001b[0m\n\u001b[0;32m----> 6\u001b[0;31m         \u001b[0mgray\u001b[0m \u001b[0;34m=\u001b[0m \u001b[0mcv2\u001b[0m\u001b[0;34m.\u001b[0m\u001b[0mcvtColor\u001b[0m\u001b[0;34m(\u001b[0m\u001b[0mframe\u001b[0m\u001b[0;34m,\u001b[0m \u001b[0mcv2\u001b[0m\u001b[0;34m.\u001b[0m\u001b[0mCOLOR_BGR2GRAY\u001b[0m\u001b[0;34m)\u001b[0m\u001b[0;34m\u001b[0m\u001b[0;34m\u001b[0m\u001b[0m\n\u001b[0m\u001b[1;32m      7\u001b[0m         faces = faceCascade.detectMultiScale(gray,\n\u001b[1;32m      8\u001b[0m                                              \u001b[0mscaleFactor\u001b[0m\u001b[0;34m=\u001b[0m\u001b[0;36m1.1\u001b[0m\u001b[0;34m,\u001b[0m\u001b[0;34m\u001b[0m\u001b[0;34m\u001b[0m\u001b[0m\n",
            "\u001b[0;31mKeyboardInterrupt\u001b[0m: "
          ]
        }
      ]
    }
  ]
}
