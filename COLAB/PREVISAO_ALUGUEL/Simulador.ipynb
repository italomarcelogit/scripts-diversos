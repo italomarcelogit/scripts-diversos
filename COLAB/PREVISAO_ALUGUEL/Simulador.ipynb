{
  "nbformat": 4,
  "nbformat_minor": 0,
  "metadata": {
    "colab": {
      "name": "Simulador de Aluguel - ScikitLearn.ipynb",
      "provenance": [],
      "collapsed_sections": [],
      "mount_file_id": "17VTthW8ZJLLbzsS1UDh9w5J5KbVf07uL",
      "authorship_tag": "ABX9TyNjxjlb8fnijDajG2Go3OCi",
      "include_colab_link": true
    },
    "kernelspec": {
      "name": "python3",
      "display_name": "Python 3"
    },
    "language_info": {
      "name": "python"
    },
    "widgets": {
      "application/vnd.jupyter.widget-state+json": {
        "7003c8c62432440bbf8f7597e7d527f2": {
          "model_module": "@jupyter-widgets/controls",
          "model_name": "GridBoxModel",
          "state": {
            "_view_name": "GridBoxView",
            "_dom_classes": [],
            "_model_name": "GridBoxModel",
            "_view_module": "@jupyter-widgets/controls",
            "_model_module_version": "1.5.0",
            "_view_count": null,
            "_view_module_version": "1.5.0",
            "box_style": "",
            "layout": "IPY_MODEL_63704af41f734b028c660bd17e7a0043",
            "_model_module": "@jupyter-widgets/controls",
            "children": [
              "IPY_MODEL_bcdd43aea6d742748b9dae3b7cf0f8a6",
              "IPY_MODEL_e91be8cd763c40449fb32dd187749fbf",
              "IPY_MODEL_dfaa6aebe8d94f438f2bd92eac856de7",
              "IPY_MODEL_30173a0c2ed944d19874c926adef5233"
            ]
          }
        },
        "63704af41f734b028c660bd17e7a0043": {
          "model_module": "@jupyter-widgets/base",
          "model_name": "LayoutModel",
          "state": {
            "_view_name": "LayoutView",
            "grid_template_rows": "repeat(5, 1fr)",
            "right": null,
            "justify_content": null,
            "_view_module": "@jupyter-widgets/base",
            "overflow": null,
            "_model_module_version": "1.2.0",
            "_view_count": null,
            "flex_flow": null,
            "width": null,
            "min_width": null,
            "border": null,
            "align_items": null,
            "bottom": null,
            "_model_module": "@jupyter-widgets/base",
            "top": null,
            "grid_column": null,
            "overflow_y": null,
            "overflow_x": null,
            "grid_auto_flow": null,
            "grid_area": null,
            "grid_template_columns": "repeat(3, 1fr)",
            "flex": null,
            "_model_name": "LayoutModel",
            "justify_items": null,
            "grid_row": null,
            "max_height": null,
            "align_content": null,
            "visibility": null,
            "align_self": null,
            "height": "600px",
            "min_height": null,
            "padding": null,
            "grid_auto_rows": null,
            "grid_gap": null,
            "max_width": null,
            "order": null,
            "_view_module_version": "1.2.0",
            "grid_template_areas": "\"widget001 widget001 widget001\"\n\"widget002 widget002 widget003\"\n\"widget002 widget002 widget003\"\n\"widget002 widget002 widget003\"\n\"widget004 widget004 widget004\"",
            "object_position": null,
            "object_fit": null,
            "grid_auto_columns": null,
            "margin": null,
            "display": null,
            "left": null
          }
        },
        "bcdd43aea6d742748b9dae3b7cf0f8a6": {
          "model_module": "@jupyter-widgets/controls",
          "model_name": "ButtonModel",
          "state": {
            "_view_name": "ButtonView",
            "style": "IPY_MODEL_cbdc5ed2a11c420faa997478f2c57ef9",
            "_dom_classes": [],
            "description": "P R E V I S A O  __D E__   A L U G U E L",
            "_model_name": "ButtonModel",
            "button_style": "info",
            "_view_module": "@jupyter-widgets/controls",
            "_model_module_version": "1.5.0",
            "tooltip": "",
            "_view_count": null,
            "disabled": false,
            "_view_module_version": "1.5.0",
            "layout": "IPY_MODEL_fbea97765e4a44758f7a907c28e3ab06",
            "_model_module": "@jupyter-widgets/controls",
            "icon": ""
          }
        },
        "e91be8cd763c40449fb32dd187749fbf": {
          "model_module": "@jupyter-widgets/controls",
          "model_name": "HBoxModel",
          "state": {
            "_view_name": "HBoxView",
            "_dom_classes": [],
            "_model_name": "HBoxModel",
            "_view_module": "@jupyter-widgets/controls",
            "_model_module_version": "1.5.0",
            "_view_count": null,
            "_view_module_version": "1.5.0",
            "box_style": "",
            "layout": "IPY_MODEL_d75d57656e494bcdbb2b7a11a74b0a6f",
            "_model_module": "@jupyter-widgets/controls",
            "children": [
              "IPY_MODEL_efbf23894f4942dd97f78a9f05f33cc5",
              "IPY_MODEL_476601e5b29e47f28fb7208ba20e507b"
            ]
          }
        },
        "dfaa6aebe8d94f438f2bd92eac856de7": {
          "model_module": "@jupyter-widgets/controls",
          "model_name": "VBoxModel",
          "state": {
            "_view_name": "VBoxView",
            "_dom_classes": [],
            "_model_name": "VBoxModel",
            "_view_module": "@jupyter-widgets/controls",
            "_model_module_version": "1.5.0",
            "_view_count": null,
            "_view_module_version": "1.5.0",
            "box_style": "",
            "layout": "IPY_MODEL_0c89fb184ae9402288cc777d1855f498",
            "_model_module": "@jupyter-widgets/controls",
            "children": [
              "IPY_MODEL_b661585bba494c02be810e0c83c76998",
              "IPY_MODEL_b7738993695943188ee6688896e0ab8d",
              "IPY_MODEL_4f74f304e7934cd3ad027ea4082c8dd2",
              "IPY_MODEL_c95f46ac935a4c6d9bf494331cf98d82"
            ]
          }
        },
        "30173a0c2ed944d19874c926adef5233": {
          "model_module": "@jupyter-widgets/controls",
          "model_name": "ButtonModel",
          "state": {
            "_view_name": "ButtonView",
            "style": "IPY_MODEL_ff3b75e3d9dc43eda3bc19ed96678013",
            "_dom_classes": [],
            "description": "@italomarcelogit",
            "_model_name": "ButtonModel",
            "button_style": "info",
            "_view_module": "@jupyter-widgets/controls",
            "_model_module_version": "1.5.0",
            "tooltip": "",
            "_view_count": null,
            "disabled": false,
            "_view_module_version": "1.5.0",
            "layout": "IPY_MODEL_3903fdd6b8b9473bb799e35d3aa25033",
            "_model_module": "@jupyter-widgets/controls",
            "icon": ""
          }
        },
        "cbdc5ed2a11c420faa997478f2c57ef9": {
          "model_module": "@jupyter-widgets/controls",
          "model_name": "ButtonStyleModel",
          "state": {
            "_view_name": "StyleView",
            "_model_name": "ButtonStyleModel",
            "_view_module": "@jupyter-widgets/base",
            "_model_module_version": "1.5.0",
            "_view_count": null,
            "button_color": null,
            "font_weight": "",
            "_view_module_version": "1.2.0",
            "_model_module": "@jupyter-widgets/controls"
          }
        },
        "fbea97765e4a44758f7a907c28e3ab06": {
          "model_module": "@jupyter-widgets/base",
          "model_name": "LayoutModel",
          "state": {
            "_view_name": "LayoutView",
            "grid_template_rows": null,
            "right": null,
            "justify_content": null,
            "_view_module": "@jupyter-widgets/base",
            "overflow": null,
            "_model_module_version": "1.2.0",
            "_view_count": null,
            "flex_flow": null,
            "width": "auto",
            "min_width": null,
            "border": null,
            "align_items": null,
            "bottom": null,
            "_model_module": "@jupyter-widgets/base",
            "top": null,
            "grid_column": null,
            "overflow_y": null,
            "overflow_x": null,
            "grid_auto_flow": null,
            "grid_area": "widget001",
            "grid_template_columns": null,
            "flex": null,
            "_model_name": "LayoutModel",
            "justify_items": null,
            "grid_row": null,
            "max_height": null,
            "align_content": null,
            "visibility": null,
            "align_self": null,
            "height": "auto",
            "min_height": null,
            "padding": null,
            "grid_auto_rows": null,
            "grid_gap": null,
            "max_width": null,
            "order": null,
            "_view_module_version": "1.2.0",
            "grid_template_areas": null,
            "object_position": null,
            "object_fit": null,
            "grid_auto_columns": null,
            "margin": null,
            "display": null,
            "left": null
          }
        },
        "d75d57656e494bcdbb2b7a11a74b0a6f": {
          "model_module": "@jupyter-widgets/base",
          "model_name": "LayoutModel",
          "state": {
            "_view_name": "LayoutView",
            "grid_template_rows": null,
            "right": null,
            "justify_content": null,
            "_view_module": "@jupyter-widgets/base",
            "overflow": null,
            "_model_module_version": "1.2.0",
            "_view_count": null,
            "flex_flow": null,
            "width": null,
            "min_width": null,
            "border": null,
            "align_items": null,
            "bottom": null,
            "_model_module": "@jupyter-widgets/base",
            "top": null,
            "grid_column": null,
            "overflow_y": null,
            "overflow_x": null,
            "grid_auto_flow": null,
            "grid_area": "widget002",
            "grid_template_columns": null,
            "flex": null,
            "_model_name": "LayoutModel",
            "justify_items": null,
            "grid_row": null,
            "max_height": null,
            "align_content": null,
            "visibility": null,
            "align_self": null,
            "height": null,
            "min_height": null,
            "padding": null,
            "grid_auto_rows": null,
            "grid_gap": null,
            "max_width": null,
            "order": null,
            "_view_module_version": "1.2.0",
            "grid_template_areas": null,
            "object_position": null,
            "object_fit": null,
            "grid_auto_columns": null,
            "margin": null,
            "display": null,
            "left": null
          }
        },
        "efbf23894f4942dd97f78a9f05f33cc5": {
          "model_module": "@jupyter-widgets/controls",
          "model_name": "VBoxModel",
          "state": {
            "_view_name": "VBoxView",
            "_dom_classes": [],
            "_model_name": "VBoxModel",
            "_view_module": "@jupyter-widgets/controls",
            "_model_module_version": "1.5.0",
            "_view_count": null,
            "_view_module_version": "1.5.0",
            "box_style": "",
            "layout": "IPY_MODEL_66b1ecd020944ef292fa8e8988284b49",
            "_model_module": "@jupyter-widgets/controls",
            "children": [
              "IPY_MODEL_77616b0b031d42fd94ce37678ea8d11e",
              "IPY_MODEL_140d466ec5dc48408dd4d15b17ba3173",
              "IPY_MODEL_22319a7ec40b48e3b0b2c850ecd6c489",
              "IPY_MODEL_09ccfaaacf0c4c01a6b7c5330ceb0ebe"
            ]
          }
        },
        "476601e5b29e47f28fb7208ba20e507b": {
          "model_module": "@jupyter-widgets/controls",
          "model_name": "VBoxModel",
          "state": {
            "_view_name": "VBoxView",
            "_dom_classes": [],
            "_model_name": "VBoxModel",
            "_view_module": "@jupyter-widgets/controls",
            "_model_module_version": "1.5.0",
            "_view_count": null,
            "_view_module_version": "1.5.0",
            "box_style": "",
            "layout": "IPY_MODEL_d779d1ef10bb4e24b553f033d425fdd5",
            "_model_module": "@jupyter-widgets/controls",
            "children": [
              "IPY_MODEL_ef912532db5c402d9e7b0acb41ef5edf",
              "IPY_MODEL_53daefc368f2457f8f530f6f41a4505d",
              "IPY_MODEL_1c8b838bbaab4d209eae3abc536c4b5b",
              "IPY_MODEL_713f03be41614b92875984df0fb6842f",
              "IPY_MODEL_8792aa487cde49c3a32f94be751b0b9b",
              "IPY_MODEL_f156fd95ebc449d29f9c68f6db940485"
            ]
          }
        },
        "0c89fb184ae9402288cc777d1855f498": {
          "model_module": "@jupyter-widgets/base",
          "model_name": "LayoutModel",
          "state": {
            "_view_name": "LayoutView",
            "grid_template_rows": null,
            "right": null,
            "justify_content": null,
            "_view_module": "@jupyter-widgets/base",
            "overflow": null,
            "_model_module_version": "1.2.0",
            "_view_count": null,
            "flex_flow": null,
            "width": null,
            "min_width": null,
            "border": null,
            "align_items": null,
            "bottom": null,
            "_model_module": "@jupyter-widgets/base",
            "top": null,
            "grid_column": null,
            "overflow_y": null,
            "overflow_x": null,
            "grid_auto_flow": null,
            "grid_area": "widget003",
            "grid_template_columns": null,
            "flex": null,
            "_model_name": "LayoutModel",
            "justify_items": null,
            "grid_row": null,
            "max_height": null,
            "align_content": null,
            "visibility": null,
            "align_self": null,
            "height": null,
            "min_height": null,
            "padding": null,
            "grid_auto_rows": null,
            "grid_gap": null,
            "max_width": null,
            "order": null,
            "_view_module_version": "1.2.0",
            "grid_template_areas": null,
            "object_position": null,
            "object_fit": null,
            "grid_auto_columns": null,
            "margin": null,
            "display": null,
            "left": null
          }
        },
        "b661585bba494c02be810e0c83c76998": {
          "model_module": "@jupyter-widgets/controls",
          "model_name": "HTMLModel",
          "state": {
            "_view_name": "HTMLView",
            "style": "IPY_MODEL_bd78b78e8d284dc999698195260aef72",
            "_dom_classes": [],
            "description": "",
            "_model_name": "HTMLModel",
            "placeholder": "​",
            "_view_module": "@jupyter-widgets/controls",
            "_model_module_version": "1.5.0",
            "value": "<b>Simulador:</b>",
            "_view_count": null,
            "_view_module_version": "1.5.0",
            "description_tooltip": null,
            "_model_module": "@jupyter-widgets/controls",
            "layout": "IPY_MODEL_8ea9ac440312458e99a476623c45e4d4"
          }
        },
        "b7738993695943188ee6688896e0ab8d": {
          "model_module": "@jupyter-widgets/controls",
          "model_name": "HTMLModel",
          "state": {
            "_view_name": "HTMLView",
            "style": "IPY_MODEL_63814769b6e0485188d550498c246a4f",
            "_dom_classes": [],
            "description": "Qtde. imóveis:",
            "_model_name": "HTMLModel",
            "placeholder": "​",
            "_view_module": "@jupyter-widgets/controls",
            "_model_module_version": "1.5.0",
            "value": "9977",
            "_view_count": null,
            "_view_module_version": "1.5.0",
            "description_tooltip": null,
            "_model_module": "@jupyter-widgets/controls",
            "layout": "IPY_MODEL_7b50d99defe246eeb78f0d6c9bc11bb1"
          }
        },
        "4f74f304e7934cd3ad027ea4082c8dd2": {
          "model_module": "@jupyter-widgets/controls",
          "model_name": "HTMLModel",
          "state": {
            "_view_name": "HTMLView",
            "style": "IPY_MODEL_ae5e9115d95948a8ad6fee6f483ed5a3",
            "_dom_classes": [],
            "description": "Previsão R$:",
            "_model_name": "HTMLModel",
            "placeholder": "​",
            "_view_module": "@jupyter-widgets/controls",
            "_model_module_version": "1.5.0",
            "value": "3812.96",
            "_view_count": null,
            "_view_module_version": "1.5.0",
            "description_tooltip": null,
            "_model_module": "@jupyter-widgets/controls",
            "layout": "IPY_MODEL_e739414b5a544ef19a35c2aafc5cb46a"
          }
        },
        "c95f46ac935a4c6d9bf494331cf98d82": {
          "model_module": "@jupyter-widgets/controls",
          "model_name": "HTMLModel",
          "state": {
            "_view_name": "HTMLView",
            "style": "IPY_MODEL_1404c467e00d4ff1a273f6931ad18bd5",
            "_dom_classes": [],
            "description": "Média R$:",
            "_model_name": "HTMLModel",
            "placeholder": "​",
            "_view_module": "@jupyter-widgets/controls",
            "_model_module_version": "1.5.0",
            "value": "3830.05",
            "_view_count": null,
            "_view_module_version": "1.5.0",
            "description_tooltip": null,
            "_model_module": "@jupyter-widgets/controls",
            "layout": "IPY_MODEL_f2a1526d61ba41b09e8f0e7edd9462dc"
          }
        },
        "ff3b75e3d9dc43eda3bc19ed96678013": {
          "model_module": "@jupyter-widgets/controls",
          "model_name": "ButtonStyleModel",
          "state": {
            "_view_name": "StyleView",
            "_model_name": "ButtonStyleModel",
            "_view_module": "@jupyter-widgets/base",
            "_model_module_version": "1.5.0",
            "_view_count": null,
            "button_color": null,
            "font_weight": "",
            "_view_module_version": "1.2.0",
            "_model_module": "@jupyter-widgets/controls"
          }
        },
        "3903fdd6b8b9473bb799e35d3aa25033": {
          "model_module": "@jupyter-widgets/base",
          "model_name": "LayoutModel",
          "state": {
            "_view_name": "LayoutView",
            "grid_template_rows": null,
            "right": null,
            "justify_content": null,
            "_view_module": "@jupyter-widgets/base",
            "overflow": null,
            "_model_module_version": "1.2.0",
            "_view_count": null,
            "flex_flow": null,
            "width": "auto",
            "min_width": null,
            "border": null,
            "align_items": null,
            "bottom": null,
            "_model_module": "@jupyter-widgets/base",
            "top": null,
            "grid_column": null,
            "overflow_y": null,
            "overflow_x": null,
            "grid_auto_flow": null,
            "grid_area": "widget004",
            "grid_template_columns": null,
            "flex": null,
            "_model_name": "LayoutModel",
            "justify_items": null,
            "grid_row": null,
            "max_height": null,
            "align_content": null,
            "visibility": null,
            "align_self": null,
            "height": "auto",
            "min_height": null,
            "padding": null,
            "grid_auto_rows": null,
            "grid_gap": null,
            "max_width": null,
            "order": null,
            "_view_module_version": "1.2.0",
            "grid_template_areas": null,
            "object_position": null,
            "object_fit": null,
            "grid_auto_columns": null,
            "margin": null,
            "display": null,
            "left": null
          }
        },
        "66b1ecd020944ef292fa8e8988284b49": {
          "model_module": "@jupyter-widgets/base",
          "model_name": "LayoutModel",
          "state": {
            "_view_name": "LayoutView",
            "grid_template_rows": null,
            "right": null,
            "justify_content": null,
            "_view_module": "@jupyter-widgets/base",
            "overflow": null,
            "_model_module_version": "1.2.0",
            "_view_count": null,
            "flex_flow": null,
            "width": null,
            "min_width": null,
            "border": null,
            "align_items": null,
            "bottom": null,
            "_model_module": "@jupyter-widgets/base",
            "top": null,
            "grid_column": null,
            "overflow_y": null,
            "overflow_x": null,
            "grid_auto_flow": null,
            "grid_area": null,
            "grid_template_columns": null,
            "flex": null,
            "_model_name": "LayoutModel",
            "justify_items": null,
            "grid_row": null,
            "max_height": null,
            "align_content": null,
            "visibility": null,
            "align_self": null,
            "height": null,
            "min_height": null,
            "padding": null,
            "grid_auto_rows": null,
            "grid_gap": null,
            "max_width": null,
            "order": null,
            "_view_module_version": "1.2.0",
            "grid_template_areas": null,
            "object_position": null,
            "object_fit": null,
            "grid_auto_columns": null,
            "margin": null,
            "display": null,
            "left": null
          }
        },
        "77616b0b031d42fd94ce37678ea8d11e": {
          "model_module": "@jupyter-widgets/controls",
          "model_name": "RadioButtonsModel",
          "state": {
            "_options_labels": [
              "São Paulo",
              "Porto Alegre",
              "Rio de Janeiro",
              "Campinas",
              "Belo Horizonte"
            ],
            "_view_name": "RadioButtonsView",
            "style": "IPY_MODEL_0a5ad45ef4344a3699ddb452451f7678",
            "_dom_classes": [],
            "description": "Cidade:",
            "_model_name": "RadioButtonsModel",
            "index": 0,
            "_view_module": "@jupyter-widgets/controls",
            "_model_module_version": "1.5.0",
            "_view_count": null,
            "disabled": false,
            "_view_module_version": "1.5.0",
            "description_tooltip": null,
            "_model_module": "@jupyter-widgets/controls",
            "layout": "IPY_MODEL_4bab6b257760414f9657b3bcea521661"
          }
        },
        "140d466ec5dc48408dd4d15b17ba3173": {
          "model_module": "@jupyter-widgets/controls",
          "model_name": "DropdownModel",
          "state": {
            "_options_labels": [
              "Selecione",
              "Sim",
              "Nao"
            ],
            "_view_name": "DropdownView",
            "style": "IPY_MODEL_15918d6d06e249beb1977088aedf9a90",
            "_dom_classes": [],
            "description": "Animal:",
            "_model_name": "DropdownModel",
            "index": 0,
            "_view_module": "@jupyter-widgets/controls",
            "_model_module_version": "1.5.0",
            "_view_count": null,
            "disabled": false,
            "_view_module_version": "1.5.0",
            "description_tooltip": null,
            "_model_module": "@jupyter-widgets/controls",
            "layout": "IPY_MODEL_c8e44ccd18bc4ddf8c21c07d25ab831c"
          }
        },
        "22319a7ec40b48e3b0b2c850ecd6c489": {
          "model_module": "@jupyter-widgets/controls",
          "model_name": "DropdownModel",
          "state": {
            "_options_labels": [
              "Selecione",
              "Sim",
              "Nao"
            ],
            "_view_name": "DropdownView",
            "style": "IPY_MODEL_e640deed02154d94a7bbde292ee796ce",
            "_dom_classes": [],
            "description": "Condomínio:",
            "_model_name": "DropdownModel",
            "index": 0,
            "_view_module": "@jupyter-widgets/controls",
            "_model_module_version": "1.5.0",
            "_view_count": null,
            "disabled": false,
            "_view_module_version": "1.5.0",
            "description_tooltip": null,
            "_model_module": "@jupyter-widgets/controls",
            "layout": "IPY_MODEL_31806996296c4d28970abe8eaae4b6bd"
          }
        },
        "09ccfaaacf0c4c01a6b7c5330ceb0ebe": {
          "model_module": "@jupyter-widgets/controls",
          "model_name": "ButtonModel",
          "state": {
            "_view_name": "ButtonView",
            "style": "IPY_MODEL_225604af1a124f4e9f8a49e71dfbd03a",
            "_dom_classes": [],
            "description": "Gerar Previsão",
            "_model_name": "ButtonModel",
            "button_style": "warning",
            "_view_module": "@jupyter-widgets/controls",
            "_model_module_version": "1.5.0",
            "tooltip": "",
            "_view_count": null,
            "disabled": false,
            "_view_module_version": "1.5.0",
            "layout": "IPY_MODEL_99526073fd2e427bb30798cfb88e5e86",
            "_model_module": "@jupyter-widgets/controls",
            "icon": "check"
          }
        },
        "d779d1ef10bb4e24b553f033d425fdd5": {
          "model_module": "@jupyter-widgets/base",
          "model_name": "LayoutModel",
          "state": {
            "_view_name": "LayoutView",
            "grid_template_rows": null,
            "right": null,
            "justify_content": null,
            "_view_module": "@jupyter-widgets/base",
            "overflow": null,
            "_model_module_version": "1.2.0",
            "_view_count": null,
            "flex_flow": null,
            "width": null,
            "min_width": null,
            "border": null,
            "align_items": null,
            "bottom": null,
            "_model_module": "@jupyter-widgets/base",
            "top": null,
            "grid_column": null,
            "overflow_y": null,
            "overflow_x": null,
            "grid_auto_flow": null,
            "grid_area": null,
            "grid_template_columns": null,
            "flex": null,
            "_model_name": "LayoutModel",
            "justify_items": null,
            "grid_row": null,
            "max_height": null,
            "align_content": null,
            "visibility": null,
            "align_self": null,
            "height": null,
            "min_height": null,
            "padding": null,
            "grid_auto_rows": null,
            "grid_gap": null,
            "max_width": null,
            "order": null,
            "_view_module_version": "1.2.0",
            "grid_template_areas": null,
            "object_position": null,
            "object_fit": null,
            "grid_auto_columns": null,
            "margin": null,
            "display": null,
            "left": null
          }
        },
        "ef912532db5c402d9e7b0acb41ef5edf": {
          "model_module": "@jupyter-widgets/controls",
          "model_name": "TextModel",
          "state": {
            "_view_name": "TextView",
            "style": "IPY_MODEL_5140b42d0a5c4edda4fcb376d39b8461",
            "_dom_classes": [],
            "description": "Área",
            "_model_name": "TextModel",
            "placeholder": "​",
            "_view_module": "@jupyter-widgets/controls",
            "_model_module_version": "1.5.0",
            "value": "",
            "_view_count": null,
            "disabled": false,
            "_view_module_version": "1.5.0",
            "continuous_update": true,
            "description_tooltip": null,
            "_model_module": "@jupyter-widgets/controls",
            "layout": "IPY_MODEL_375373c71e22408b84f612073a2c4b79"
          }
        },
        "53daefc368f2457f8f530f6f41a4505d": {
          "model_module": "@jupyter-widgets/controls",
          "model_name": "TextModel",
          "state": {
            "_view_name": "TextView",
            "style": "IPY_MODEL_9878665fd78c428a9ba2353f2b9cedd1",
            "_dom_classes": [],
            "description": "Quartos",
            "_model_name": "TextModel",
            "placeholder": "​",
            "_view_module": "@jupyter-widgets/controls",
            "_model_module_version": "1.5.0",
            "value": "3",
            "_view_count": null,
            "disabled": false,
            "_view_module_version": "1.5.0",
            "continuous_update": true,
            "description_tooltip": null,
            "_model_module": "@jupyter-widgets/controls",
            "layout": "IPY_MODEL_d829f396ec3645269c28050e2ec00333"
          }
        },
        "1c8b838bbaab4d209eae3abc536c4b5b": {
          "model_module": "@jupyter-widgets/controls",
          "model_name": "TextModel",
          "state": {
            "_view_name": "TextView",
            "style": "IPY_MODEL_0e4d28f0f60c4ee1973a978a43fbe8fe",
            "_dom_classes": [],
            "description": "Banheiros",
            "_model_name": "TextModel",
            "placeholder": "​",
            "_view_module": "@jupyter-widgets/controls",
            "_model_module_version": "1.5.0",
            "value": "2",
            "_view_count": null,
            "disabled": false,
            "_view_module_version": "1.5.0",
            "continuous_update": true,
            "description_tooltip": null,
            "_model_module": "@jupyter-widgets/controls",
            "layout": "IPY_MODEL_29101a2153334b44a09f880a8f8a7fb0"
          }
        },
        "713f03be41614b92875984df0fb6842f": {
          "model_module": "@jupyter-widgets/controls",
          "model_name": "TextModel",
          "state": {
            "_view_name": "TextView",
            "style": "IPY_MODEL_d0b02f9d3dba41b5a9d23ff96e54b242",
            "_dom_classes": [],
            "description": "Garagem",
            "_model_name": "TextModel",
            "placeholder": "​",
            "_view_module": "@jupyter-widgets/controls",
            "_model_module_version": "1.5.0",
            "value": "1",
            "_view_count": null,
            "disabled": false,
            "_view_module_version": "1.5.0",
            "continuous_update": true,
            "description_tooltip": null,
            "_model_module": "@jupyter-widgets/controls",
            "layout": "IPY_MODEL_69912704ad5640398c11c0ee76f710cb"
          }
        },
        "8792aa487cde49c3a32f94be751b0b9b": {
          "model_module": "@jupyter-widgets/controls",
          "model_name": "TextModel",
          "state": {
            "_view_name": "TextView",
            "style": "IPY_MODEL_d01afd6e25bc44d4aabf87f613bbeb4f",
            "_dom_classes": [],
            "description": "Andar",
            "_model_name": "TextModel",
            "placeholder": "​",
            "_view_module": "@jupyter-widgets/controls",
            "_model_module_version": "1.5.0",
            "value": "",
            "_view_count": null,
            "disabled": false,
            "_view_module_version": "1.5.0",
            "continuous_update": true,
            "description_tooltip": null,
            "_model_module": "@jupyter-widgets/controls",
            "layout": "IPY_MODEL_903bb904fb234d5798c53e01c5f163e0"
          }
        },
        "f156fd95ebc449d29f9c68f6db940485": {
          "model_module": "@jupyter-widgets/controls",
          "model_name": "DropdownModel",
          "state": {
            "_options_labels": [
              "Selecione",
              "Sim",
              "Nao"
            ],
            "_view_name": "DropdownView",
            "style": "IPY_MODEL_0aeed12bb6204341a045f2e6cca3443e",
            "_dom_classes": [],
            "description": "Mobiliado:",
            "_model_name": "DropdownModel",
            "index": 0,
            "_view_module": "@jupyter-widgets/controls",
            "_model_module_version": "1.5.0",
            "_view_count": null,
            "disabled": false,
            "_view_module_version": "1.5.0",
            "description_tooltip": null,
            "_model_module": "@jupyter-widgets/controls",
            "layout": "IPY_MODEL_1487123411864c7b896938e91e75db33"
          }
        },
        "bd78b78e8d284dc999698195260aef72": {
          "model_module": "@jupyter-widgets/controls",
          "model_name": "DescriptionStyleModel",
          "state": {
            "_view_name": "StyleView",
            "_model_name": "DescriptionStyleModel",
            "description_width": "",
            "_view_module": "@jupyter-widgets/base",
            "_model_module_version": "1.5.0",
            "_view_count": null,
            "_view_module_version": "1.2.0",
            "_model_module": "@jupyter-widgets/controls"
          }
        },
        "8ea9ac440312458e99a476623c45e4d4": {
          "model_module": "@jupyter-widgets/base",
          "model_name": "LayoutModel",
          "state": {
            "_view_name": "LayoutView",
            "grid_template_rows": null,
            "right": null,
            "justify_content": null,
            "_view_module": "@jupyter-widgets/base",
            "overflow": null,
            "_model_module_version": "1.2.0",
            "_view_count": null,
            "flex_flow": null,
            "width": null,
            "min_width": null,
            "border": null,
            "align_items": null,
            "bottom": null,
            "_model_module": "@jupyter-widgets/base",
            "top": null,
            "grid_column": null,
            "overflow_y": null,
            "overflow_x": null,
            "grid_auto_flow": null,
            "grid_area": null,
            "grid_template_columns": null,
            "flex": null,
            "_model_name": "LayoutModel",
            "justify_items": null,
            "grid_row": null,
            "max_height": null,
            "align_content": null,
            "visibility": null,
            "align_self": null,
            "height": null,
            "min_height": null,
            "padding": null,
            "grid_auto_rows": null,
            "grid_gap": null,
            "max_width": null,
            "order": null,
            "_view_module_version": "1.2.0",
            "grid_template_areas": null,
            "object_position": null,
            "object_fit": null,
            "grid_auto_columns": null,
            "margin": null,
            "display": null,
            "left": null
          }
        },
        "63814769b6e0485188d550498c246a4f": {
          "model_module": "@jupyter-widgets/controls",
          "model_name": "DescriptionStyleModel",
          "state": {
            "_view_name": "StyleView",
            "_model_name": "DescriptionStyleModel",
            "description_width": "",
            "_view_module": "@jupyter-widgets/base",
            "_model_module_version": "1.5.0",
            "_view_count": null,
            "_view_module_version": "1.2.0",
            "_model_module": "@jupyter-widgets/controls"
          }
        },
        "7b50d99defe246eeb78f0d6c9bc11bb1": {
          "model_module": "@jupyter-widgets/base",
          "model_name": "LayoutModel",
          "state": {
            "_view_name": "LayoutView",
            "grid_template_rows": null,
            "right": null,
            "justify_content": null,
            "_view_module": "@jupyter-widgets/base",
            "overflow": null,
            "_model_module_version": "1.2.0",
            "_view_count": null,
            "flex_flow": null,
            "width": null,
            "min_width": null,
            "border": null,
            "align_items": null,
            "bottom": null,
            "_model_module": "@jupyter-widgets/base",
            "top": null,
            "grid_column": null,
            "overflow_y": null,
            "overflow_x": null,
            "grid_auto_flow": null,
            "grid_area": null,
            "grid_template_columns": null,
            "flex": null,
            "_model_name": "LayoutModel",
            "justify_items": null,
            "grid_row": null,
            "max_height": null,
            "align_content": null,
            "visibility": null,
            "align_self": null,
            "height": null,
            "min_height": null,
            "padding": null,
            "grid_auto_rows": null,
            "grid_gap": null,
            "max_width": null,
            "order": null,
            "_view_module_version": "1.2.0",
            "grid_template_areas": null,
            "object_position": null,
            "object_fit": null,
            "grid_auto_columns": null,
            "margin": null,
            "display": null,
            "left": null
          }
        },
        "ae5e9115d95948a8ad6fee6f483ed5a3": {
          "model_module": "@jupyter-widgets/controls",
          "model_name": "DescriptionStyleModel",
          "state": {
            "_view_name": "StyleView",
            "_model_name": "DescriptionStyleModel",
            "description_width": "",
            "_view_module": "@jupyter-widgets/base",
            "_model_module_version": "1.5.0",
            "_view_count": null,
            "_view_module_version": "1.2.0",
            "_model_module": "@jupyter-widgets/controls"
          }
        },
        "e739414b5a544ef19a35c2aafc5cb46a": {
          "model_module": "@jupyter-widgets/base",
          "model_name": "LayoutModel",
          "state": {
            "_view_name": "LayoutView",
            "grid_template_rows": null,
            "right": null,
            "justify_content": null,
            "_view_module": "@jupyter-widgets/base",
            "overflow": null,
            "_model_module_version": "1.2.0",
            "_view_count": null,
            "flex_flow": null,
            "width": null,
            "min_width": null,
            "border": null,
            "align_items": null,
            "bottom": null,
            "_model_module": "@jupyter-widgets/base",
            "top": null,
            "grid_column": null,
            "overflow_y": null,
            "overflow_x": null,
            "grid_auto_flow": null,
            "grid_area": null,
            "grid_template_columns": null,
            "flex": null,
            "_model_name": "LayoutModel",
            "justify_items": null,
            "grid_row": null,
            "max_height": null,
            "align_content": null,
            "visibility": null,
            "align_self": null,
            "height": null,
            "min_height": null,
            "padding": null,
            "grid_auto_rows": null,
            "grid_gap": null,
            "max_width": null,
            "order": null,
            "_view_module_version": "1.2.0",
            "grid_template_areas": null,
            "object_position": null,
            "object_fit": null,
            "grid_auto_columns": null,
            "margin": null,
            "display": null,
            "left": null
          }
        },
        "1404c467e00d4ff1a273f6931ad18bd5": {
          "model_module": "@jupyter-widgets/controls",
          "model_name": "DescriptionStyleModel",
          "state": {
            "_view_name": "StyleView",
            "_model_name": "DescriptionStyleModel",
            "description_width": "",
            "_view_module": "@jupyter-widgets/base",
            "_model_module_version": "1.5.0",
            "_view_count": null,
            "_view_module_version": "1.2.0",
            "_model_module": "@jupyter-widgets/controls"
          }
        },
        "f2a1526d61ba41b09e8f0e7edd9462dc": {
          "model_module": "@jupyter-widgets/base",
          "model_name": "LayoutModel",
          "state": {
            "_view_name": "LayoutView",
            "grid_template_rows": null,
            "right": null,
            "justify_content": null,
            "_view_module": "@jupyter-widgets/base",
            "overflow": null,
            "_model_module_version": "1.2.0",
            "_view_count": null,
            "flex_flow": null,
            "width": null,
            "min_width": null,
            "border": null,
            "align_items": null,
            "bottom": null,
            "_model_module": "@jupyter-widgets/base",
            "top": null,
            "grid_column": null,
            "overflow_y": null,
            "overflow_x": null,
            "grid_auto_flow": null,
            "grid_area": null,
            "grid_template_columns": null,
            "flex": null,
            "_model_name": "LayoutModel",
            "justify_items": null,
            "grid_row": null,
            "max_height": null,
            "align_content": null,
            "visibility": null,
            "align_self": null,
            "height": null,
            "min_height": null,
            "padding": null,
            "grid_auto_rows": null,
            "grid_gap": null,
            "max_width": null,
            "order": null,
            "_view_module_version": "1.2.0",
            "grid_template_areas": null,
            "object_position": null,
            "object_fit": null,
            "grid_auto_columns": null,
            "margin": null,
            "display": null,
            "left": null
          }
        },
        "0a5ad45ef4344a3699ddb452451f7678": {
          "model_module": "@jupyter-widgets/controls",
          "model_name": "DescriptionStyleModel",
          "state": {
            "_view_name": "StyleView",
            "_model_name": "DescriptionStyleModel",
            "description_width": "",
            "_view_module": "@jupyter-widgets/base",
            "_model_module_version": "1.5.0",
            "_view_count": null,
            "_view_module_version": "1.2.0",
            "_model_module": "@jupyter-widgets/controls"
          }
        },
        "4bab6b257760414f9657b3bcea521661": {
          "model_module": "@jupyter-widgets/base",
          "model_name": "LayoutModel",
          "state": {
            "_view_name": "LayoutView",
            "grid_template_rows": null,
            "right": null,
            "justify_content": null,
            "_view_module": "@jupyter-widgets/base",
            "overflow": null,
            "_model_module_version": "1.2.0",
            "_view_count": null,
            "flex_flow": null,
            "width": null,
            "min_width": null,
            "border": null,
            "align_items": null,
            "bottom": null,
            "_model_module": "@jupyter-widgets/base",
            "top": null,
            "grid_column": null,
            "overflow_y": null,
            "overflow_x": null,
            "grid_auto_flow": null,
            "grid_area": null,
            "grid_template_columns": null,
            "flex": null,
            "_model_name": "LayoutModel",
            "justify_items": null,
            "grid_row": null,
            "max_height": null,
            "align_content": null,
            "visibility": null,
            "align_self": null,
            "height": null,
            "min_height": null,
            "padding": null,
            "grid_auto_rows": null,
            "grid_gap": null,
            "max_width": null,
            "order": null,
            "_view_module_version": "1.2.0",
            "grid_template_areas": null,
            "object_position": null,
            "object_fit": null,
            "grid_auto_columns": null,
            "margin": null,
            "display": null,
            "left": null
          }
        },
        "15918d6d06e249beb1977088aedf9a90": {
          "model_module": "@jupyter-widgets/controls",
          "model_name": "DescriptionStyleModel",
          "state": {
            "_view_name": "StyleView",
            "_model_name": "DescriptionStyleModel",
            "description_width": "",
            "_view_module": "@jupyter-widgets/base",
            "_model_module_version": "1.5.0",
            "_view_count": null,
            "_view_module_version": "1.2.0",
            "_model_module": "@jupyter-widgets/controls"
          }
        },
        "c8e44ccd18bc4ddf8c21c07d25ab831c": {
          "model_module": "@jupyter-widgets/base",
          "model_name": "LayoutModel",
          "state": {
            "_view_name": "LayoutView",
            "grid_template_rows": null,
            "right": null,
            "justify_content": null,
            "_view_module": "@jupyter-widgets/base",
            "overflow": null,
            "_model_module_version": "1.2.0",
            "_view_count": null,
            "flex_flow": null,
            "width": null,
            "min_width": null,
            "border": null,
            "align_items": null,
            "bottom": null,
            "_model_module": "@jupyter-widgets/base",
            "top": null,
            "grid_column": null,
            "overflow_y": null,
            "overflow_x": null,
            "grid_auto_flow": null,
            "grid_area": null,
            "grid_template_columns": null,
            "flex": null,
            "_model_name": "LayoutModel",
            "justify_items": null,
            "grid_row": null,
            "max_height": null,
            "align_content": null,
            "visibility": null,
            "align_self": null,
            "height": null,
            "min_height": null,
            "padding": null,
            "grid_auto_rows": null,
            "grid_gap": null,
            "max_width": null,
            "order": null,
            "_view_module_version": "1.2.0",
            "grid_template_areas": null,
            "object_position": null,
            "object_fit": null,
            "grid_auto_columns": null,
            "margin": null,
            "display": null,
            "left": null
          }
        },
        "e640deed02154d94a7bbde292ee796ce": {
          "model_module": "@jupyter-widgets/controls",
          "model_name": "DescriptionStyleModel",
          "state": {
            "_view_name": "StyleView",
            "_model_name": "DescriptionStyleModel",
            "description_width": "",
            "_view_module": "@jupyter-widgets/base",
            "_model_module_version": "1.5.0",
            "_view_count": null,
            "_view_module_version": "1.2.0",
            "_model_module": "@jupyter-widgets/controls"
          }
        },
        "31806996296c4d28970abe8eaae4b6bd": {
          "model_module": "@jupyter-widgets/base",
          "model_name": "LayoutModel",
          "state": {
            "_view_name": "LayoutView",
            "grid_template_rows": null,
            "right": null,
            "justify_content": null,
            "_view_module": "@jupyter-widgets/base",
            "overflow": null,
            "_model_module_version": "1.2.0",
            "_view_count": null,
            "flex_flow": null,
            "width": null,
            "min_width": null,
            "border": null,
            "align_items": null,
            "bottom": null,
            "_model_module": "@jupyter-widgets/base",
            "top": null,
            "grid_column": null,
            "overflow_y": null,
            "overflow_x": null,
            "grid_auto_flow": null,
            "grid_area": null,
            "grid_template_columns": null,
            "flex": null,
            "_model_name": "LayoutModel",
            "justify_items": null,
            "grid_row": null,
            "max_height": null,
            "align_content": null,
            "visibility": null,
            "align_self": null,
            "height": null,
            "min_height": null,
            "padding": null,
            "grid_auto_rows": null,
            "grid_gap": null,
            "max_width": null,
            "order": null,
            "_view_module_version": "1.2.0",
            "grid_template_areas": null,
            "object_position": null,
            "object_fit": null,
            "grid_auto_columns": null,
            "margin": null,
            "display": null,
            "left": null
          }
        },
        "225604af1a124f4e9f8a49e71dfbd03a": {
          "model_module": "@jupyter-widgets/controls",
          "model_name": "ButtonStyleModel",
          "state": {
            "_view_name": "StyleView",
            "_model_name": "ButtonStyleModel",
            "_view_module": "@jupyter-widgets/base",
            "_model_module_version": "1.5.0",
            "_view_count": null,
            "button_color": null,
            "font_weight": "",
            "_view_module_version": "1.2.0",
            "_model_module": "@jupyter-widgets/controls"
          }
        },
        "99526073fd2e427bb30798cfb88e5e86": {
          "model_module": "@jupyter-widgets/base",
          "model_name": "LayoutModel",
          "state": {
            "_view_name": "LayoutView",
            "grid_template_rows": null,
            "right": null,
            "justify_content": null,
            "_view_module": "@jupyter-widgets/base",
            "overflow": null,
            "_model_module_version": "1.2.0",
            "_view_count": null,
            "flex_flow": null,
            "width": null,
            "min_width": null,
            "border": null,
            "align_items": null,
            "bottom": null,
            "_model_module": "@jupyter-widgets/base",
            "top": null,
            "grid_column": null,
            "overflow_y": null,
            "overflow_x": null,
            "grid_auto_flow": null,
            "grid_area": null,
            "grid_template_columns": null,
            "flex": null,
            "_model_name": "LayoutModel",
            "justify_items": null,
            "grid_row": null,
            "max_height": null,
            "align_content": null,
            "visibility": null,
            "align_self": null,
            "height": null,
            "min_height": null,
            "padding": null,
            "grid_auto_rows": null,
            "grid_gap": null,
            "max_width": null,
            "order": null,
            "_view_module_version": "1.2.0",
            "grid_template_areas": null,
            "object_position": null,
            "object_fit": null,
            "grid_auto_columns": null,
            "margin": null,
            "display": null,
            "left": null
          }
        },
        "5140b42d0a5c4edda4fcb376d39b8461": {
          "model_module": "@jupyter-widgets/controls",
          "model_name": "DescriptionStyleModel",
          "state": {
            "_view_name": "StyleView",
            "_model_name": "DescriptionStyleModel",
            "description_width": "",
            "_view_module": "@jupyter-widgets/base",
            "_model_module_version": "1.5.0",
            "_view_count": null,
            "_view_module_version": "1.2.0",
            "_model_module": "@jupyter-widgets/controls"
          }
        },
        "375373c71e22408b84f612073a2c4b79": {
          "model_module": "@jupyter-widgets/base",
          "model_name": "LayoutModel",
          "state": {
            "_view_name": "LayoutView",
            "grid_template_rows": null,
            "right": null,
            "justify_content": null,
            "_view_module": "@jupyter-widgets/base",
            "overflow": null,
            "_model_module_version": "1.2.0",
            "_view_count": null,
            "flex_flow": null,
            "width": null,
            "min_width": null,
            "border": null,
            "align_items": null,
            "bottom": null,
            "_model_module": "@jupyter-widgets/base",
            "top": null,
            "grid_column": null,
            "overflow_y": null,
            "overflow_x": null,
            "grid_auto_flow": null,
            "grid_area": null,
            "grid_template_columns": null,
            "flex": null,
            "_model_name": "LayoutModel",
            "justify_items": null,
            "grid_row": null,
            "max_height": null,
            "align_content": null,
            "visibility": null,
            "align_self": null,
            "height": null,
            "min_height": null,
            "padding": null,
            "grid_auto_rows": null,
            "grid_gap": null,
            "max_width": null,
            "order": null,
            "_view_module_version": "1.2.0",
            "grid_template_areas": null,
            "object_position": null,
            "object_fit": null,
            "grid_auto_columns": null,
            "margin": null,
            "display": null,
            "left": null
          }
        },
        "9878665fd78c428a9ba2353f2b9cedd1": {
          "model_module": "@jupyter-widgets/controls",
          "model_name": "DescriptionStyleModel",
          "state": {
            "_view_name": "StyleView",
            "_model_name": "DescriptionStyleModel",
            "description_width": "",
            "_view_module": "@jupyter-widgets/base",
            "_model_module_version": "1.5.0",
            "_view_count": null,
            "_view_module_version": "1.2.0",
            "_model_module": "@jupyter-widgets/controls"
          }
        },
        "d829f396ec3645269c28050e2ec00333": {
          "model_module": "@jupyter-widgets/base",
          "model_name": "LayoutModel",
          "state": {
            "_view_name": "LayoutView",
            "grid_template_rows": null,
            "right": null,
            "justify_content": null,
            "_view_module": "@jupyter-widgets/base",
            "overflow": null,
            "_model_module_version": "1.2.0",
            "_view_count": null,
            "flex_flow": null,
            "width": null,
            "min_width": null,
            "border": null,
            "align_items": null,
            "bottom": null,
            "_model_module": "@jupyter-widgets/base",
            "top": null,
            "grid_column": null,
            "overflow_y": null,
            "overflow_x": null,
            "grid_auto_flow": null,
            "grid_area": null,
            "grid_template_columns": null,
            "flex": null,
            "_model_name": "LayoutModel",
            "justify_items": null,
            "grid_row": null,
            "max_height": null,
            "align_content": null,
            "visibility": null,
            "align_self": null,
            "height": null,
            "min_height": null,
            "padding": null,
            "grid_auto_rows": null,
            "grid_gap": null,
            "max_width": null,
            "order": null,
            "_view_module_version": "1.2.0",
            "grid_template_areas": null,
            "object_position": null,
            "object_fit": null,
            "grid_auto_columns": null,
            "margin": null,
            "display": null,
            "left": null
          }
        },
        "0e4d28f0f60c4ee1973a978a43fbe8fe": {
          "model_module": "@jupyter-widgets/controls",
          "model_name": "DescriptionStyleModel",
          "state": {
            "_view_name": "StyleView",
            "_model_name": "DescriptionStyleModel",
            "description_width": "",
            "_view_module": "@jupyter-widgets/base",
            "_model_module_version": "1.5.0",
            "_view_count": null,
            "_view_module_version": "1.2.0",
            "_model_module": "@jupyter-widgets/controls"
          }
        },
        "29101a2153334b44a09f880a8f8a7fb0": {
          "model_module": "@jupyter-widgets/base",
          "model_name": "LayoutModel",
          "state": {
            "_view_name": "LayoutView",
            "grid_template_rows": null,
            "right": null,
            "justify_content": null,
            "_view_module": "@jupyter-widgets/base",
            "overflow": null,
            "_model_module_version": "1.2.0",
            "_view_count": null,
            "flex_flow": null,
            "width": null,
            "min_width": null,
            "border": null,
            "align_items": null,
            "bottom": null,
            "_model_module": "@jupyter-widgets/base",
            "top": null,
            "grid_column": null,
            "overflow_y": null,
            "overflow_x": null,
            "grid_auto_flow": null,
            "grid_area": null,
            "grid_template_columns": null,
            "flex": null,
            "_model_name": "LayoutModel",
            "justify_items": null,
            "grid_row": null,
            "max_height": null,
            "align_content": null,
            "visibility": null,
            "align_self": null,
            "height": null,
            "min_height": null,
            "padding": null,
            "grid_auto_rows": null,
            "grid_gap": null,
            "max_width": null,
            "order": null,
            "_view_module_version": "1.2.0",
            "grid_template_areas": null,
            "object_position": null,
            "object_fit": null,
            "grid_auto_columns": null,
            "margin": null,
            "display": null,
            "left": null
          }
        },
        "d0b02f9d3dba41b5a9d23ff96e54b242": {
          "model_module": "@jupyter-widgets/controls",
          "model_name": "DescriptionStyleModel",
          "state": {
            "_view_name": "StyleView",
            "_model_name": "DescriptionStyleModel",
            "description_width": "",
            "_view_module": "@jupyter-widgets/base",
            "_model_module_version": "1.5.0",
            "_view_count": null,
            "_view_module_version": "1.2.0",
            "_model_module": "@jupyter-widgets/controls"
          }
        },
        "69912704ad5640398c11c0ee76f710cb": {
          "model_module": "@jupyter-widgets/base",
          "model_name": "LayoutModel",
          "state": {
            "_view_name": "LayoutView",
            "grid_template_rows": null,
            "right": null,
            "justify_content": null,
            "_view_module": "@jupyter-widgets/base",
            "overflow": null,
            "_model_module_version": "1.2.0",
            "_view_count": null,
            "flex_flow": null,
            "width": null,
            "min_width": null,
            "border": null,
            "align_items": null,
            "bottom": null,
            "_model_module": "@jupyter-widgets/base",
            "top": null,
            "grid_column": null,
            "overflow_y": null,
            "overflow_x": null,
            "grid_auto_flow": null,
            "grid_area": null,
            "grid_template_columns": null,
            "flex": null,
            "_model_name": "LayoutModel",
            "justify_items": null,
            "grid_row": null,
            "max_height": null,
            "align_content": null,
            "visibility": null,
            "align_self": null,
            "height": null,
            "min_height": null,
            "padding": null,
            "grid_auto_rows": null,
            "grid_gap": null,
            "max_width": null,
            "order": null,
            "_view_module_version": "1.2.0",
            "grid_template_areas": null,
            "object_position": null,
            "object_fit": null,
            "grid_auto_columns": null,
            "margin": null,
            "display": null,
            "left": null
          }
        },
        "d01afd6e25bc44d4aabf87f613bbeb4f": {
          "model_module": "@jupyter-widgets/controls",
          "model_name": "DescriptionStyleModel",
          "state": {
            "_view_name": "StyleView",
            "_model_name": "DescriptionStyleModel",
            "description_width": "",
            "_view_module": "@jupyter-widgets/base",
            "_model_module_version": "1.5.0",
            "_view_count": null,
            "_view_module_version": "1.2.0",
            "_model_module": "@jupyter-widgets/controls"
          }
        },
        "903bb904fb234d5798c53e01c5f163e0": {
          "model_module": "@jupyter-widgets/base",
          "model_name": "LayoutModel",
          "state": {
            "_view_name": "LayoutView",
            "grid_template_rows": null,
            "right": null,
            "justify_content": null,
            "_view_module": "@jupyter-widgets/base",
            "overflow": null,
            "_model_module_version": "1.2.0",
            "_view_count": null,
            "flex_flow": null,
            "width": null,
            "min_width": null,
            "border": null,
            "align_items": null,
            "bottom": null,
            "_model_module": "@jupyter-widgets/base",
            "top": null,
            "grid_column": null,
            "overflow_y": null,
            "overflow_x": null,
            "grid_auto_flow": null,
            "grid_area": null,
            "grid_template_columns": null,
            "flex": null,
            "_model_name": "LayoutModel",
            "justify_items": null,
            "grid_row": null,
            "max_height": null,
            "align_content": null,
            "visibility": null,
            "align_self": null,
            "height": null,
            "min_height": null,
            "padding": null,
            "grid_auto_rows": null,
            "grid_gap": null,
            "max_width": null,
            "order": null,
            "_view_module_version": "1.2.0",
            "grid_template_areas": null,
            "object_position": null,
            "object_fit": null,
            "grid_auto_columns": null,
            "margin": null,
            "display": null,
            "left": null
          }
        },
        "0aeed12bb6204341a045f2e6cca3443e": {
          "model_module": "@jupyter-widgets/controls",
          "model_name": "DescriptionStyleModel",
          "state": {
            "_view_name": "StyleView",
            "_model_name": "DescriptionStyleModel",
            "description_width": "",
            "_view_module": "@jupyter-widgets/base",
            "_model_module_version": "1.5.0",
            "_view_count": null,
            "_view_module_version": "1.2.0",
            "_model_module": "@jupyter-widgets/controls"
          }
        },
        "1487123411864c7b896938e91e75db33": {
          "model_module": "@jupyter-widgets/base",
          "model_name": "LayoutModel",
          "state": {
            "_view_name": "LayoutView",
            "grid_template_rows": null,
            "right": null,
            "justify_content": null,
            "_view_module": "@jupyter-widgets/base",
            "overflow": null,
            "_model_module_version": "1.2.0",
            "_view_count": null,
            "flex_flow": null,
            "width": null,
            "min_width": null,
            "border": null,
            "align_items": null,
            "bottom": null,
            "_model_module": "@jupyter-widgets/base",
            "top": null,
            "grid_column": null,
            "overflow_y": null,
            "overflow_x": null,
            "grid_auto_flow": null,
            "grid_area": null,
            "grid_template_columns": null,
            "flex": null,
            "_model_name": "LayoutModel",
            "justify_items": null,
            "grid_row": null,
            "max_height": null,
            "align_content": null,
            "visibility": null,
            "align_self": null,
            "height": null,
            "min_height": null,
            "padding": null,
            "grid_auto_rows": null,
            "grid_gap": null,
            "max_width": null,
            "order": null,
            "_view_module_version": "1.2.0",
            "grid_template_areas": null,
            "object_position": null,
            "object_fit": null,
            "grid_auto_columns": null,
            "margin": null,
            "display": null,
            "left": null
          }
        }
      }
    }
  },
  "cells": [
    {
      "cell_type": "markdown",
      "metadata": {
        "id": "view-in-github",
        "colab_type": "text"
      },
      "source": [
        "<a href=\"https://colab.research.google.com/github/italomarcelogit/scripts-diversos/blob/master/Simulador_de_Aluguel_ScikitLearn.ipynb\" target=\"_parent\"><img src=\"https://colab.research.google.com/assets/colab-badge.svg\" alt=\"Open In Colab\"/></a>"
      ]
    },
    {
      "cell_type": "code",
      "metadata": {
        "id": "PemrYx8NaJTT"
      },
      "source": [
        "import pandas as pd\n",
        "import numpy as np\n",
        "import warnings\n",
        "import math\n",
        "warnings.filterwarnings('ignore')"
      ],
      "execution_count": 1,
      "outputs": []
    },
    {
      "cell_type": "code",
      "metadata": {
        "id": "v3i5xEfajVvU"
      },
      "source": [
        "df = pd.read_csv('/content/drive/MyDrive/ESTUDOS/Data Science/datasets/alugueis.csv')"
      ],
      "execution_count": 2,
      "outputs": []
    },
    {
      "cell_type": "markdown",
      "metadata": {
        "id": "TQ-B4GelCqNH"
      },
      "source": [
        "# **Dataset preprocessing**"
      ]
    },
    {
      "cell_type": "code",
      "metadata": {
        "colab": {
          "base_uri": "https://localhost:8080/"
        },
        "id": "ApGsRhEzkU1H",
        "outputId": "5b62a6dc-8ad3-4f87-e35c-1079dd00c32f"
      },
      "source": [
        "df.info()"
      ],
      "execution_count": 3,
      "outputs": [
        {
          "output_type": "stream",
          "text": [
            "<class 'pandas.core.frame.DataFrame'>\n",
            "RangeIndex: 10692 entries, 0 to 10691\n",
            "Data columns (total 13 columns):\n",
            " #   Column               Non-Null Count  Dtype \n",
            "---  ------               --------------  ----- \n",
            " 0   city                 10692 non-null  object\n",
            " 1   area                 10692 non-null  int64 \n",
            " 2   rooms                10692 non-null  int64 \n",
            " 3   bathroom             10692 non-null  int64 \n",
            " 4   parking spaces       10692 non-null  int64 \n",
            " 5   floor                10692 non-null  object\n",
            " 6   animal               10692 non-null  object\n",
            " 7   furniture            10692 non-null  object\n",
            " 8   hoa (R$)             10692 non-null  int64 \n",
            " 9   rent amount (R$)     10692 non-null  int64 \n",
            " 10  property tax (R$)    10692 non-null  int64 \n",
            " 11  fire insurance (R$)  10692 non-null  int64 \n",
            " 12  total (R$)           10692 non-null  int64 \n",
            "dtypes: int64(9), object(4)\n",
            "memory usage: 1.1+ MB\n"
          ],
          "name": "stdout"
        }
      ]
    },
    {
      "cell_type": "code",
      "metadata": {
        "id": "keiZLhxvk2n-"
      },
      "source": [
        "colunas = ['cidade', 'area', 'quarto', 'banheiro', 'vagas_garagem', 'andar', \n",
        "           'aceita_animal', 'mobiliado', 'condominio', 'aluguel', 'iptu', \n",
        "           'seguro', 'total']"
      ],
      "execution_count": 4,
      "outputs": []
    },
    {
      "cell_type": "code",
      "metadata": {
        "id": "my1wNkaxlkDr"
      },
      "source": [
        "df.columns = colunas"
      ],
      "execution_count": 5,
      "outputs": []
    },
    {
      "cell_type": "code",
      "metadata": {
        "colab": {
          "base_uri": "https://localhost:8080/",
          "height": 117
        },
        "id": "DKVECiJQkIYK",
        "outputId": "84182421-b1c6-49ba-ed86-fd3da120d3a5"
      },
      "source": [
        "df.head(1)"
      ],
      "execution_count": 6,
      "outputs": [
        {
          "output_type": "execute_result",
          "data": {
            "text/html": [
              "<div>\n",
              "<style scoped>\n",
              "    .dataframe tbody tr th:only-of-type {\n",
              "        vertical-align: middle;\n",
              "    }\n",
              "\n",
              "    .dataframe tbody tr th {\n",
              "        vertical-align: top;\n",
              "    }\n",
              "\n",
              "    .dataframe thead th {\n",
              "        text-align: right;\n",
              "    }\n",
              "</style>\n",
              "<table border=\"1\" class=\"dataframe\">\n",
              "  <thead>\n",
              "    <tr style=\"text-align: right;\">\n",
              "      <th></th>\n",
              "      <th>cidade</th>\n",
              "      <th>area</th>\n",
              "      <th>quarto</th>\n",
              "      <th>banheiro</th>\n",
              "      <th>vagas_garagem</th>\n",
              "      <th>andar</th>\n",
              "      <th>aceita_animal</th>\n",
              "      <th>mobiliado</th>\n",
              "      <th>condominio</th>\n",
              "      <th>aluguel</th>\n",
              "      <th>iptu</th>\n",
              "      <th>seguro</th>\n",
              "      <th>total</th>\n",
              "    </tr>\n",
              "  </thead>\n",
              "  <tbody>\n",
              "    <tr>\n",
              "      <th>0</th>\n",
              "      <td>São Paulo</td>\n",
              "      <td>70</td>\n",
              "      <td>2</td>\n",
              "      <td>1</td>\n",
              "      <td>1</td>\n",
              "      <td>7</td>\n",
              "      <td>acept</td>\n",
              "      <td>furnished</td>\n",
              "      <td>2065</td>\n",
              "      <td>3300</td>\n",
              "      <td>211</td>\n",
              "      <td>42</td>\n",
              "      <td>5618</td>\n",
              "    </tr>\n",
              "  </tbody>\n",
              "</table>\n",
              "</div>"
            ],
            "text/plain": [
              "      cidade  area  quarto  banheiro  ...  aluguel iptu seguro total\n",
              "0  São Paulo    70       2         1  ...     3300  211     42  5618\n",
              "\n",
              "[1 rows x 13 columns]"
            ]
          },
          "metadata": {
            "tags": []
          },
          "execution_count": 6
        }
      ]
    },
    {
      "cell_type": "code",
      "metadata": {
        "colab": {
          "base_uri": "https://localhost:8080/",
          "height": 117
        },
        "id": "Rf5UiHkRjgLv",
        "outputId": "6d233649-d981-426c-c4a7-49320f0c79ee"
      },
      "source": [
        "df.sample()"
      ],
      "execution_count": 7,
      "outputs": [
        {
          "output_type": "execute_result",
          "data": {
            "text/html": [
              "<div>\n",
              "<style scoped>\n",
              "    .dataframe tbody tr th:only-of-type {\n",
              "        vertical-align: middle;\n",
              "    }\n",
              "\n",
              "    .dataframe tbody tr th {\n",
              "        vertical-align: top;\n",
              "    }\n",
              "\n",
              "    .dataframe thead th {\n",
              "        text-align: right;\n",
              "    }\n",
              "</style>\n",
              "<table border=\"1\" class=\"dataframe\">\n",
              "  <thead>\n",
              "    <tr style=\"text-align: right;\">\n",
              "      <th></th>\n",
              "      <th>cidade</th>\n",
              "      <th>area</th>\n",
              "      <th>quarto</th>\n",
              "      <th>banheiro</th>\n",
              "      <th>vagas_garagem</th>\n",
              "      <th>andar</th>\n",
              "      <th>aceita_animal</th>\n",
              "      <th>mobiliado</th>\n",
              "      <th>condominio</th>\n",
              "      <th>aluguel</th>\n",
              "      <th>iptu</th>\n",
              "      <th>seguro</th>\n",
              "      <th>total</th>\n",
              "    </tr>\n",
              "  </thead>\n",
              "  <tbody>\n",
              "    <tr>\n",
              "      <th>4503</th>\n",
              "      <td>São Paulo</td>\n",
              "      <td>300</td>\n",
              "      <td>3</td>\n",
              "      <td>4</td>\n",
              "      <td>1</td>\n",
              "      <td>-</td>\n",
              "      <td>acept</td>\n",
              "      <td>not furnished</td>\n",
              "      <td>0</td>\n",
              "      <td>4500</td>\n",
              "      <td>542</td>\n",
              "      <td>68</td>\n",
              "      <td>5110</td>\n",
              "    </tr>\n",
              "  </tbody>\n",
              "</table>\n",
              "</div>"
            ],
            "text/plain": [
              "         cidade  area  quarto  banheiro  ...  aluguel iptu seguro total\n",
              "4503  São Paulo   300       3         4  ...     4500  542     68  5110\n",
              "\n",
              "[1 rows x 13 columns]"
            ]
          },
          "metadata": {
            "tags": []
          },
          "execution_count": 7
        }
      ]
    },
    {
      "cell_type": "code",
      "metadata": {
        "colab": {
          "base_uri": "https://localhost:8080/",
          "height": 117
        },
        "id": "oHkz8sXNkS4p",
        "outputId": "0cb3a0ea-e937-4c0a-c99f-2090194c2a8c"
      },
      "source": [
        "df.tail(1)"
      ],
      "execution_count": 8,
      "outputs": [
        {
          "output_type": "execute_result",
          "data": {
            "text/html": [
              "<div>\n",
              "<style scoped>\n",
              "    .dataframe tbody tr th:only-of-type {\n",
              "        vertical-align: middle;\n",
              "    }\n",
              "\n",
              "    .dataframe tbody tr th {\n",
              "        vertical-align: top;\n",
              "    }\n",
              "\n",
              "    .dataframe thead th {\n",
              "        text-align: right;\n",
              "    }\n",
              "</style>\n",
              "<table border=\"1\" class=\"dataframe\">\n",
              "  <thead>\n",
              "    <tr style=\"text-align: right;\">\n",
              "      <th></th>\n",
              "      <th>cidade</th>\n",
              "      <th>area</th>\n",
              "      <th>quarto</th>\n",
              "      <th>banheiro</th>\n",
              "      <th>vagas_garagem</th>\n",
              "      <th>andar</th>\n",
              "      <th>aceita_animal</th>\n",
              "      <th>mobiliado</th>\n",
              "      <th>condominio</th>\n",
              "      <th>aluguel</th>\n",
              "      <th>iptu</th>\n",
              "      <th>seguro</th>\n",
              "      <th>total</th>\n",
              "    </tr>\n",
              "  </thead>\n",
              "  <tbody>\n",
              "    <tr>\n",
              "      <th>10691</th>\n",
              "      <td>São Paulo</td>\n",
              "      <td>80</td>\n",
              "      <td>2</td>\n",
              "      <td>1</td>\n",
              "      <td>0</td>\n",
              "      <td>-</td>\n",
              "      <td>acept</td>\n",
              "      <td>not furnished</td>\n",
              "      <td>0</td>\n",
              "      <td>1400</td>\n",
              "      <td>165</td>\n",
              "      <td>22</td>\n",
              "      <td>1587</td>\n",
              "    </tr>\n",
              "  </tbody>\n",
              "</table>\n",
              "</div>"
            ],
            "text/plain": [
              "          cidade  area  quarto  banheiro  ...  aluguel iptu seguro total\n",
              "10691  São Paulo    80       2         1  ...     1400  165     22  1587\n",
              "\n",
              "[1 rows x 13 columns]"
            ]
          },
          "metadata": {
            "tags": []
          },
          "execution_count": 8
        }
      ]
    },
    {
      "cell_type": "code",
      "metadata": {
        "colab": {
          "base_uri": "https://localhost:8080/"
        },
        "id": "Cdw6SKcYlySX",
        "outputId": "dfb45492-8f87-4d46-f1fd-51d732660ef3"
      },
      "source": [
        "df.info()"
      ],
      "execution_count": 9,
      "outputs": [
        {
          "output_type": "stream",
          "text": [
            "<class 'pandas.core.frame.DataFrame'>\n",
            "RangeIndex: 10692 entries, 0 to 10691\n",
            "Data columns (total 13 columns):\n",
            " #   Column         Non-Null Count  Dtype \n",
            "---  ------         --------------  ----- \n",
            " 0   cidade         10692 non-null  object\n",
            " 1   area           10692 non-null  int64 \n",
            " 2   quarto         10692 non-null  int64 \n",
            " 3   banheiro       10692 non-null  int64 \n",
            " 4   vagas_garagem  10692 non-null  int64 \n",
            " 5   andar          10692 non-null  object\n",
            " 6   aceita_animal  10692 non-null  object\n",
            " 7   mobiliado      10692 non-null  object\n",
            " 8   condominio     10692 non-null  int64 \n",
            " 9   aluguel        10692 non-null  int64 \n",
            " 10  iptu           10692 non-null  int64 \n",
            " 11  seguro         10692 non-null  int64 \n",
            " 12  total          10692 non-null  int64 \n",
            "dtypes: int64(9), object(4)\n",
            "memory usage: 1.1+ MB\n"
          ],
          "name": "stdout"
        }
      ]
    },
    {
      "cell_type": "code",
      "metadata": {
        "id": "O9-_t6IrmWn0"
      },
      "source": [
        "cidade = df.cidade.unique().tolist()"
      ],
      "execution_count": 10,
      "outputs": []
    },
    {
      "cell_type": "code",
      "metadata": {
        "colab": {
          "base_uri": "https://localhost:8080/"
        },
        "id": "XquEV9ZaokX9",
        "outputId": "696094dc-ff0e-4d32-afbc-e913b3b80ed6"
      },
      "source": [
        "df.cidade.head()"
      ],
      "execution_count": 11,
      "outputs": [
        {
          "output_type": "execute_result",
          "data": {
            "text/plain": [
              "0       São Paulo\n",
              "1       São Paulo\n",
              "2    Porto Alegre\n",
              "3    Porto Alegre\n",
              "4       São Paulo\n",
              "Name: cidade, dtype: object"
            ]
          },
          "metadata": {
            "tags": []
          },
          "execution_count": 11
        }
      ]
    },
    {
      "cell_type": "code",
      "metadata": {
        "id": "kX5o5sUJodb4"
      },
      "source": [
        "df['id_cidade'] = df.cidade.apply(lambda x: int(cidade.index(x)))"
      ],
      "execution_count": 12,
      "outputs": []
    },
    {
      "cell_type": "code",
      "metadata": {
        "colab": {
          "base_uri": "https://localhost:8080/",
          "height": 204
        },
        "id": "VGIC6DVxo2og",
        "outputId": "c9b6e6ed-3531-42e6-bea1-715996b3a4d8"
      },
      "source": [
        "df[['cidade', 'id_cidade']].head()"
      ],
      "execution_count": 13,
      "outputs": [
        {
          "output_type": "execute_result",
          "data": {
            "text/html": [
              "<div>\n",
              "<style scoped>\n",
              "    .dataframe tbody tr th:only-of-type {\n",
              "        vertical-align: middle;\n",
              "    }\n",
              "\n",
              "    .dataframe tbody tr th {\n",
              "        vertical-align: top;\n",
              "    }\n",
              "\n",
              "    .dataframe thead th {\n",
              "        text-align: right;\n",
              "    }\n",
              "</style>\n",
              "<table border=\"1\" class=\"dataframe\">\n",
              "  <thead>\n",
              "    <tr style=\"text-align: right;\">\n",
              "      <th></th>\n",
              "      <th>cidade</th>\n",
              "      <th>id_cidade</th>\n",
              "    </tr>\n",
              "  </thead>\n",
              "  <tbody>\n",
              "    <tr>\n",
              "      <th>0</th>\n",
              "      <td>São Paulo</td>\n",
              "      <td>0</td>\n",
              "    </tr>\n",
              "    <tr>\n",
              "      <th>1</th>\n",
              "      <td>São Paulo</td>\n",
              "      <td>0</td>\n",
              "    </tr>\n",
              "    <tr>\n",
              "      <th>2</th>\n",
              "      <td>Porto Alegre</td>\n",
              "      <td>1</td>\n",
              "    </tr>\n",
              "    <tr>\n",
              "      <th>3</th>\n",
              "      <td>Porto Alegre</td>\n",
              "      <td>1</td>\n",
              "    </tr>\n",
              "    <tr>\n",
              "      <th>4</th>\n",
              "      <td>São Paulo</td>\n",
              "      <td>0</td>\n",
              "    </tr>\n",
              "  </tbody>\n",
              "</table>\n",
              "</div>"
            ],
            "text/plain": [
              "         cidade  id_cidade\n",
              "0     São Paulo          0\n",
              "1     São Paulo          0\n",
              "2  Porto Alegre          1\n",
              "3  Porto Alegre          1\n",
              "4     São Paulo          0"
            ]
          },
          "metadata": {
            "tags": []
          },
          "execution_count": 13
        }
      ]
    },
    {
      "cell_type": "code",
      "metadata": {
        "colab": {
          "base_uri": "https://localhost:8080/"
        },
        "id": "NTT6yVymmi6K",
        "outputId": "9a31bb58-1a5b-4d2e-884a-2a0f7f020e32"
      },
      "source": [
        "df.andar.unique()"
      ],
      "execution_count": 14,
      "outputs": [
        {
          "output_type": "execute_result",
          "data": {
            "text/plain": [
              "array(['7', '20', '6', '2', '1', '-', '4', '3', '10', '11', '24', '9',\n",
              "       '8', '17', '18', '5', '13', '15', '16', '14', '26', '12', '21',\n",
              "       '19', '22', '27', '23', '35', '25', '46', '28', '29', '301', '51',\n",
              "       '32'], dtype=object)"
            ]
          },
          "metadata": {
            "tags": []
          },
          "execution_count": 14
        }
      ]
    },
    {
      "cell_type": "code",
      "metadata": {
        "colab": {
          "base_uri": "https://localhost:8080/"
        },
        "id": "6djRz3KOl6Ll",
        "outputId": "0a56982d-ddfb-43ce-fa8b-21e8ce241e4d"
      },
      "source": [
        "df.andar = df.andar.apply(lambda x: 0 if x == '-' else int(x))\n",
        "df.andar = df.andar.apply(pd.to_numeric)\n",
        "df.andar.unique()"
      ],
      "execution_count": 15,
      "outputs": [
        {
          "output_type": "execute_result",
          "data": {
            "text/plain": [
              "array([  7,  20,   6,   2,   1,   0,   4,   3,  10,  11,  24,   9,   8,\n",
              "        17,  18,   5,  13,  15,  16,  14,  26,  12,  21,  19,  22,  27,\n",
              "        23,  35,  25,  46,  28,  29, 301,  51,  32])"
            ]
          },
          "metadata": {
            "tags": []
          },
          "execution_count": 15
        }
      ]
    },
    {
      "cell_type": "code",
      "metadata": {
        "colab": {
          "base_uri": "https://localhost:8080/"
        },
        "id": "DfJP5WkqnBBU",
        "outputId": "29155342-47c0-454f-c07b-fe4baaac9d74"
      },
      "source": [
        "df.aceita_animal.unique()"
      ],
      "execution_count": 16,
      "outputs": [
        {
          "output_type": "execute_result",
          "data": {
            "text/plain": [
              "array(['acept', 'not acept'], dtype=object)"
            ]
          },
          "metadata": {
            "tags": []
          },
          "execution_count": 16
        }
      ]
    },
    {
      "cell_type": "code",
      "metadata": {
        "colab": {
          "base_uri": "https://localhost:8080/"
        },
        "id": "FpI6f6BsnPVC",
        "outputId": "99f32fad-918c-4b43-d426-f3f009ea4169"
      },
      "source": [
        "# aceita_animal, sim == 1 e nao == 2\n",
        "df.aceita_animal = df.aceita_animal.apply(lambda x: 1 if x == 'acept' else 2)\n",
        "df.aceita_animal = df.aceita_animal.apply(pd.to_numeric)\n",
        "df.aceita_animal.unique()"
      ],
      "execution_count": 17,
      "outputs": [
        {
          "output_type": "execute_result",
          "data": {
            "text/plain": [
              "array([1, 2])"
            ]
          },
          "metadata": {
            "tags": []
          },
          "execution_count": 17
        }
      ]
    },
    {
      "cell_type": "code",
      "metadata": {
        "colab": {
          "base_uri": "https://localhost:8080/"
        },
        "id": "bK_AE6trngIa",
        "outputId": "e8e6ba2c-34f1-4507-9d86-7af441cd7cd8"
      },
      "source": [
        "df.mobiliado.unique()"
      ],
      "execution_count": 18,
      "outputs": [
        {
          "output_type": "execute_result",
          "data": {
            "text/plain": [
              "array(['furnished', 'not furnished'], dtype=object)"
            ]
          },
          "metadata": {
            "tags": []
          },
          "execution_count": 18
        }
      ]
    },
    {
      "cell_type": "code",
      "metadata": {
        "colab": {
          "base_uri": "https://localhost:8080/"
        },
        "id": "VBBmgO7-nuUF",
        "outputId": "4663a9dd-ea83-4b57-fefa-1cc3ba6e673f"
      },
      "source": [
        "# mobilidade, sim == 1 e nao == 2\n",
        "df.mobiliado = df.mobiliado.apply(lambda x: 1 if x == 'furnished' else 2)\n",
        "df.mobiliado = df.mobiliado.apply(pd.to_numeric)\n",
        "df.mobiliado.unique()"
      ],
      "execution_count": 19,
      "outputs": [
        {
          "output_type": "execute_result",
          "data": {
            "text/plain": [
              "array([1, 2])"
            ]
          },
          "metadata": {
            "tags": []
          },
          "execution_count": 19
        }
      ]
    },
    {
      "cell_type": "code",
      "metadata": {
        "colab": {
          "base_uri": "https://localhost:8080/"
        },
        "id": "3z7A_raQn1Z0",
        "outputId": "3dc6f2f3-afee-4f09-9e11-7f4742e96323"
      },
      "source": [
        "df.info()"
      ],
      "execution_count": 20,
      "outputs": [
        {
          "output_type": "stream",
          "text": [
            "<class 'pandas.core.frame.DataFrame'>\n",
            "RangeIndex: 10692 entries, 0 to 10691\n",
            "Data columns (total 14 columns):\n",
            " #   Column         Non-Null Count  Dtype \n",
            "---  ------         --------------  ----- \n",
            " 0   cidade         10692 non-null  object\n",
            " 1   area           10692 non-null  int64 \n",
            " 2   quarto         10692 non-null  int64 \n",
            " 3   banheiro       10692 non-null  int64 \n",
            " 4   vagas_garagem  10692 non-null  int64 \n",
            " 5   andar          10692 non-null  int64 \n",
            " 6   aceita_animal  10692 non-null  int64 \n",
            " 7   mobiliado      10692 non-null  int64 \n",
            " 8   condominio     10692 non-null  int64 \n",
            " 9   aluguel        10692 non-null  int64 \n",
            " 10  iptu           10692 non-null  int64 \n",
            " 11  seguro         10692 non-null  int64 \n",
            " 12  total          10692 non-null  int64 \n",
            " 13  id_cidade      10692 non-null  int64 \n",
            "dtypes: int64(13), object(1)\n",
            "memory usage: 1.1+ MB\n"
          ],
          "name": "stdout"
        }
      ]
    },
    {
      "cell_type": "code",
      "metadata": {
        "colab": {
          "base_uri": "https://localhost:8080/"
        },
        "id": "hVqt6Zwln508",
        "outputId": "69fc418b-763b-4aac-b838-94124eb4bf68"
      },
      "source": [
        "df.isnull().sum()"
      ],
      "execution_count": 21,
      "outputs": [
        {
          "output_type": "execute_result",
          "data": {
            "text/plain": [
              "cidade           0\n",
              "area             0\n",
              "quarto           0\n",
              "banheiro         0\n",
              "vagas_garagem    0\n",
              "andar            0\n",
              "aceita_animal    0\n",
              "mobiliado        0\n",
              "condominio       0\n",
              "aluguel          0\n",
              "iptu             0\n",
              "seguro           0\n",
              "total            0\n",
              "id_cidade        0\n",
              "dtype: int64"
            ]
          },
          "metadata": {
            "tags": []
          },
          "execution_count": 21
        }
      ]
    },
    {
      "cell_type": "code",
      "metadata": {
        "id": "xhjX2XfWpJTy"
      },
      "source": [
        "def correlacao(dataframe, target, indice=0.5, exibe=True):\n",
        "    corr = dataframe.corr()\n",
        "    print(f'\\nAnalisando a correlacao das Features com:\\n'\n",
        "          f'Target: {target}\\n'\n",
        "          f'Valor min de ref.: {indice}\\n'\n",
        "          f'\\nPrincipais Features:')\n",
        "    if exibe:\n",
        "        print(corr)\n",
        "\n",
        "    correlacoes = corr[target]\n",
        "    features = []\n",
        "    for i in range(0, len(correlacoes)):\n",
        "        if correlacoes[i] > indice and correlacoes.index[i] != target:\n",
        "            print(correlacoes.index[i], f'{correlacoes[i]:.2f}')\n",
        "            features.append(correlacoes.index[i])\n",
        "    return features"
      ],
      "execution_count": 22,
      "outputs": []
    },
    {
      "cell_type": "code",
      "metadata": {
        "colab": {
          "base_uri": "https://localhost:8080/"
        },
        "id": "3j_eiALVpr13",
        "outputId": "3fae11d8-f50b-479c-db8a-36b23f6e4c37"
      },
      "source": [
        "target = 'aluguel'\n",
        "correlacao(df, target, indice=0.1, exibe=False)"
      ],
      "execution_count": 23,
      "outputs": [
        {
          "output_type": "stream",
          "text": [
            "\n",
            "Analisando a correlacao das Features com:\n",
            "Target: aluguel\n",
            "Valor min de ref.: 0.1\n",
            "\n",
            "Principais Features:\n",
            "area 0.18\n",
            "quarto 0.54\n",
            "banheiro 0.67\n",
            "vagas_garagem 0.58\n",
            "iptu 0.11\n",
            "seguro 0.99\n",
            "total 0.26\n"
          ],
          "name": "stdout"
        },
        {
          "output_type": "execute_result",
          "data": {
            "text/plain": [
              "['area', 'quarto', 'banheiro', 'vagas_garagem', 'iptu', 'seguro', 'total']"
            ]
          },
          "metadata": {
            "tags": []
          },
          "execution_count": 23
        }
      ]
    },
    {
      "cell_type": "code",
      "metadata": {
        "id": "2BaN4KmeqX1a"
      },
      "source": [
        "features = ['area', 'quarto', 'banheiro', 'vagas_garagem', 'id_cidade', 'andar',\n",
        "            'aceita_animal', 'mobiliado', 'condominio']"
      ],
      "execution_count": 24,
      "outputs": []
    },
    {
      "cell_type": "markdown",
      "metadata": {
        "id": "WaBL1vRuq3UW"
      },
      "source": [
        "# **Dataset - Treino e teste**"
      ]
    },
    {
      "cell_type": "code",
      "metadata": {
        "id": "54wxOlKzrEYW"
      },
      "source": [
        "# ML Algoritmos\n",
        "from sklearn.ensemble import RandomForestRegressor, GradientBoostingRegressor\n",
        "from sklearn.tree import DecisionTreeRegressor\n",
        "from sklearn.linear_model import LinearRegression, LogisticRegression\n",
        "from sklearn.svm import SVR\n",
        "from sklearn.naive_bayes import GaussianNB\n",
        "from sklearn.dummy import DummyRegressor\n"
      ],
      "execution_count": 25,
      "outputs": []
    },
    {
      "cell_type": "code",
      "metadata": {
        "id": "cr3EZV2ErdDR"
      },
      "source": [
        "# ML selecao de dados de treino e teste\n",
        "from sklearn.model_selection import train_test_split\n",
        "# calcular o menor erro medio absoluto entre 2 dados apresentados\n",
        "from sklearn import metrics"
      ],
      "execution_count": 26,
      "outputs": []
    },
    {
      "cell_type": "code",
      "metadata": {
        "id": "FtRtY3ZxqUdF"
      },
      "source": [
        "X = df[features]\n",
        "y = df[target]\n",
        "Xtreino, Xteste, ytreino, yteste = train_test_split(X, y, test_size=0.3, random_state=42)"
      ],
      "execution_count": 27,
      "outputs": []
    },
    {
      "cell_type": "markdown",
      "metadata": {
        "id": "CpCrrUmurvLf"
      },
      "source": [
        "# **Dataset - Escolha do Modelo**"
      ]
    },
    {
      "cell_type": "code",
      "metadata": {
        "id": "2g3Ro75ouDGG"
      },
      "source": [
        "# treinando\n",
        "def melhorModelo(mlData, mlAlgoritmo, varFeatures, varTarget, exibe=False, exibeGrafico=False):\n",
        "    # vamos selecionar os dados de treino e testes\n",
        "\n",
        "    print(f'\\n\\nAnalisando qual o melhor algoritmo de ML - Regressores')\n",
        "\n",
        "    X = mlData[varFeatures]\n",
        "    y = mlData[varTarget]\n",
        "\n",
        "    Xtreino, Xteste, ytreino, yteste = train_test_split(X, y, test_size=0.3, random_state=123)\n",
        "\n",
        "    # aplicando algoritmo\n",
        "    reg = []\n",
        "    mae = []\n",
        "    sco = []\n",
        "\n",
        "    for regressor in mlAlgoritmo:\n",
        "        modelo = regressor\n",
        "\n",
        "        # treinando o modelo e conferindo a acuracia\n",
        "        modelo.fit(Xtreino, ytreino)\n",
        "        sco.append(modelo.score(Xtreino, ytreino))\n",
        "        previsao = modelo.predict(Xteste)\n",
        "        mae.append(round(metrics.mean_absolute_error(yteste, previsao), 2))\n",
        "        reg.append(regressor)\n",
        "\n",
        "    meuMae = pd.DataFrame(columns=['Regressor', 'mae', 'score'])\n",
        "    meuMae['Regressor'] = reg\n",
        "    meuMae['mae'] = mae\n",
        "    meuMae['score'] = sco\n",
        "    meuMae = meuMae.sort_values(by='mae', ascending=True)\n",
        "    if exibe:\n",
        "        print(tabulate(meuMae, headers='keys', tablefmt='psql'))\n",
        "\n",
        "    if exibeGrafico:\n",
        "\n",
        "        resultado = meuMae.values[0][0].predict(Xteste)\n",
        "        ax1 = plt.subplot(322)\n",
        "        ax1.set_title('Distribuição - Valores de Aluguel')\n",
        "        sns.distplot(resultado)\n",
        "        ax2 = plt.subplot(321)\n",
        "        ax2.set_title('Visualização dos Resultados - Valores do Aluguel')\n",
        "        sns.boxplot(resultado)\n",
        "\n",
        "        ax3 = plt.subplot(312)\n",
        "        ax3.set_title('Performance - Algorítmos ML - Regressores')\n",
        "        g = sns.barplot(x=meuMae['Regressor'], y=meuMae['mae'])\n",
        "        g.set_xticklabels(ax3.get_xticklabels(), rotation=30)\n",
        "\n",
        "        ax4 = plt.subplot(312)\n",
        "        ax4.set_title('Performance - Score - Regressores')\n",
        "        g = sns.barplot(x=meuMae['Regressor'], y=meuMae['score'])\n",
        "        g.set_xticklabels(ax4.get_xticklabels(), rotation=30)\n",
        "        plt.show()\n",
        "    print(f'\\n\\nFim da analise - Regressores')\n",
        "    return meuMae"
      ],
      "execution_count": 28,
      "outputs": []
    },
    {
      "cell_type": "code",
      "metadata": {
        "id": "HOEboyzTsagU"
      },
      "source": [
        "def mlAlgoritmos():\n",
        "    regressores = [\n",
        "        DecisionTreeRegressor(random_state=1),\n",
        "        RandomForestRegressor(n_estimators=20, random_state=2),\n",
        "        # SVR(),\n",
        "        # LinearRegression(),\n",
        "        # GradientBoostingRegressor(n_estimators=20, random_state=3),\n",
        "        # DummyRegressor(),\n",
        "        # LogisticRegression(random_state=4),\n",
        "        # GaussianNB()\n",
        "    ]\n",
        "    return regressores"
      ],
      "execution_count": 29,
      "outputs": []
    },
    {
      "cell_type": "code",
      "metadata": {
        "colab": {
          "base_uri": "https://localhost:8080/"
        },
        "id": "35SIT2KHuXxe",
        "outputId": "ce3c181c-015d-4266-8ae6-17a5bee9af51"
      },
      "source": [
        "modelo = melhorModelo(df, mlAlgoritmos(), features, target).values[0][0]"
      ],
      "execution_count": 30,
      "outputs": [
        {
          "output_type": "stream",
          "text": [
            "\n",
            "\n",
            "Analisando qual o melhor algoritmo de ML - Regressores\n",
            "\n",
            "\n",
            "Fim da analise - Regressores\n"
          ],
          "name": "stdout"
        }
      ]
    },
    {
      "cell_type": "code",
      "metadata": {
        "colab": {
          "base_uri": "https://localhost:8080/"
        },
        "id": "jzJkf_lurocu",
        "outputId": "72cc5574-8a03-4b1a-9ccd-c3b073b55d46"
      },
      "source": [
        "modelo.fit(Xtreino, ytreino)"
      ],
      "execution_count": 31,
      "outputs": [
        {
          "output_type": "execute_result",
          "data": {
            "text/plain": [
              "RandomForestRegressor(bootstrap=True, ccp_alpha=0.0, criterion='mse',\n",
              "                      max_depth=None, max_features='auto', max_leaf_nodes=None,\n",
              "                      max_samples=None, min_impurity_decrease=0.0,\n",
              "                      min_impurity_split=None, min_samples_leaf=1,\n",
              "                      min_samples_split=2, min_weight_fraction_leaf=0.0,\n",
              "                      n_estimators=20, n_jobs=None, oob_score=False,\n",
              "                      random_state=2, verbose=0, warm_start=False)"
            ]
          },
          "metadata": {
            "tags": []
          },
          "execution_count": 31
        }
      ]
    },
    {
      "cell_type": "markdown",
      "metadata": {
        "id": "FQjiZNDDxzSM"
      },
      "source": [
        "# **Dataset - Data Cleaning**"
      ]
    },
    {
      "cell_type": "code",
      "metadata": {
        "id": "PrAAGB9qxvxj"
      },
      "source": [
        "def removeOutliers(out, varTarget):\n",
        "    print(f'\\nRemovendo Outliers - {len(out)} registros')\n",
        "    base = out[varTarget]\n",
        "\n",
        "    # criando quantis\n",
        "    qtl1 = base.quantile(.25)  # exiba o valor da variavel\n",
        "    qtl3 = base.quantile(.75)\n",
        "\n",
        "    # calculando a diferenca entre os dois quantis, conhecido como interquartile range\n",
        "    iqr = qtl3 - qtl1\n",
        "    # print(qtl1, qtl3, iqr)\n",
        "\n",
        "    # gerando os limites\n",
        "    baixo = qtl1 - 1.5 * iqr\n",
        "    alto = qtl3 + 1.5 * iqr\n",
        "\n",
        "    # remover os outliers\n",
        "    novodf = pd.DataFrame()\n",
        "\n",
        "    limites = out[varTarget].between(left=baixo, right=alto, inclusive=True)\n",
        "    novodf = pd.concat([novodf, out[limites]])\n",
        "    print(f'\\nOutliers removidos - {len(novodf)} registros')\n",
        "    return novodf.copy()"
      ],
      "execution_count": 32,
      "outputs": []
    },
    {
      "cell_type": "code",
      "metadata": {
        "colab": {
          "base_uri": "https://localhost:8080/"
        },
        "id": "3GuZuQ3syEWX",
        "outputId": "192161f9-ae0d-4ea5-f66a-e4edc7be7313"
      },
      "source": [
        "dfc = removeOutliers(df, target)"
      ],
      "execution_count": 33,
      "outputs": [
        {
          "output_type": "stream",
          "text": [
            "\n",
            "Removendo Outliers - 10692 registros\n",
            "\n",
            "Outliers removidos - 9977 registros\n"
          ],
          "name": "stdout"
        }
      ]
    },
    {
      "cell_type": "markdown",
      "metadata": {
        "id": "FXHV4khazcfJ"
      },
      "source": [
        "# **Dataset - Forecast**"
      ]
    },
    {
      "cell_type": "code",
      "metadata": {
        "id": "-Agrwkqsza78"
      },
      "source": [
        "# previsao\n",
        "def previsao(dfEscolhida, mlAlgoritmo, varPrevisao, valorPrevisao, \n",
        "             varTarget, exibe=True):\n",
        "\n",
        "  x = dfEscolhida[varPrevisao]\n",
        "  y = dfEscolhida[varTarget]\n",
        "\n",
        "  modelo = mlAlgoritmo\n",
        "  modelo.fit(x, y)\n",
        "\n",
        "  previsao = float(modelo.predict([valorPrevisao]))\n",
        "  cond = ''\n",
        "  if exibe:\n",
        "    print(f'Previsão de valor:\\n'\n",
        "          f'Total de Imóveis Analisados: {len(dfEscolhida)}\\n'\n",
        "          # f'Algorítmo aplicado: {mlAlgoritmo}\\n'\n",
        "          f'características informadas:')\n",
        "    \n",
        "  for i in range(0, len(varPrevisao)):\n",
        "    if exibe:\n",
        "      print(f' - {varPrevisao[i]}: {valorPrevisao[i]}')\n",
        "    cond += f\" and `{varPrevisao[i]}` == {valorPrevisao[i]}\"\n",
        "    \n",
        "  vp = round(previsao, 2)\n",
        "  vm = round(dfEscolhida.query(cond[5:])[varTarget].mean(), 2)\n",
        "  if exibe:\n",
        "    print(f\"Valor previsto: R${vp} \\n\"\n",
        "          f\"Valor médio: R${vm}\\n\\n\")\n",
        "    variaveis = varPrevisao\n",
        "    variaveis.append(varTarget)\n",
        "    print(dfEscolhida.query(cond[5:])[variaveis].head(10).sort_values(by=varTarget, ascending=False))\n",
        "  return vp, vm"
      ],
      "execution_count": 34,
      "outputs": []
    },
    {
      "cell_type": "code",
      "metadata": {
        "colab": {
          "base_uri": "https://localhost:8080/"
        },
        "id": "R5i4v80Jz3M4",
        "outputId": "320bd308-6980-4f37-fc09-c478cfb07dac"
      },
      "source": [
        "previsao(dfEscolhida=dfc, mlAlgoritmo=modelo,\n",
        "         varPrevisao=['quarto'],\n",
        "         valorPrevisao=[2], \n",
        "         varTarget=target)"
      ],
      "execution_count": 35,
      "outputs": [
        {
          "output_type": "stream",
          "text": [
            "Previsão de valor:\n",
            "Total de Imóveis Analisados: 9977\n",
            "características informadas:\n",
            " - quarto: 2\n",
            "Valor previsto: R$2307.82 \n",
            "Valor médio: R$2306.91\n",
            "\n",
            "\n",
            "    quarto  aluguel\n",
            "14       2     4370\n",
            "17       2     3500\n",
            "0        2     3300\n",
            "16       2     3000\n",
            "32       2     2550\n",
            "6        2     1900\n",
            "27       2     1500\n",
            "18       2     1220\n",
            "3        2     1112\n",
            "30       2     1068\n"
          ],
          "name": "stdout"
        },
        {
          "output_type": "execute_result",
          "data": {
            "text/plain": [
              "(2307.82, 2306.91)"
            ]
          },
          "metadata": {
            "tags": []
          },
          "execution_count": 35
        }
      ]
    },
    {
      "cell_type": "code",
      "metadata": {
        "colab": {
          "base_uri": "https://localhost:8080/"
        },
        "id": "rTEFSxbM312P",
        "outputId": "a5cb20d9-dfd3-4d21-f9d3-483bddcc579f"
      },
      "source": [
        "previsao(dfEscolhida=dfc, mlAlgoritmo=modelo,\n",
        "         varPrevisao=['quarto', 'banheiro'],\n",
        "         valorPrevisao=[2, 2], \n",
        "         varTarget=target)"
      ],
      "execution_count": 36,
      "outputs": [
        {
          "output_type": "stream",
          "text": [
            "Previsão de valor:\n",
            "Total de Imóveis Analisados: 9977\n",
            "características informadas:\n",
            " - quarto: 2\n",
            " - banheiro: 2\n",
            "Valor previsto: R$2838.17 \n",
            "Valor médio: R$2833.88\n",
            "\n",
            "\n",
            "    quarto  banheiro  aluguel\n",
            "83       2         2     4500\n",
            "14       2         2     4370\n",
            "16       2         2     3000\n",
            "89       2         2     2800\n",
            "94       2         2     2800\n",
            "32       2         2     2550\n",
            "85       2         2     2500\n",
            "87       2         2     1550\n",
            "27       2         2     1500\n",
            "30       2         2     1068\n"
          ],
          "name": "stdout"
        },
        {
          "output_type": "execute_result",
          "data": {
            "text/plain": [
              "(2838.17, 2833.88)"
            ]
          },
          "metadata": {
            "tags": []
          },
          "execution_count": 36
        }
      ]
    },
    {
      "cell_type": "code",
      "metadata": {
        "colab": {
          "base_uri": "https://localhost:8080/"
        },
        "id": "VKORKPF75IDL",
        "outputId": "1d175684-0f5b-417d-f6a0-dcb3d5c47796"
      },
      "source": [
        "previsao(dfEscolhida=dfc, mlAlgoritmo=modelo,\n",
        "         varPrevisao=['area', 'quarto', 'banheiro'],\n",
        "         valorPrevisao=[90, 2, 2], \n",
        "         varTarget=target)"
      ],
      "execution_count": 37,
      "outputs": [
        {
          "output_type": "stream",
          "text": [
            "Previsão de valor:\n",
            "Total de Imóveis Analisados: 9977\n",
            "características informadas:\n",
            " - area: 90\n",
            " - quarto: 2\n",
            " - banheiro: 2\n",
            "Valor previsto: R$2894.87 \n",
            "Valor médio: R$3007.85\n",
            "\n",
            "\n",
            "      area  quarto  banheiro  aluguel\n",
            "413     90       2         2    10000\n",
            "206     90       2         2     6500\n",
            "1087    90       2         2     4850\n",
            "487     90       2         2     4100\n",
            "569     90       2         2     4000\n",
            "495     90       2         2     2500\n",
            "877     90       2         2     2500\n",
            "179     90       2         2     2000\n",
            "1318    90       2         2     1800\n",
            "1370    90       2         2     1400\n"
          ],
          "name": "stdout"
        },
        {
          "output_type": "execute_result",
          "data": {
            "text/plain": [
              "(2894.87, 3007.85)"
            ]
          },
          "metadata": {
            "tags": []
          },
          "execution_count": 37
        }
      ]
    },
    {
      "cell_type": "code",
      "metadata": {
        "colab": {
          "base_uri": "https://localhost:8080/"
        },
        "id": "sjAmZ1sO5UxE",
        "outputId": "3aa11299-b3f9-40ca-e079-5741d1c6e1da"
      },
      "source": [
        "previsao(dfEscolhida=dfc, mlAlgoritmo=modelo,\n",
        "         varPrevisao=['quarto', 'banheiro', 'area', 'vagas_garagem'],\n",
        "         valorPrevisao=[2, 2, 90, 2], \n",
        "         varTarget=target)"
      ],
      "execution_count": 38,
      "outputs": [
        {
          "output_type": "stream",
          "text": [
            "Previsão de valor:\n",
            "Total de Imóveis Analisados: 9977\n",
            "características informadas:\n",
            " - quarto: 2\n",
            " - banheiro: 2\n",
            " - area: 90\n",
            " - vagas_garagem: 2\n",
            "Valor previsto: R$3793.67 \n",
            "Valor médio: R$3903.92\n",
            "\n",
            "\n",
            "      quarto  banheiro  area  vagas_garagem  aluguel\n",
            "413        2         2    90              2    10000\n",
            "1087       2         2    90              2     4850\n",
            "3612       2         2    90              2     4500\n",
            "487        2         2    90              2     4100\n",
            "569        2         2    90              2     4000\n",
            "6412       2         2    90              2     3640\n",
            "4955       2         2    90              2     2600\n",
            "179        2         2    90              2     2000\n",
            "2527       2         2    90              2     1917\n",
            "1370       2         2    90              2     1400\n"
          ],
          "name": "stdout"
        },
        {
          "output_type": "execute_result",
          "data": {
            "text/plain": [
              "(3793.67, 3903.92)"
            ]
          },
          "metadata": {
            "tags": []
          },
          "execution_count": 38
        }
      ]
    },
    {
      "cell_type": "code",
      "metadata": {
        "colab": {
          "base_uri": "https://localhost:8080/"
        },
        "id": "m1klAt_Q5kxe",
        "outputId": "7685bbe4-503d-46dd-9e7c-73e627cff879"
      },
      "source": [
        "previsao(dfEscolhida=dfc, mlAlgoritmo=modelo,\n",
        "         varPrevisao=['quarto', 'banheiro', 'area', 'vagas_garagem', \n",
        "                      'aceita_animal'],\n",
        "         valorPrevisao=[2, 2, 90, 2, 1], \n",
        "         varTarget=target)"
      ],
      "execution_count": 39,
      "outputs": [
        {
          "output_type": "stream",
          "text": [
            "Previsão de valor:\n",
            "Total de Imóveis Analisados: 9977\n",
            "características informadas:\n",
            " - quarto: 2\n",
            " - banheiro: 2\n",
            " - area: 90\n",
            " - vagas_garagem: 2\n",
            " - aceita_animal: 1\n",
            "Valor previsto: R$3351.69 \n",
            "Valor médio: R$3435.29\n",
            "\n",
            "\n",
            "      quarto  banheiro  area  vagas_garagem  aceita_animal  aluguel\n",
            "1087       2         2    90              2              1     4850\n",
            "3612       2         2    90              2              1     4500\n",
            "487        2         2    90              2              1     4100\n",
            "6412       2         2    90              2              1     3640\n",
            "6742       2         2    90              2              1     3040\n",
            "179        2         2    90              2              1     2000\n",
            "2527       2         2    90              2              1     1917\n"
          ],
          "name": "stdout"
        },
        {
          "output_type": "execute_result",
          "data": {
            "text/plain": [
              "(3351.69, 3435.29)"
            ]
          },
          "metadata": {
            "tags": []
          },
          "execution_count": 39
        }
      ]
    },
    {
      "cell_type": "code",
      "metadata": {
        "colab": {
          "base_uri": "https://localhost:8080/"
        },
        "id": "msHWayip57Ny",
        "outputId": "28cf5556-bfe9-4272-8f75-c0369165c663"
      },
      "source": [
        "previsao(dfEscolhida=dfc, mlAlgoritmo=modelo,\n",
        "         varPrevisao=['quarto', 'banheiro', 'area', 'vagas_garagem', \n",
        "                      'aceita_animal', 'mobiliado', 'id_cidade'],\n",
        "         valorPrevisao=[2, 2, 90, 2, 1, 1, 4], \n",
        "         varTarget=target)"
      ],
      "execution_count": 40,
      "outputs": [
        {
          "output_type": "stream",
          "text": [
            "Previsão de valor:\n",
            "Total de Imóveis Analisados: 9977\n",
            "características informadas:\n",
            " - quarto: 2\n",
            " - banheiro: 2\n",
            " - area: 90\n",
            " - vagas_garagem: 2\n",
            " - aceita_animal: 1\n",
            " - mobiliado: 1\n",
            " - id_cidade: 4\n",
            "Valor previsto: R$4244.17 \n",
            "Valor médio: R$nan\n",
            "\n",
            "\n",
            "Empty DataFrame\n",
            "Columns: [quarto, banheiro, area, vagas_garagem, aceita_animal, mobiliado, id_cidade, aluguel]\n",
            "Index: []\n"
          ],
          "name": "stdout"
        },
        {
          "output_type": "execute_result",
          "data": {
            "text/plain": [
              "(4244.17, nan)"
            ]
          },
          "metadata": {
            "tags": []
          },
          "execution_count": 40
        }
      ]
    },
    {
      "cell_type": "code",
      "metadata": {
        "colab": {
          "base_uri": "https://localhost:8080/"
        },
        "id": "mBXIOTqb3GHp",
        "outputId": "6d34be1d-4fbb-440c-9d88-40ae31c93304"
      },
      "source": [
        "features, cidade"
      ],
      "execution_count": 41,
      "outputs": [
        {
          "output_type": "execute_result",
          "data": {
            "text/plain": [
              "(['area',\n",
              "  'quarto',\n",
              "  'banheiro',\n",
              "  'vagas_garagem',\n",
              "  'id_cidade',\n",
              "  'andar',\n",
              "  'aceita_animal',\n",
              "  'mobiliado',\n",
              "  'condominio'],\n",
              " ['São Paulo', 'Porto Alegre', 'Rio de Janeiro', 'Campinas', 'Belo Horizonte'])"
            ]
          },
          "metadata": {
            "tags": []
          },
          "execution_count": 41
        }
      ]
    },
    {
      "cell_type": "code",
      "metadata": {
        "colab": {
          "base_uri": "https://localhost:8080/"
        },
        "id": "K2hu8S-EVipM",
        "outputId": "578258ec-db6b-471b-cb95-254a25aaed09"
      },
      "source": [
        "mp, mm = previsao(dfEscolhida=dfc, mlAlgoritmo=modelo, \n",
        "                  varPrevisao=['id_cidade'], \n",
        "                  valorPrevisao=[cidade.index('São Paulo')], \n",
        "                  varTarget=target, \n",
        "                  exibe=False)\n",
        "mp, mm"
      ],
      "execution_count": 42,
      "outputs": [
        {
          "output_type": "execute_result",
          "data": {
            "text/plain": [
              "(3780.6, 3788.73)"
            ]
          },
          "metadata": {
            "tags": []
          },
          "execution_count": 42
        }
      ]
    },
    {
      "cell_type": "markdown",
      "metadata": {
        "id": "GJLCedV27wVk"
      },
      "source": [
        "# **Dashboard - Forecast**"
      ]
    },
    {
      "cell_type": "code",
      "metadata": {
        "id": "1rNyiRAE7tnD"
      },
      "source": [
        "from ipywidgets import widgets, HBox, VBox\n",
        "from ipywidgets import AppLayout, Button, Layout, GridspecLayout\n",
        "from IPython.display import display"
      ],
      "execution_count": 43,
      "outputs": []
    },
    {
      "cell_type": "code",
      "metadata": {
        "id": "h3P8ZP9bSVhs"
      },
      "source": [
        "wbotao = widgets.Button(description='Gerar Previsão', icon='check',\n",
        "                        button_style='warning')\n",
        "\n",
        "wcidade = widgets.RadioButtons(\n",
        "    options=cidade,\n",
        "    description='Cidade:',\n",
        "    disabled=False\n",
        ")\n",
        "wanimal = widgets.Dropdown(\n",
        "    options=[('Selecione', 0), ('Sim', 1), ('Nao', 2)],\n",
        "    value=0,\n",
        "    description='Animal:',\n",
        ")\n",
        "wmobiliado = widgets.Dropdown(\n",
        "    options=[('Selecione', 0), ('Sim', 1), ('Nao', 2)],\n",
        "    value=0,\n",
        "    description='Mobiliado:',\n",
        ")\n",
        "wcondominio = widgets.Dropdown(\n",
        "    options=[('Selecione', 0), ('Sim', 1), ('Nao', 2)],\n",
        "    value=0,\n",
        "    description='Condomínio:',\n",
        ")\n",
        "\n",
        "warea = widgets.Text(description='Área')\n",
        "wvagas_garagem = widgets.Text(description='Garagem')\n",
        "wbanheiro = widgets.Text(description='Banheiros')\n",
        "wandar = widgets.Text(description='Andar')\n",
        "wquarto = widgets.Text(description='Quartos')\n",
        "\n",
        "coluna1 = VBox([wcidade, wanimal, wcondominio, wbotao])\n",
        "coluna2 = VBox([warea, wquarto, wbanheiro, wvagas_garagem, wandar, wmobiliado])\n",
        "formulario = HBox([coluna1, coluna2])\n",
        "\n",
        "wres1 = widgets.HTML(value=\"<b>Simulador:</b>\")\n",
        "wres2 = widgets.HTML(value=str(len(dfc)), description='Qtde. imóveis:')\n",
        "wres3 = widgets.HTML(value=str(0), description='Previsão R$:')\n",
        "wres4 = widgets.HTML(value=str(round(dfc.aluguel.mean(), 2)), description='Média R$:')\n",
        "resultado = VBox([wres1, wres2, wres3, wres4])"
      ],
      "execution_count": 44,
      "outputs": []
    },
    {
      "cell_type": "code",
      "metadata": {
        "id": "r2i9fvo-SeGN"
      },
      "source": [
        "def create_expanded_button(description, button_style):\n",
        "    return Button(description=description, button_style=button_style, \n",
        "                  layout=Layout(height='auto', width='auto'))\n",
        "\n",
        "def simulador(sender):\n",
        "    campos = ['id_cidade']\n",
        "    vcampos = [cidade.index(wcidade.value)]\n",
        "    if wanimal.value:\n",
        "      campos.append('aceita_animal')\n",
        "      vcampos.append(int(wanimal.value))\n",
        "    \n",
        "    if wcondominio.value:\n",
        "      campos.append('condominio')\n",
        "      vcampos.append(int(wcondominio.value))\n",
        "    \n",
        "    if wmobiliado.value:\n",
        "      campos.append('mobiliado')\n",
        "      vcampos.append(int(wmobiliado.value))\n",
        "    \n",
        "    if warea.value:\n",
        "      campos.append('area')\n",
        "      vcampos.append(int(warea.value))\n",
        "    \n",
        "    if wquarto.value:\n",
        "      campos.append('quarto')\n",
        "      vcampos.append(int(wquarto.value))\n",
        "    \n",
        "    if wbanheiro.value:\n",
        "      campos.append('banheiro')\n",
        "      vcampos.append(int(wbanheiro.value))\n",
        "    \n",
        "    if wvagas_garagem.value:\n",
        "      campos.append('vagas_garagem')\n",
        "      vcampos.append(int(wvagas_garagem.value))\n",
        "    \n",
        "    if wandar.value:\n",
        "      campos.append('andar')\n",
        "      vcampos.append(int(wandar.value))\n",
        "\n",
        "    mp, mm = previsao(dfEscolhida=dfc, mlAlgoritmo=modelo, varPrevisao=campos, \n",
        "                      valorPrevisao=vcampos, varTarget=target, exibe=False)\n",
        "    if not mm:\n",
        "      mm = 0\n",
        "    wres3.value = str(round(mp, 2))\n",
        "    wres4.value = str(round(mm, 2))\n",
        "\n",
        "    # previsao(dfEscolhida=dfc, mlAlgoritmo=modelo,\n",
        "    #      varPrevisao=['quarto', 'banheiro', 'area', 'vagas_garagem', \n",
        "    #                   'aceita_animal', 'mobiliado', 'id_cidade'],\n",
        "    #      valorPrevisao=[2, 2, 90, 2, 1, 1, 4], \n",
        "    #      varTarget=target)\n",
        "wbotao.on_click(simulador)"
      ],
      "execution_count": 45,
      "outputs": []
    },
    {
      "cell_type": "code",
      "metadata": {
        "id": "MTOufWr_6uKa"
      },
      "source": [
        "meuSimulador = GridspecLayout(5, 3, height='600px')\n",
        "meuSimulador[0, :] = create_expanded_button('P R E V I S A O  __D E__   A L U G U E L', 'info')\n",
        "meuSimulador[1:4, :2] = formulario\n",
        "meuSimulador[1:4, 2:] = resultado\n",
        "meuSimulador[4, :] = create_expanded_button('@italomarcelogit', 'info')\n"
      ],
      "execution_count": 46,
      "outputs": []
    },
    {
      "cell_type": "code",
      "metadata": {
        "colab": {
          "base_uri": "https://localhost:8080/",
          "height": 617,
          "referenced_widgets": [
            "7003c8c62432440bbf8f7597e7d527f2",
            "63704af41f734b028c660bd17e7a0043",
            "bcdd43aea6d742748b9dae3b7cf0f8a6",
            "e91be8cd763c40449fb32dd187749fbf",
            "dfaa6aebe8d94f438f2bd92eac856de7",
            "30173a0c2ed944d19874c926adef5233",
            "cbdc5ed2a11c420faa997478f2c57ef9",
            "fbea97765e4a44758f7a907c28e3ab06",
            "d75d57656e494bcdbb2b7a11a74b0a6f",
            "efbf23894f4942dd97f78a9f05f33cc5",
            "476601e5b29e47f28fb7208ba20e507b",
            "0c89fb184ae9402288cc777d1855f498",
            "b661585bba494c02be810e0c83c76998",
            "b7738993695943188ee6688896e0ab8d",
            "4f74f304e7934cd3ad027ea4082c8dd2",
            "c95f46ac935a4c6d9bf494331cf98d82",
            "ff3b75e3d9dc43eda3bc19ed96678013",
            "3903fdd6b8b9473bb799e35d3aa25033",
            "66b1ecd020944ef292fa8e8988284b49",
            "77616b0b031d42fd94ce37678ea8d11e",
            "140d466ec5dc48408dd4d15b17ba3173",
            "22319a7ec40b48e3b0b2c850ecd6c489",
            "09ccfaaacf0c4c01a6b7c5330ceb0ebe",
            "d779d1ef10bb4e24b553f033d425fdd5",
            "ef912532db5c402d9e7b0acb41ef5edf",
            "53daefc368f2457f8f530f6f41a4505d",
            "1c8b838bbaab4d209eae3abc536c4b5b",
            "713f03be41614b92875984df0fb6842f",
            "8792aa487cde49c3a32f94be751b0b9b",
            "f156fd95ebc449d29f9c68f6db940485",
            "bd78b78e8d284dc999698195260aef72",
            "8ea9ac440312458e99a476623c45e4d4",
            "63814769b6e0485188d550498c246a4f",
            "7b50d99defe246eeb78f0d6c9bc11bb1",
            "ae5e9115d95948a8ad6fee6f483ed5a3",
            "e739414b5a544ef19a35c2aafc5cb46a",
            "1404c467e00d4ff1a273f6931ad18bd5",
            "f2a1526d61ba41b09e8f0e7edd9462dc",
            "0a5ad45ef4344a3699ddb452451f7678",
            "4bab6b257760414f9657b3bcea521661",
            "15918d6d06e249beb1977088aedf9a90",
            "c8e44ccd18bc4ddf8c21c07d25ab831c",
            "e640deed02154d94a7bbde292ee796ce",
            "31806996296c4d28970abe8eaae4b6bd",
            "225604af1a124f4e9f8a49e71dfbd03a",
            "99526073fd2e427bb30798cfb88e5e86",
            "5140b42d0a5c4edda4fcb376d39b8461",
            "375373c71e22408b84f612073a2c4b79",
            "9878665fd78c428a9ba2353f2b9cedd1",
            "d829f396ec3645269c28050e2ec00333",
            "0e4d28f0f60c4ee1973a978a43fbe8fe",
            "29101a2153334b44a09f880a8f8a7fb0",
            "d0b02f9d3dba41b5a9d23ff96e54b242",
            "69912704ad5640398c11c0ee76f710cb",
            "d01afd6e25bc44d4aabf87f613bbeb4f",
            "903bb904fb234d5798c53e01c5f163e0",
            "0aeed12bb6204341a045f2e6cca3443e",
            "1487123411864c7b896938e91e75db33"
          ]
        },
        "id": "wq3S81D4ZfKk",
        "outputId": "ddf5b4f5-4ee9-46d9-d26d-6a911bb9018e"
      },
      "source": [
        "meuSimulador"
      ],
      "execution_count": 47,
      "outputs": [
        {
          "output_type": "display_data",
          "data": {
            "application/vnd.jupyter.widget-view+json": {
              "model_id": "7003c8c62432440bbf8f7597e7d527f2",
              "version_minor": 0,
              "version_major": 2
            },
            "text/plain": [
              "GridspecLayout(children=(Button(button_style='info', description='P R E V I S A O  __D E__   A L U G U E L', l…"
            ]
          },
          "metadata": {
            "tags": []
          }
        }
      ]
    }
  ]
}
