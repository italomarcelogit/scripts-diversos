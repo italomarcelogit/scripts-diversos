{
  "nbformat": 4,
  "nbformat_minor": 0,
  "metadata": {
    "colab": {
      "name": "Python: Manipulação de Strings .ipynb",
      "provenance": [],
      "collapsed_sections": [],
      "authorship_tag": "ABX9TyPRX+8kc9uVee2jyD/Hxiei",
      "include_colab_link": true
    },
    "kernelspec": {
      "name": "python3",
      "display_name": "Python 3"
    },
    "language_info": {
      "name": "python"
    }
  },
  "cells": [
    {
      "cell_type": "markdown",
      "metadata": {
        "id": "view-in-github",
        "colab_type": "text"
      },
      "source": [
        "<a href=\"https://colab.research.google.com/github/italomarcelogit/scripts-diversos/blob/master/Python_Manipula%C3%A7%C3%A3o_de_Strings_.ipynb\" target=\"_parent\"><img src=\"https://colab.research.google.com/assets/colab-badge.svg\" alt=\"Open In Colab\"/></a>"
      ]
    },
    {
      "cell_type": "markdown",
      "metadata": {
        "id": "EpI0T9paHpaD"
      },
      "source": [
        "# **Dicas de manipulação de strings em python**"
      ]
    },
    {
      "cell_type": "markdown",
      "metadata": {
        "id": "aJRziMQ5H2SY"
      },
      "source": [
        "**A string** é uma cadeia de caracteres, podendo eles ser do alfabeto, numéricos, especiais entre outros. Exemplos:\n",
        "\n",
        "*   João da Silva\n",
        "*   Minha_S3nh4!\n",
        "*   Um texto qualquer que possui diversas palavras com letras, números, caracteres especiais e muitos outros bla bla bla etc e tal.\n",
        "\n",
        "O python possui uma classe de string embutida, **str**, com muitos recursos interessantes e que facilitam a vida do programador.\n",
        "\n",
        "Abaixo seguem algumas das muitas funções de python para formatação e maninpulação de strings.\n",
        "\n"
      ]
    },
    {
      "cell_type": "markdown",
      "metadata": {
        "id": "5reFcGKPIpB8"
      },
      "source": [
        "**Conhecendo a string**"
      ]
    },
    {
      "cell_type": "code",
      "metadata": {
        "colab": {
          "base_uri": "https://localhost:8080/"
        },
        "id": "s7SFRbVX1e5m",
        "outputId": "1917ee89-27c1-4cdc-a3d6-f16ef2f5daf0"
      },
      "source": [
        "x = 'PYTHON - manipulação Strings'\n",
        "print(x)"
      ],
      "execution_count": 1,
      "outputs": [
        {
          "output_type": "stream",
          "name": "stdout",
          "text": [
            "PYTHON - manipulação Strings\n"
          ]
        }
      ]
    },
    {
      "cell_type": "code",
      "metadata": {
        "colab": {
          "base_uri": "https://localhost:8080/"
        },
        "id": "veAZnIIyJFkr",
        "outputId": "df77c681-fa7b-4ee0-de5e-9720f85164e4"
      },
      "source": [
        "# quantidade de caracteres da string x\n",
        "print(len(x))"
      ],
      "execution_count": 2,
      "outputs": [
        {
          "output_type": "stream",
          "name": "stdout",
          "text": [
            "28\n"
          ]
        }
      ]
    },
    {
      "cell_type": "code",
      "metadata": {
        "colab": {
          "base_uri": "https://localhost:8080/"
        },
        "id": "F4nG_Io6Ixlo",
        "outputId": "50135bd4-5048-4a7e-8c47-df80a57beab2"
      },
      "source": [
        "# o primeiro caracter da string x\n",
        "print(x[0]) # P"
      ],
      "execution_count": 3,
      "outputs": [
        {
          "output_type": "stream",
          "name": "stdout",
          "text": [
            "P\n"
          ]
        }
      ]
    },
    {
      "cell_type": "code",
      "metadata": {
        "colab": {
          "base_uri": "https://localhost:8080/"
        },
        "id": "1rQLRXeXI4xI",
        "outputId": "e37a86d6-3b9d-41ca-ce4f-db94a1f04c7b"
      },
      "source": [
        "# o último caracter da string x\n",
        "print(x[len(x)-1]) # s"
      ],
      "execution_count": 4,
      "outputs": [
        {
          "output_type": "stream",
          "name": "stdout",
          "text": [
            "s\n"
          ]
        }
      ]
    },
    {
      "cell_type": "code",
      "metadata": {
        "colab": {
          "base_uri": "https://localhost:8080/"
        },
        "id": "cR2zO-WwnbHY",
        "outputId": "2c23aa72-535e-42d3-f517-a8c7aba1492f"
      },
      "source": [
        "# ou imprimir um trecho\n",
        "print(x[2:6]) # da posição 2 a 5 THON"
      ],
      "execution_count": 5,
      "outputs": [
        {
          "output_type": "stream",
          "name": "stdout",
          "text": [
            "THON\n"
          ]
        }
      ]
    },
    {
      "cell_type": "code",
      "metadata": {
        "colab": {
          "base_uri": "https://localhost:8080/"
        },
        "id": "qDriAbvNLw9f",
        "outputId": "7b76e0c2-ad5e-4bfb-a1f2-927d75b9d8e9"
      },
      "source": [
        "# varrendo a string posição a posição, até a sexta posição\n",
        "for i in x[:6]: # e imprimindo na vertical\n",
        "  print(i)"
      ],
      "execution_count": 6,
      "outputs": [
        {
          "output_type": "stream",
          "name": "stdout",
          "text": [
            "P\n",
            "Y\n",
            "T\n",
            "H\n",
            "O\n",
            "N\n"
          ]
        }
      ]
    },
    {
      "cell_type": "code",
      "metadata": {
        "colab": {
          "base_uri": "https://localhost:8080/"
        },
        "id": "-kknl9jbMQfL",
        "outputId": "1f5ea4a3-42ae-4e23-e3fc-0b605f1273e4"
      },
      "source": [
        "print(x[:6]) # na horizontal\n",
        "# ou \n",
        "y = x[:6]\n",
        "print(y)\n",
        "# ou\n",
        "z = \"Eu programo em \" + y\n",
        "print(z)"
      ],
      "execution_count": 7,
      "outputs": [
        {
          "output_type": "stream",
          "name": "stdout",
          "text": [
            "PYTHON\n",
            "PYTHON\n",
            "Eu programo em PYTHON\n"
          ]
        }
      ]
    },
    {
      "cell_type": "markdown",
      "metadata": {
        "id": "ednMmn-dkuSh"
      },
      "source": [
        "**Convertendo outros tipos em string**"
      ]
    },
    {
      "cell_type": "code",
      "metadata": {
        "colab": {
          "base_uri": "https://localhost:8080/"
        },
        "id": "_zGbZa8bkAxZ",
        "outputId": "09aa1374-e20f-4fae-d26f-b672eb81c2b0"
      },
      "source": [
        "y = 150\n",
        "print(type(y))\n",
        "# vamos converter esse inteiro (y) em string, utilizando str(value)\n",
        "y = str(y)\n",
        "print(type(y))\n",
        "# e imprimir o segundo caracter desta string\n",
        "print(y[1])"
      ],
      "execution_count": 8,
      "outputs": [
        {
          "output_type": "stream",
          "name": "stdout",
          "text": [
            "<class 'int'>\n",
            "<class 'str'>\n",
            "5\n"
          ]
        }
      ]
    },
    {
      "cell_type": "code",
      "metadata": {
        "colab": {
          "base_uri": "https://localhost:8080/"
        },
        "id": "3BiGZ9k3nDjQ",
        "outputId": "1d699a59-2be3-49e7-8705-53d64547bc64"
      },
      "source": [
        "# convertendo float\n",
        "y = 33.345 / 2\n",
        "print(y, type(y))\n",
        "y = str(y)\n",
        "print(y, type(y))\n",
        "print(y[2])"
      ],
      "execution_count": 9,
      "outputs": [
        {
          "output_type": "stream",
          "name": "stdout",
          "text": [
            "16.6725 <class 'float'>\n",
            "16.6725 <class 'str'>\n",
            ".\n"
          ]
        }
      ]
    },
    {
      "cell_type": "code",
      "metadata": {
        "colab": {
          "base_uri": "https://localhost:8080/"
        },
        "id": "Rqeh769yk0MW",
        "outputId": "1e9347e5-b3f7-4f77-8a0c-022544a53c28"
      },
      "source": [
        "# convertendo lista\n",
        "y = [1, 2, 3, 4, 5, 6]\n",
        "print(y, type(y))\n",
        "y = str(y)\n",
        "print(y, type(y))"
      ],
      "execution_count": 10,
      "outputs": [
        {
          "output_type": "stream",
          "name": "stdout",
          "text": [
            "[1, 2, 3, 4, 5, 6] <class 'list'>\n",
            "[1, 2, 3, 4, 5, 6] <class 'str'>\n"
          ]
        }
      ]
    },
    {
      "cell_type": "code",
      "metadata": {
        "colab": {
          "base_uri": "https://localhost:8080/"
        },
        "id": "FTwADf5YmDqs",
        "outputId": "04665f20-2295-4586-d5b6-7b58c4a37378"
      },
      "source": [
        "# convertendo dicionários\n",
        "y = {'nome': 'joao', 'idade': 33}\n",
        "print(y, type(y))\n",
        "\n",
        "y = str(y)\n",
        "print(y, type(y))"
      ],
      "execution_count": 11,
      "outputs": [
        {
          "output_type": "stream",
          "name": "stdout",
          "text": [
            "{'nome': 'joao', 'idade': 33} <class 'dict'>\n",
            "{'nome': 'joao', 'idade': 33} <class 'str'>\n"
          ]
        }
      ]
    },
    {
      "cell_type": "markdown",
      "metadata": {
        "id": "ufxjG5URJUu9"
      },
      "source": [
        "**Formatando a String**"
      ]
    },
    {
      "cell_type": "code",
      "metadata": {
        "colab": {
          "base_uri": "https://localhost:8080/"
        },
        "id": "MVIpTGxLIryE",
        "outputId": "209441db-9a0f-4e4e-aa92-570f7eb082a3"
      },
      "source": [
        "# formatando uma string em maiúsculo, em minúsculo \n",
        "# e somente o primeiro caracter em maiúsculo\n",
        "print(\"MAIÚSCULA: \",x.upper())\n",
        "print(\"minúscula: \",x.lower())\n",
        "print(\"Primeira maíuscula: \", x.capitalize())"
      ],
      "execution_count": 12,
      "outputs": [
        {
          "output_type": "stream",
          "name": "stdout",
          "text": [
            "MAIÚSCULA:  PYTHON - MANIPULAÇÃO STRINGS\n",
            "minúscula:  python - manipulação strings\n",
            "Primeira maíuscula:  Python - manipulação strings\n"
          ]
        }
      ]
    },
    {
      "cell_type": "code",
      "metadata": {
        "colab": {
          "base_uri": "https://localhost:8080/"
        },
        "id": "0KdkHuXIOrhp",
        "outputId": "90e381f0-5bda-4814-d01e-a97a42dfe0b4"
      },
      "source": [
        "# deixando as iniciais maiúsculas\n",
        "print(x.title())"
      ],
      "execution_count": 13,
      "outputs": [
        {
          "output_type": "stream",
          "name": "stdout",
          "text": [
            "Python - Manipulação Strings\n"
          ]
        }
      ]
    },
    {
      "cell_type": "code",
      "metadata": {
        "colab": {
          "base_uri": "https://localhost:8080/"
        },
        "id": "1I9zX9NaBpSQ",
        "outputId": "c16799c0-32c0-405b-b734-07ac2c2c486b"
      },
      "source": [
        "# existe também a função casefold, que transforma em minúsculo\n",
        "# parece idêntica mas em alguns idiomas, a função lower não funcionará devidamente\n",
        "print(\"lower    :\", x.lower())\n",
        "print(\"casefold : \", x.casefold())"
      ],
      "execution_count": 14,
      "outputs": [
        {
          "output_type": "stream",
          "name": "stdout",
          "text": [
            "lower    : python - manipulação strings\n",
            "casefold :  python - manipulação strings\n"
          ]
        }
      ]
    },
    {
      "cell_type": "code",
      "metadata": {
        "colab": {
          "base_uri": "https://localhost:8080/"
        },
        "id": "TPbEPS86Drlv",
        "outputId": "045d0245-5c0a-4c95-b78a-e6ea16c23403"
      },
      "source": [
        "# Veja a diferença na lingua alemã\n",
        "print(\"lower:\", \"außen\".lower())\n",
        "print(\"casefold\", \"außen\".casefold())"
      ],
      "execution_count": 15,
      "outputs": [
        {
          "output_type": "stream",
          "name": "stdout",
          "text": [
            "lower: außen\n",
            "casefold aussen\n"
          ]
        }
      ]
    },
    {
      "cell_type": "code",
      "metadata": {
        "colab": {
          "base_uri": "https://localhost:8080/"
        },
        "id": "1-dJXxLj-6Yx",
        "outputId": "4d5a2e00-7e58-4dc8-9e00-6d41a0cc8665"
      },
      "source": [
        "# invertendo maiúsculas e minúsculas\n",
        "print(\"original : \", x)\n",
        "print(\"swapecase: \", x.swapcase())"
      ],
      "execution_count": 16,
      "outputs": [
        {
          "output_type": "stream",
          "name": "stdout",
          "text": [
            "original :  PYTHON - manipulação Strings\n",
            "swapecase:  python - MANIPULAÇÃO sTRINGS\n"
          ]
        }
      ]
    },
    {
      "cell_type": "code",
      "metadata": {
        "colab": {
          "base_uri": "https://localhost:8080/"
        },
        "id": "VkCFW_Bv6k1T",
        "outputId": "2ed331b1-0674-4ef3-8a9a-932b4dcc187e"
      },
      "source": [
        "# adicionando caracteres para completar a qtde de caracteres em uma linha\n",
        "a = x.ljust(50,'-')\n",
        "b = x.rjust(50,'-')\n",
        "print(\"A: \", a)\n",
        "print(\"B: \", b)\n",
        "print(\"Qtde de caracteres: \", len(a), len(b))\n"
      ],
      "execution_count": 17,
      "outputs": [
        {
          "output_type": "stream",
          "name": "stdout",
          "text": [
            "A:  PYTHON - manipulação Strings----------------------\n",
            "B:  ----------------------PYTHON - manipulação Strings\n",
            "Qtde de caracteres:  50 50\n"
          ]
        }
      ]
    },
    {
      "cell_type": "code",
      "metadata": {
        "colab": {
          "base_uri": "https://localhost:8080/"
        },
        "id": "xoYKbZFOUs4J",
        "outputId": "90dde2e3-35de-4693-f3c0-9f099fe25021"
      },
      "source": [
        "# Centralizar uma string em uma quantidade de caracteres\n",
        "print(x.center(50,\"*\"))"
      ],
      "execution_count": 18,
      "outputs": [
        {
          "output_type": "stream",
          "name": "stdout",
          "text": [
            "***********PYTHON - manipulação Strings***********\n"
          ]
        }
      ]
    },
    {
      "cell_type": "code",
      "metadata": {
        "colab": {
          "base_uri": "https://localhost:8080/"
        },
        "id": "MgZ8Gfbe8WAH",
        "outputId": "f2c45b59-c8a9-4ad9-ad34-6b4423a07ea0"
      },
      "source": [
        "# Aqui um exemplo de como desenhar um box screen usando as funções ljust e center\n",
        "print(\"#\".ljust(49,\"=\")+\"#\")\n",
        "print(\"#\"+ x.center(48,\"*\") + \"#\")\n",
        "print(\"#\".ljust(49,\"=\")+\"#\")\n",
        "for i in range(0,8):\n",
        "  print(\"#\".ljust(49,\" \")+\"#\")\n",
        "print(\"#\".ljust(49,\"=\")+\"#\")"
      ],
      "execution_count": 19,
      "outputs": [
        {
          "output_type": "stream",
          "name": "stdout",
          "text": [
            "#================================================#\n",
            "#**********PYTHON - manipulação Strings**********#\n",
            "#================================================#\n",
            "#                                                #\n",
            "#                                                #\n",
            "#                                                #\n",
            "#                                                #\n",
            "#                                                #\n",
            "#                                                #\n",
            "#                                                #\n",
            "#                                                #\n",
            "#================================================#\n"
          ]
        }
      ]
    },
    {
      "cell_type": "code",
      "metadata": {
        "colab": {
          "base_uri": "https://localhost:8080/"
        },
        "id": "Cd7m-vzmA7CY",
        "outputId": "f9b100c5-fc63-4970-f379-339272126c2a"
      },
      "source": [
        "# Uma outra formatação de string é quando queremos totalizar a quantidade \n",
        "# de caracteres atribuindo o caracter 0 a esquerda\n",
        "agua = \"3.50\"\n",
        "vinho = \"22.50\"\n",
        "print(\"Água:  \", agua.zfill(5))\n",
        "print(\"Vinho: \", vinho.zfill(5))"
      ],
      "execution_count": 20,
      "outputs": [
        {
          "output_type": "stream",
          "name": "stdout",
          "text": [
            "Água:   03.50\n",
            "Vinho:  22.50\n"
          ]
        }
      ]
    },
    {
      "cell_type": "code",
      "metadata": {
        "colab": {
          "base_uri": "https://localhost:8080/"
        },
        "id": "gmx2REW9VrDB",
        "outputId": "3601d8a7-e6cc-49d6-de26-2dc35d05ee05"
      },
      "source": [
        "# agua e vinho, são strings, não são números\n",
        "# veja abaixo um exemplo com outra string qualquer e preenchendo com 0 a esquerda\n",
        "print(\"texto do lado direito\".zfill(40))"
      ],
      "execution_count": 21,
      "outputs": [
        {
          "output_type": "stream",
          "name": "stdout",
          "text": [
            "0000000000000000000texto do lado direito\n"
          ]
        }
      ]
    },
    {
      "cell_type": "code",
      "metadata": {
        "colab": {
          "base_uri": "https://localhost:8080/"
        },
        "id": "OTPkbPt42iL-",
        "outputId": "337110ed-910d-4a91-e605-1171f8e185e3"
      },
      "source": [
        "# Codificar uma string\n",
        "a = \"Texto não codificado\"\n",
        "print(a.encode('utf-8'))"
      ],
      "execution_count": 22,
      "outputs": [
        {
          "output_type": "stream",
          "name": "stdout",
          "text": [
            "b'Texto n\\xc3\\xa3o codificado'\n"
          ]
        }
      ]
    },
    {
      "cell_type": "code",
      "metadata": {
        "colab": {
          "base_uri": "https://localhost:8080/"
        },
        "id": "uTVbcgpxXtY4",
        "outputId": "39e9d65a-73ba-47fa-e964-117e4fbe7d5c"
      },
      "source": [
        "print(a.encode('ascii', 'ignore')) # ignorando o encoding\n",
        "print(a.encode('ascii', 'replace')) # substituindo por ?"
      ],
      "execution_count": 23,
      "outputs": [
        {
          "output_type": "stream",
          "name": "stdout",
          "text": [
            "b'Texto no codificado'\n",
            "b'Texto n?o codificado'\n"
          ]
        }
      ]
    },
    {
      "cell_type": "markdown",
      "metadata": {
        "id": "MOYbfAJqYlS3"
      },
      "source": [
        "**Manipulando a string**"
      ]
    },
    {
      "cell_type": "code",
      "metadata": {
        "colab": {
          "base_uri": "https://localhost:8080/"
        },
        "id": "cY7hfBjVYnh1",
        "outputId": "3351ccbd-e341-41d1-c7f8-b7d9f850da29"
      },
      "source": [
        "print(x)"
      ],
      "execution_count": 24,
      "outputs": [
        {
          "output_type": "stream",
          "name": "stdout",
          "text": [
            "PYTHON - manipulação Strings\n"
          ]
        }
      ]
    },
    {
      "cell_type": "code",
      "metadata": {
        "colab": {
          "base_uri": "https://localhost:8080/"
        },
        "id": "ImEU9xMD-dXr",
        "outputId": "24da2ce7-531c-422a-c8be-6e33b3d893d7"
      },
      "source": [
        "# uma forma de inserir valores em uma string\n",
        "a = 'ano'\n",
        "b = 'complicado'\n",
        "print('Este {} foi {}'.format(a, b))\n",
        "# ou também desta forma\n",
        "print(f'Este {a} foi {b}')"
      ],
      "execution_count": 25,
      "outputs": [
        {
          "output_type": "stream",
          "name": "stdout",
          "text": [
            "Este ano foi complicado\n",
            "Este ano foi complicado\n"
          ]
        }
      ]
    },
    {
      "cell_type": "code",
      "metadata": {
        "colab": {
          "base_uri": "https://localhost:8080/"
        },
        "id": "kF27RImybj-p",
        "outputId": "bde42da0-4b71-44e1-9b26-4b6c9dc58cba"
      },
      "source": [
        "# utilizando dicionário para preencher uma string\n",
        "dicionario = {\"a\": \"Italo\", \"b\": \"Marcelo\"}\n",
        "print(\"Meu nome é {a} {b}\".format_map(dicionario))\n",
        "\n",
        "# ou utilizando uma lista\n",
        "lista = ['Italo', 'Marcelo']\n",
        "print(f'Meu nome é {lista[0]} {lista[1]}')"
      ],
      "execution_count": 26,
      "outputs": [
        {
          "output_type": "stream",
          "name": "stdout",
          "text": [
            "Meu nome é Italo Marcelo\n",
            "Meu nome é Italo Marcelo\n"
          ]
        }
      ]
    },
    {
      "cell_type": "code",
      "metadata": {
        "colab": {
          "base_uri": "https://localhost:8080/"
        },
        "id": "0qHiaEx4EPJ6",
        "outputId": "c3fd4293-e167-40ed-e712-df6b9e545a35"
      },
      "source": [
        "# dividir uma string na primeira ocorrência de um caracter ou string\n",
        "print(x.partition(\"-\"))\n",
        "print(x.rpartition(\"manipulação\"))"
      ],
      "execution_count": 27,
      "outputs": [
        {
          "output_type": "stream",
          "name": "stdout",
          "text": [
            "('PYTHON ', '-', ' manipulação Strings')\n",
            "('PYTHON - ', 'manipulação', ' Strings')\n"
          ]
        }
      ]
    },
    {
      "cell_type": "code",
      "metadata": {
        "colab": {
          "base_uri": "https://localhost:8080/"
        },
        "id": "Rw7DeaB4GpuN",
        "outputId": "92f739cd-3c97-4a4f-d1ee-0f54a634372d"
      },
      "source": [
        "# dividir uma string em todas as ocorrências de um caracter ou string\n",
        "# e retorna uma lista\n",
        "print(x.split(\" \"))\n",
        "print(x.rsplit(\"-\"))"
      ],
      "execution_count": 28,
      "outputs": [
        {
          "output_type": "stream",
          "name": "stdout",
          "text": [
            "['PYTHON', '-', 'manipulação', 'Strings']\n",
            "['PYTHON ', ' manipulação Strings']\n"
          ]
        }
      ]
    },
    {
      "cell_type": "code",
      "metadata": {
        "colab": {
          "base_uri": "https://localhost:8080/"
        },
        "id": "2z8XVbZuYqPL",
        "outputId": "490626a2-c096-48d3-896c-6a018b029b21"
      },
      "source": [
        "# dividir uma string a partir de ocorrências de um caracter ou string, \n",
        "# da direita p/ esquerda e retorna uma lista\n",
        "a = \"1: 2: 3: 4: 5:\"\n",
        "print(a.rsplit(\":\", 2))"
      ],
      "execution_count": 29,
      "outputs": [
        {
          "output_type": "stream",
          "name": "stdout",
          "text": [
            "['1: 2: 3: 4', ' 5', '']\n"
          ]
        }
      ]
    },
    {
      "cell_type": "code",
      "metadata": {
        "colab": {
          "base_uri": "https://localhost:8080/"
        },
        "id": "dP1WhXOccdeF",
        "outputId": "498f41a7-d512-464d-aa8b-70281d584e85"
      },
      "source": [
        "# splitline retorna uma lista como se fosse um str.split('\\n')\n",
        "texto = \"linha 1 do texto\\nlinha 2 do texto \\nlinha 3 do texto \\nlinha 4 do texto\"\n",
        "print(texto)\n",
        "print(texto.splitlines())\n",
        "print(texto.split('\\n'))"
      ],
      "execution_count": 30,
      "outputs": [
        {
          "output_type": "stream",
          "name": "stdout",
          "text": [
            "linha 1 do texto\n",
            "linha 2 do texto \n",
            "linha 3 do texto \n",
            "linha 4 do texto\n",
            "['linha 1 do texto', 'linha 2 do texto ', 'linha 3 do texto ', 'linha 4 do texto']\n",
            "['linha 1 do texto', 'linha 2 do texto ', 'linha 3 do texto ', 'linha 4 do texto']\n"
          ]
        }
      ]
    },
    {
      "cell_type": "code",
      "metadata": {
        "colab": {
          "base_uri": "https://localhost:8080/"
        },
        "id": "sCdoUWV7oHcz",
        "outputId": "c87448ab-44ec-42b5-ad30-edacd6053e21"
      },
      "source": [
        "# já o comando join faz o contrário do comando split\n",
        "y = \"ABC\"\n",
        "print('-'.join(y))\n",
        "y = \"homem aranha 2\"\n",
        "z = y.split(' ')\n",
        "print(z)\n",
        "# agora vamos tranformar o valor de z como o valor de y\n",
        "z = ' '.join(z)\n",
        "print(z, y)"
      ],
      "execution_count": 31,
      "outputs": [
        {
          "output_type": "stream",
          "name": "stdout",
          "text": [
            "A-B-C\n",
            "['homem', 'aranha', '2']\n",
            "homem aranha 2 homem aranha 2\n"
          ]
        }
      ]
    },
    {
      "cell_type": "code",
      "metadata": {
        "colab": {
          "base_uri": "https://localhost:8080/"
        },
        "id": "OX9x4fx9dYN0",
        "outputId": "bea83a00-4985-4188-e3a3-2046db885bc7"
      },
      "source": [
        "# Localizar uma string retornando a posição\n",
        "a = \"Joao da Silva\"\n",
        "print(a.find('da'))"
      ],
      "execution_count": 32,
      "outputs": [
        {
          "output_type": "stream",
          "name": "stdout",
          "text": [
            "5\n"
          ]
        }
      ]
    },
    {
      "cell_type": "code",
      "metadata": {
        "colab": {
          "base_uri": "https://localhost:8080/"
        },
        "id": "3LOMhTNge_76",
        "outputId": "0fa0dce8-8aa8-42b3-fa71-9f2162bf83ce"
      },
      "source": [
        "# Localizar um caracter na string retornando a quantidade\n",
        "a = \"Joao da Silva\"\n",
        "print(a.count('a'))"
      ],
      "execution_count": 33,
      "outputs": [
        {
          "output_type": "stream",
          "name": "stdout",
          "text": [
            "3\n"
          ]
        }
      ]
    },
    {
      "cell_type": "code",
      "metadata": {
        "colab": {
          "base_uri": "https://localhost:8080/"
        },
        "id": "SENioQDdfOE8",
        "outputId": "e1803aad-80e1-4737-ab63-e93cf98f5e89"
      },
      "source": [
        "# utilizando tabuladores de string\n",
        "a = \"eu \\testou \\taprendendo \\tmanipular \\tpython\"\n",
        "print(a)\n",
        "print(a.expandtabs(8)) # com a mesmo espaço de tabulação\n",
        "print(a.expandtabs(18)) # com espaçamento de 18 caracteres de tabulação"
      ],
      "execution_count": 34,
      "outputs": [
        {
          "output_type": "stream",
          "name": "stdout",
          "text": [
            "eu \testou \taprendendo \tmanipular \tpython\n",
            "eu      estou   aprendendo      manipular       python\n",
            "eu                estou             aprendendo        manipular         python\n"
          ]
        }
      ]
    },
    {
      "cell_type": "markdown",
      "metadata": {
        "id": "XhK5YLpCQb1z"
      },
      "source": [
        "**Verificações**\n",
        "\n",
        "Existem diversas funções de string que validam diversas condições, retornando True ou False como resultado. Vejamos algumas delas:"
      ]
    },
    {
      "cell_type": "code",
      "metadata": {
        "colab": {
          "base_uri": "https://localhost:8080/"
        },
        "id": "fCxL6haU6PKm",
        "outputId": "0f53f29b-7829-4cb8-b9d0-628cd0b8ae01"
      },
      "source": [
        "# verifica se a string possui todas as iniciais em maiúsculas\n",
        "txt = 'Italo Marcelo'\n",
        "print(txt.istitle()) # retorna True\n",
        "if txt.istitle(): # se True\n",
        "  print('As letras iniciais estão em maiúsculas')\n",
        "else:\n",
        "  print('As letras iniciais não estão em maiúsculas')"
      ],
      "execution_count": 35,
      "outputs": [
        {
          "output_type": "stream",
          "name": "stdout",
          "text": [
            "True\n",
            "As letras iniciais estão em maiúsculas\n"
          ]
        }
      ]
    },
    {
      "cell_type": "code",
      "metadata": {
        "colab": {
          "base_uri": "https://localhost:8080/"
        },
        "id": "fVJeiQOuUDTQ",
        "outputId": "6c10e35c-af4c-4e4b-9488-ce229ba8c4d2"
      },
      "source": [
        "# verifica se o caracter ou a string está em maiúsculo\n",
        "print(\"Italo\".isupper())\n",
        "print(\"ITALO\".isupper())"
      ],
      "execution_count": 36,
      "outputs": [
        {
          "output_type": "stream",
          "name": "stdout",
          "text": [
            "False\n",
            "True\n"
          ]
        }
      ]
    },
    {
      "cell_type": "code",
      "metadata": {
        "colab": {
          "base_uri": "https://localhost:8080/"
        },
        "id": "kOgDczgMUSKo",
        "outputId": "76a4a02c-0369-419d-beb0-14d02596796b"
      },
      "source": [
        "# verifica se o caracter ou a string está em minúsculo\n",
        "print(\"Italo\".islower())\n",
        "print(\"ITALO\".islower())"
      ],
      "execution_count": 37,
      "outputs": [
        {
          "output_type": "stream",
          "name": "stdout",
          "text": [
            "False\n",
            "False\n"
          ]
        }
      ]
    },
    {
      "cell_type": "code",
      "metadata": {
        "colab": {
          "base_uri": "https://localhost:8080/"
        },
        "id": "s1oWH-KOEISu",
        "outputId": "f0295ee9-96f3-4d31-c4e6-204603c0b05c"
      },
      "source": [
        "# verifica se o caracter ou a string é toda numérica\n",
        "\"14\".isnumeric(), \"F14\".isnumeric()"
      ],
      "execution_count": 38,
      "outputs": [
        {
          "output_type": "execute_result",
          "data": {
            "text/plain": [
              "(True, False)"
            ]
          },
          "metadata": {},
          "execution_count": 38
        }
      ]
    },
    {
      "cell_type": "code",
      "metadata": {
        "colab": {
          "base_uri": "https://localhost:8080/"
        },
        "id": "CD7Oa6cAFahh",
        "outputId": "cd7a34f1-0f19-416b-c89b-d93ae8c48dd6"
      },
      "source": [
        "# verifica se o caracter ou a string contém somente dígitos\n",
        "\"14\".isdigit(), \"F14\".isdigit()"
      ],
      "execution_count": 39,
      "outputs": [
        {
          "output_type": "execute_result",
          "data": {
            "text/plain": [
              "(True, False)"
            ]
          },
          "metadata": {},
          "execution_count": 39
        }
      ]
    },
    {
      "cell_type": "code",
      "metadata": {
        "colab": {
          "base_uri": "https://localhost:8080/"
        },
        "id": "4zJqwDKFEnjF",
        "outputId": "4fe9b476-c9c6-4a9e-ecd3-a1e7ff577acd"
      },
      "source": [
        "# verifica se o caracter ou a string contém alfanuméricos\n",
        "\"ano2021\".isalnum(), \"ano\".isnumeric(), \"2021\".isalnum(), \"ano 2021\".isdecimal()"
      ],
      "execution_count": 40,
      "outputs": [
        {
          "output_type": "execute_result",
          "data": {
            "text/plain": [
              "(True, False, True, False)"
            ]
          },
          "metadata": {},
          "execution_count": 40
        }
      ]
    },
    {
      "cell_type": "code",
      "metadata": {
        "colab": {
          "base_uri": "https://localhost:8080/"
        },
        "id": "iLg0_E4P4LkK",
        "outputId": "f0aae03d-82a7-4615-c35f-87f15e952bf2"
      },
      "source": [
        "# verifica se a string contém somente letras do alfabeto\n",
        "\"senha\".isalpha(), \"senha13\".isalpha()"
      ],
      "execution_count": 41,
      "outputs": [
        {
          "output_type": "execute_result",
          "data": {
            "text/plain": [
              "(True, False)"
            ]
          },
          "metadata": {},
          "execution_count": 41
        }
      ]
    },
    {
      "cell_type": "code",
      "metadata": {
        "colab": {
          "base_uri": "https://localhost:8080/"
        },
        "id": "eUIZrswV4g1F",
        "outputId": "10996d2f-1faa-4af8-e61e-73f7e493a25d"
      },
      "source": [
        "# verifica se a string possui caracteres válidos para escrever um código identificador\n",
        "\"meuID\".isidentifier(), \"meuID_\".isidentifier(), \"13meuID\".isidentifier(), \"_13meuID\".isidentifier()"
      ],
      "execution_count": 42,
      "outputs": [
        {
          "output_type": "execute_result",
          "data": {
            "text/plain": [
              "(True, True, False, True)"
            ]
          },
          "metadata": {},
          "execution_count": 42
        }
      ]
    },
    {
      "cell_type": "code",
      "metadata": {
        "colab": {
          "base_uri": "https://localhost:8080/"
        },
        "id": "f70fbX486AgV",
        "outputId": "38f4e981-81cc-42e8-a519-be48c3c1b127"
      },
      "source": [
        "# verifica se o caracter ou string é de espaço em branco\n",
        "print(\"  \".isspace())\n",
        "# ou\n",
        "for i in \"sou eu\":\n",
        "  print(i, i.isspace())"
      ],
      "execution_count": 43,
      "outputs": [
        {
          "output_type": "stream",
          "name": "stdout",
          "text": [
            "True\n",
            "s False\n",
            "o False\n",
            "u False\n",
            "  True\n",
            "e False\n",
            "u False\n"
          ]
        }
      ]
    },
    {
      "cell_type": "code",
      "metadata": {
        "colab": {
          "base_uri": "https://localhost:8080/"
        },
        "id": "CL3L33kDdxht",
        "outputId": "5b4c2f0c-78c4-4537-d706-801e8ad1a6eb"
      },
      "source": [
        "# verifica se a string inicia com uma substring qualquer\n",
        "print(x) # PYTHON - manipulação Strings\n",
        "print(x.startswith('Python')) # não inicia com Python\n",
        "print(x.startswith('PYTHON')) # inicia com PYTHON"
      ],
      "execution_count": 44,
      "outputs": [
        {
          "output_type": "stream",
          "name": "stdout",
          "text": [
            "PYTHON - manipulação Strings\n",
            "False\n",
            "True\n"
          ]
        }
      ]
    },
    {
      "cell_type": "code",
      "metadata": {
        "colab": {
          "base_uri": "https://localhost:8080/"
        },
        "id": "8G82hUrTZZKl",
        "outputId": "85677218-cc3e-46a9-c335-95e5752eb083"
      },
      "source": [
        "# verifica se a string termina com uma substring qualquer\n",
        "print(x) # PYTHON - manipulação Strings\n",
        "print(x.endswith('strings')) # não termina com strings\n",
        "print(x.endswith('Strings')) # termina com Strings"
      ],
      "execution_count": 45,
      "outputs": [
        {
          "output_type": "stream",
          "name": "stdout",
          "text": [
            "PYTHON - manipulação Strings\n",
            "False\n",
            "True\n"
          ]
        }
      ]
    },
    {
      "cell_type": "code",
      "metadata": {
        "colab": {
          "base_uri": "https://localhost:8080/"
        },
        "id": "lgQznvfSZ2B9",
        "outputId": "238d5936-1ba1-4669-911a-57e8d04e8d2f"
      },
      "source": [
        "senha = \"minhaSenha1_\"\n",
        "print(senha.isascii())\n",
        "senha2 = \"minhaçenha1_\"\n",
        "print(senha2.isascii()) # ç não está na tabela ascii"
      ],
      "execution_count": 46,
      "outputs": [
        {
          "output_type": "stream",
          "name": "stdout",
          "text": [
            "True\n",
            "False\n"
          ]
        }
      ]
    }
  ]
}
