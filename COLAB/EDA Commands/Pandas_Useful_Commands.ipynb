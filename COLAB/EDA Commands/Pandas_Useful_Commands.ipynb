{
  "nbformat": 4,
  "nbformat_minor": 0,
  "metadata": {
    "colab": {
      "name": "Pandas - Useful Commands",
      "provenance": [],
      "collapsed_sections": [],
      "authorship_tag": "ABX9TyOuGtJLB8xbM+CqEu/BkxIP",
      "include_colab_link": true
    },
    "kernelspec": {
      "name": "python3",
      "display_name": "Python 3"
    }
  },
  "cells": [
    {
      "cell_type": "markdown",
      "metadata": {
        "id": "view-in-github",
        "colab_type": "text"
      },
      "source": [
        "<a href=\"https://colab.research.google.com/github/italomarcelogit/python.free/blob/master/Pandas_Useful_Commands.ipynb\" target=\"_parent\"><img src=\"https://colab.research.google.com/assets/colab-badge.svg\" alt=\"Open In Colab\"/></a>"
      ]
    },
    {
      "cell_type": "code",
      "metadata": {
        "id": "_1Is_fyS2pCF"
      },
      "source": [
        "import pandas as pd\n",
        "import numpy as np"
      ],
      "execution_count": null,
      "outputs": []
    },
    {
      "cell_type": "markdown",
      "metadata": {
        "id": "5zzh7U9RZrFK"
      },
      "source": [
        "# **Pandas - Series and DataFrame**"
      ]
    },
    {
      "cell_type": "code",
      "metadata": {
        "id": "2mFk95k5ZwAX"
      },
      "source": [
        "# Series\n",
        "mySerie1 = pd.Series([1,2,3,4,5,])\n",
        "mySerie2 = pd.Series(list('abcde'))"
      ],
      "execution_count": 118,
      "outputs": []
    },
    {
      "cell_type": "code",
      "metadata": {
        "id": "dTCuv7eyaGZ0",
        "outputId": "e7fe2e91-b430-40f6-882b-540aa2f08856",
        "colab": {
          "base_uri": "https://localhost:8080/",
          "height": 119
        }
      },
      "source": [
        "mySerie1"
      ],
      "execution_count": 119,
      "outputs": [
        {
          "output_type": "execute_result",
          "data": {
            "text/plain": [
              "0    1\n",
              "1    2\n",
              "2    3\n",
              "3    4\n",
              "4    5\n",
              "dtype: int64"
            ]
          },
          "metadata": {
            "tags": []
          },
          "execution_count": 119
        }
      ]
    },
    {
      "cell_type": "code",
      "metadata": {
        "id": "0FtRTnJDaWHG",
        "outputId": "e4aa19c3-1bca-484b-dd5a-e5eaa403f04b",
        "colab": {
          "base_uri": "https://localhost:8080/",
          "height": 34
        }
      },
      "source": [
        "mySerie1.index, mySerie1.values"
      ],
      "execution_count": 120,
      "outputs": [
        {
          "output_type": "execute_result",
          "data": {
            "text/plain": [
              "(RangeIndex(start=0, stop=5, step=1), array([1, 2, 3, 4, 5]))"
            ]
          },
          "metadata": {
            "tags": []
          },
          "execution_count": 120
        }
      ]
    },
    {
      "cell_type": "code",
      "metadata": {
        "id": "DJTYNqBwad8d",
        "outputId": "c717ed7d-17f8-4d3c-b6bc-ec08b7fd9d52",
        "colab": {
          "base_uri": "https://localhost:8080/",
          "height": 119
        }
      },
      "source": [
        "mySerie2"
      ],
      "execution_count": 121,
      "outputs": [
        {
          "output_type": "execute_result",
          "data": {
            "text/plain": [
              "0    a\n",
              "1    b\n",
              "2    c\n",
              "3    d\n",
              "4    e\n",
              "dtype: object"
            ]
          },
          "metadata": {
            "tags": []
          },
          "execution_count": 121
        }
      ]
    },
    {
      "cell_type": "code",
      "metadata": {
        "id": "U0Qs1e1saf_P",
        "outputId": "64588d2a-c461-470b-aa75-330d438f60f9",
        "colab": {
          "base_uri": "https://localhost:8080/",
          "height": 51
        }
      },
      "source": [
        "mySerie2.index, mySerie2.values"
      ],
      "execution_count": 122,
      "outputs": [
        {
          "output_type": "execute_result",
          "data": {
            "text/plain": [
              "(RangeIndex(start=0, stop=5, step=1),\n",
              " array(['a', 'b', 'c', 'd', 'e'], dtype=object))"
            ]
          },
          "metadata": {
            "tags": []
          },
          "execution_count": 122
        }
      ]
    },
    {
      "cell_type": "code",
      "metadata": {
        "id": "vWlRaVIla97R"
      },
      "source": [
        "# DataFrames\n",
        "names = ['Joao', 'Pedro', 'Carla']\n",
        "ages = [20, 22, 15]\n",
        "sex = ['Male', None, 'Female']\n",
        "myDf = pd.DataFrame(data={'Names': names, 'Ages': ages, 'Sex': sex})\n",
        "\n",
        "# or \n",
        "\n",
        "myDf2 = pd.DataFrame(columns=['Names', 'Ages'])\n",
        "myDf2['Names'] = names\n",
        "myDf2['Ages'] = ages"
      ],
      "execution_count": null,
      "outputs": []
    },
    {
      "cell_type": "code",
      "metadata": {
        "id": "GrjA3UQWcZVs",
        "outputId": "e48ef287-eb5a-4e94-ed66-b23ee34117d2",
        "colab": {
          "base_uri": "https://localhost:8080/",
          "height": 142
        }
      },
      "source": [
        "myDf"
      ],
      "execution_count": null,
      "outputs": [
        {
          "output_type": "execute_result",
          "data": {
            "text/html": [
              "<div>\n",
              "<style scoped>\n",
              "    .dataframe tbody tr th:only-of-type {\n",
              "        vertical-align: middle;\n",
              "    }\n",
              "\n",
              "    .dataframe tbody tr th {\n",
              "        vertical-align: top;\n",
              "    }\n",
              "\n",
              "    .dataframe thead th {\n",
              "        text-align: right;\n",
              "    }\n",
              "</style>\n",
              "<table border=\"1\" class=\"dataframe\">\n",
              "  <thead>\n",
              "    <tr style=\"text-align: right;\">\n",
              "      <th></th>\n",
              "      <th>Names</th>\n",
              "      <th>Ages</th>\n",
              "      <th>Sex</th>\n",
              "    </tr>\n",
              "  </thead>\n",
              "  <tbody>\n",
              "    <tr>\n",
              "      <th>0</th>\n",
              "      <td>Joao</td>\n",
              "      <td>20</td>\n",
              "      <td>Male</td>\n",
              "    </tr>\n",
              "    <tr>\n",
              "      <th>1</th>\n",
              "      <td>Pedro</td>\n",
              "      <td>22</td>\n",
              "      <td>None</td>\n",
              "    </tr>\n",
              "    <tr>\n",
              "      <th>2</th>\n",
              "      <td>Carla</td>\n",
              "      <td>15</td>\n",
              "      <td>Female</td>\n",
              "    </tr>\n",
              "  </tbody>\n",
              "</table>\n",
              "</div>"
            ],
            "text/plain": [
              "   Names  Ages     Sex\n",
              "0   Joao    20    Male\n",
              "1  Pedro    22    None\n",
              "2  Carla    15  Female"
            ]
          },
          "metadata": {
            "tags": []
          },
          "execution_count": 84
        }
      ]
    },
    {
      "cell_type": "code",
      "metadata": {
        "id": "IWG7ANBCcbIp",
        "outputId": "9d4b00fd-441e-48cc-f35e-3248824f2a46",
        "colab": {
          "base_uri": "https://localhost:8080/",
          "height": 142
        }
      },
      "source": [
        "myDf2"
      ],
      "execution_count": null,
      "outputs": [
        {
          "output_type": "execute_result",
          "data": {
            "text/html": [
              "<div>\n",
              "<style scoped>\n",
              "    .dataframe tbody tr th:only-of-type {\n",
              "        vertical-align: middle;\n",
              "    }\n",
              "\n",
              "    .dataframe tbody tr th {\n",
              "        vertical-align: top;\n",
              "    }\n",
              "\n",
              "    .dataframe thead th {\n",
              "        text-align: right;\n",
              "    }\n",
              "</style>\n",
              "<table border=\"1\" class=\"dataframe\">\n",
              "  <thead>\n",
              "    <tr style=\"text-align: right;\">\n",
              "      <th></th>\n",
              "      <th>Names</th>\n",
              "      <th>Ages</th>\n",
              "    </tr>\n",
              "  </thead>\n",
              "  <tbody>\n",
              "    <tr>\n",
              "      <th>0</th>\n",
              "      <td>Joao</td>\n",
              "      <td>20</td>\n",
              "    </tr>\n",
              "    <tr>\n",
              "      <th>1</th>\n",
              "      <td>Pedro</td>\n",
              "      <td>22</td>\n",
              "    </tr>\n",
              "    <tr>\n",
              "      <th>2</th>\n",
              "      <td>Carla</td>\n",
              "      <td>15</td>\n",
              "    </tr>\n",
              "  </tbody>\n",
              "</table>\n",
              "</div>"
            ],
            "text/plain": [
              "   Names  Ages\n",
              "0   Joao    20\n",
              "1  Pedro    22\n",
              "2  Carla    15"
            ]
          },
          "metadata": {
            "tags": []
          },
          "execution_count": 85
        }
      ]
    },
    {
      "cell_type": "markdown",
      "metadata": {
        "id": "Lix5A2eU4Mfa"
      },
      "source": [
        "# **ReadCSV or XLS**\n",
        "\n",
        "Creating Serie or DataFrame using csv File"
      ]
    },
    {
      "cell_type": "code",
      "metadata": {
        "id": "5OkRxM6l3Cn1",
        "outputId": "ff0a6f9f-020a-4a4a-89b0-88489c950a14",
        "colab": {
          "base_uri": "https://localhost:8080/",
          "height": 142
        }
      },
      "source": [
        "path = 'https://raw.githubusercontent.com/italomarcelogit/python.free/master/fbprophet/pdv.csv'\n",
        "df = pd.read_csv(path)\n",
        "df.head(3)"
      ],
      "execution_count": null,
      "outputs": [
        {
          "output_type": "execute_result",
          "data": {
            "text/html": [
              "<div>\n",
              "<style scoped>\n",
              "    .dataframe tbody tr th:only-of-type {\n",
              "        vertical-align: middle;\n",
              "    }\n",
              "\n",
              "    .dataframe tbody tr th {\n",
              "        vertical-align: top;\n",
              "    }\n",
              "\n",
              "    .dataframe thead th {\n",
              "        text-align: right;\n",
              "    }\n",
              "</style>\n",
              "<table border=\"1\" class=\"dataframe\">\n",
              "  <thead>\n",
              "    <tr style=\"text-align: right;\">\n",
              "      <th></th>\n",
              "      <th>id</th>\n",
              "      <th>data</th>\n",
              "      <th>loja</th>\n",
              "      <th>cidade</th>\n",
              "      <th>produto</th>\n",
              "      <th>valor</th>\n",
              "      <th>desconto</th>\n",
              "      <th>total</th>\n",
              "      <th>vendedor</th>\n",
              "    </tr>\n",
              "  </thead>\n",
              "  <tbody>\n",
              "    <tr>\n",
              "      <th>0</th>\n",
              "      <td>1</td>\n",
              "      <td>2017-01-24</td>\n",
              "      <td>2</td>\n",
              "      <td>2</td>\n",
              "      <td>8</td>\n",
              "      <td>106015</td>\n",
              "      <td>1</td>\n",
              "      <td>104954.85</td>\n",
              "      <td>6</td>\n",
              "    </tr>\n",
              "    <tr>\n",
              "      <th>1</th>\n",
              "      <td>2</td>\n",
              "      <td>2017-01-10</td>\n",
              "      <td>0</td>\n",
              "      <td>1</td>\n",
              "      <td>9</td>\n",
              "      <td>117439</td>\n",
              "      <td>4</td>\n",
              "      <td>112741.44</td>\n",
              "      <td>8</td>\n",
              "    </tr>\n",
              "    <tr>\n",
              "      <th>2</th>\n",
              "      <td>3</td>\n",
              "      <td>2017-01-08</td>\n",
              "      <td>4</td>\n",
              "      <td>2</td>\n",
              "      <td>0</td>\n",
              "      <td>72602</td>\n",
              "      <td>1</td>\n",
              "      <td>71875.98</td>\n",
              "      <td>5</td>\n",
              "    </tr>\n",
              "  </tbody>\n",
              "</table>\n",
              "</div>"
            ],
            "text/plain": [
              "   id        data  loja  cidade  produto   valor  desconto      total  vendedor\n",
              "0   1  2017-01-24     2       2        8  106015         1  104954.85         6\n",
              "1   2  2017-01-10     0       1        9  117439         4  112741.44         8\n",
              "2   3  2017-01-08     4       2        0   72602         1   71875.98         5"
            ]
          },
          "metadata": {
            "tags": []
          },
          "execution_count": 87
        }
      ]
    },
    {
      "cell_type": "code",
      "metadata": {
        "id": "hwQ6C6ce3Gl3",
        "outputId": "04897277-6693-4667-f1ec-9d46e1544f65",
        "colab": {
          "base_uri": "https://localhost:8080/",
          "height": 204
        }
      },
      "source": [
        "desconto = pd.read_csv(path, usecols=['desconto'])\n",
        "desconto.head()"
      ],
      "execution_count": null,
      "outputs": [
        {
          "output_type": "execute_result",
          "data": {
            "text/html": [
              "<div>\n",
              "<style scoped>\n",
              "    .dataframe tbody tr th:only-of-type {\n",
              "        vertical-align: middle;\n",
              "    }\n",
              "\n",
              "    .dataframe tbody tr th {\n",
              "        vertical-align: top;\n",
              "    }\n",
              "\n",
              "    .dataframe thead th {\n",
              "        text-align: right;\n",
              "    }\n",
              "</style>\n",
              "<table border=\"1\" class=\"dataframe\">\n",
              "  <thead>\n",
              "    <tr style=\"text-align: right;\">\n",
              "      <th></th>\n",
              "      <th>desconto</th>\n",
              "    </tr>\n",
              "  </thead>\n",
              "  <tbody>\n",
              "    <tr>\n",
              "      <th>0</th>\n",
              "      <td>1</td>\n",
              "    </tr>\n",
              "    <tr>\n",
              "      <th>1</th>\n",
              "      <td>4</td>\n",
              "    </tr>\n",
              "    <tr>\n",
              "      <th>2</th>\n",
              "      <td>1</td>\n",
              "    </tr>\n",
              "    <tr>\n",
              "      <th>3</th>\n",
              "      <td>2</td>\n",
              "    </tr>\n",
              "    <tr>\n",
              "      <th>4</th>\n",
              "      <td>5</td>\n",
              "    </tr>\n",
              "  </tbody>\n",
              "</table>\n",
              "</div>"
            ],
            "text/plain": [
              "   desconto\n",
              "0         1\n",
              "1         4\n",
              "2         1\n",
              "3         2\n",
              "4         5"
            ]
          },
          "metadata": {
            "tags": []
          },
          "execution_count": 91
        }
      ]
    },
    {
      "cell_type": "code",
      "metadata": {
        "id": "jX8m102-34Ge",
        "outputId": "58bd1ad7-8795-4bac-c3f0-3ea559f582da",
        "colab": {
          "base_uri": "https://localhost:8080/",
          "height": 142
        }
      },
      "source": [
        "pd.read_csv(path, nrows=3, usecols=['loja', 'cidade'])"
      ],
      "execution_count": null,
      "outputs": [
        {
          "output_type": "execute_result",
          "data": {
            "text/html": [
              "<div>\n",
              "<style scoped>\n",
              "    .dataframe tbody tr th:only-of-type {\n",
              "        vertical-align: middle;\n",
              "    }\n",
              "\n",
              "    .dataframe tbody tr th {\n",
              "        vertical-align: top;\n",
              "    }\n",
              "\n",
              "    .dataframe thead th {\n",
              "        text-align: right;\n",
              "    }\n",
              "</style>\n",
              "<table border=\"1\" class=\"dataframe\">\n",
              "  <thead>\n",
              "    <tr style=\"text-align: right;\">\n",
              "      <th></th>\n",
              "      <th>loja</th>\n",
              "      <th>cidade</th>\n",
              "    </tr>\n",
              "  </thead>\n",
              "  <tbody>\n",
              "    <tr>\n",
              "      <th>0</th>\n",
              "      <td>2</td>\n",
              "      <td>2</td>\n",
              "    </tr>\n",
              "    <tr>\n",
              "      <th>1</th>\n",
              "      <td>0</td>\n",
              "      <td>1</td>\n",
              "    </tr>\n",
              "    <tr>\n",
              "      <th>2</th>\n",
              "      <td>4</td>\n",
              "      <td>2</td>\n",
              "    </tr>\n",
              "  </tbody>\n",
              "</table>\n",
              "</div>"
            ],
            "text/plain": [
              "   loja  cidade\n",
              "0     2       2\n",
              "1     0       1\n",
              "2     4       2"
            ]
          },
          "metadata": {
            "tags": []
          },
          "execution_count": 94
        }
      ]
    },
    {
      "cell_type": "code",
      "metadata": {
        "id": "IGqRgGoWhvL4"
      },
      "source": [
        "# Excel\n",
        "\n",
        "xls = 'https://github.com/italomarcelogit/python.free/blob/master/dataset-sales-random/cities-BR.xlsx?raw=true'\n",
        "\n",
        "df = pd.read_excel(xls)"
      ],
      "execution_count": null,
      "outputs": []
    },
    {
      "cell_type": "code",
      "metadata": {
        "id": "KZW86fuViZ7C",
        "outputId": "0d2e2a78-894f-4441-97cb-211bc1609dfe",
        "colab": {
          "base_uri": "https://localhost:8080/",
          "height": 176
        }
      },
      "source": [
        "df.head(3)"
      ],
      "execution_count": null,
      "outputs": [
        {
          "output_type": "execute_result",
          "data": {
            "text/html": [
              "<div>\n",
              "<style scoped>\n",
              "    .dataframe tbody tr th:only-of-type {\n",
              "        vertical-align: middle;\n",
              "    }\n",
              "\n",
              "    .dataframe tbody tr th {\n",
              "        vertical-align: top;\n",
              "    }\n",
              "\n",
              "    .dataframe thead th {\n",
              "        text-align: right;\n",
              "    }\n",
              "</style>\n",
              "<table border=\"1\" class=\"dataframe\">\n",
              "  <thead>\n",
              "    <tr style=\"text-align: right;\">\n",
              "      <th></th>\n",
              "      <th>city</th>\n",
              "      <th>city_ascii</th>\n",
              "      <th>lat</th>\n",
              "      <th>lng</th>\n",
              "      <th>country</th>\n",
              "      <th>iso2</th>\n",
              "      <th>iso3</th>\n",
              "      <th>admin_name</th>\n",
              "      <th>capital</th>\n",
              "      <th>population</th>\n",
              "      <th>id</th>\n",
              "    </tr>\n",
              "  </thead>\n",
              "  <tbody>\n",
              "    <tr>\n",
              "      <th>0</th>\n",
              "      <td>São Paulo</td>\n",
              "      <td>Sao Paulo</td>\n",
              "      <td>-23.5587</td>\n",
              "      <td>-46.625</td>\n",
              "      <td>Brazil</td>\n",
              "      <td>BR</td>\n",
              "      <td>BRA</td>\n",
              "      <td>São Paulo</td>\n",
              "      <td>admin</td>\n",
              "      <td>18845000.0</td>\n",
              "      <td>1076532519</td>\n",
              "    </tr>\n",
              "    <tr>\n",
              "      <th>1</th>\n",
              "      <td>Rio de Janeiro</td>\n",
              "      <td>Rio de Janeiro</td>\n",
              "      <td>-22.9250</td>\n",
              "      <td>-43.225</td>\n",
              "      <td>Brazil</td>\n",
              "      <td>BR</td>\n",
              "      <td>BRA</td>\n",
              "      <td>Rio de Janeiro</td>\n",
              "      <td>admin</td>\n",
              "      <td>11748000.0</td>\n",
              "      <td>1076887657</td>\n",
              "    </tr>\n",
              "    <tr>\n",
              "      <th>2</th>\n",
              "      <td>Belo Horizonte</td>\n",
              "      <td>Belo Horizonte</td>\n",
              "      <td>-19.9150</td>\n",
              "      <td>-43.915</td>\n",
              "      <td>Brazil</td>\n",
              "      <td>BR</td>\n",
              "      <td>BRA</td>\n",
              "      <td>Minas Gerais</td>\n",
              "      <td>admin</td>\n",
              "      <td>5575000.0</td>\n",
              "      <td>1076967355</td>\n",
              "    </tr>\n",
              "  </tbody>\n",
              "</table>\n",
              "</div>"
            ],
            "text/plain": [
              "             city      city_ascii      lat  ...  capital  population          id\n",
              "0       São Paulo       Sao Paulo -23.5587  ...    admin  18845000.0  1076532519\n",
              "1  Rio de Janeiro  Rio de Janeiro -22.9250  ...    admin  11748000.0  1076887657\n",
              "2  Belo Horizonte  Belo Horizonte -19.9150  ...    admin   5575000.0  1076967355\n",
              "\n",
              "[3 rows x 11 columns]"
            ]
          },
          "metadata": {
            "tags": []
          },
          "execution_count": 116
        }
      ]
    },
    {
      "cell_type": "code",
      "metadata": {
        "id": "VU2LrD5kicDY",
        "outputId": "02900848-3f20-44c4-bc0d-0ce760aa4cb8",
        "colab": {
          "base_uri": "https://localhost:8080/",
          "height": 176
        }
      },
      "source": [
        "pd.read_excel(xls, nrows=3)"
      ],
      "execution_count": null,
      "outputs": [
        {
          "output_type": "execute_result",
          "data": {
            "text/html": [
              "<div>\n",
              "<style scoped>\n",
              "    .dataframe tbody tr th:only-of-type {\n",
              "        vertical-align: middle;\n",
              "    }\n",
              "\n",
              "    .dataframe tbody tr th {\n",
              "        vertical-align: top;\n",
              "    }\n",
              "\n",
              "    .dataframe thead th {\n",
              "        text-align: right;\n",
              "    }\n",
              "</style>\n",
              "<table border=\"1\" class=\"dataframe\">\n",
              "  <thead>\n",
              "    <tr style=\"text-align: right;\">\n",
              "      <th></th>\n",
              "      <th>city</th>\n",
              "      <th>city_ascii</th>\n",
              "      <th>lat</th>\n",
              "      <th>lng</th>\n",
              "      <th>country</th>\n",
              "      <th>iso2</th>\n",
              "      <th>iso3</th>\n",
              "      <th>admin_name</th>\n",
              "      <th>capital</th>\n",
              "      <th>population</th>\n",
              "      <th>id</th>\n",
              "    </tr>\n",
              "  </thead>\n",
              "  <tbody>\n",
              "    <tr>\n",
              "      <th>0</th>\n",
              "      <td>São Paulo</td>\n",
              "      <td>Sao Paulo</td>\n",
              "      <td>-23.5587</td>\n",
              "      <td>-46.625</td>\n",
              "      <td>Brazil</td>\n",
              "      <td>BR</td>\n",
              "      <td>BRA</td>\n",
              "      <td>São Paulo</td>\n",
              "      <td>admin</td>\n",
              "      <td>18845000.0</td>\n",
              "      <td>1076532519</td>\n",
              "    </tr>\n",
              "    <tr>\n",
              "      <th>1</th>\n",
              "      <td>Rio de Janeiro</td>\n",
              "      <td>Rio de Janeiro</td>\n",
              "      <td>-22.9250</td>\n",
              "      <td>-43.225</td>\n",
              "      <td>Brazil</td>\n",
              "      <td>BR</td>\n",
              "      <td>BRA</td>\n",
              "      <td>Rio de Janeiro</td>\n",
              "      <td>admin</td>\n",
              "      <td>11748000.0</td>\n",
              "      <td>1076887657</td>\n",
              "    </tr>\n",
              "    <tr>\n",
              "      <th>2</th>\n",
              "      <td>Belo Horizonte</td>\n",
              "      <td>Belo Horizonte</td>\n",
              "      <td>-19.9150</td>\n",
              "      <td>-43.915</td>\n",
              "      <td>Brazil</td>\n",
              "      <td>BR</td>\n",
              "      <td>BRA</td>\n",
              "      <td>Minas Gerais</td>\n",
              "      <td>admin</td>\n",
              "      <td>5575000.0</td>\n",
              "      <td>1076967355</td>\n",
              "    </tr>\n",
              "  </tbody>\n",
              "</table>\n",
              "</div>"
            ],
            "text/plain": [
              "             city      city_ascii      lat  ...  capital  population          id\n",
              "0       São Paulo       Sao Paulo -23.5587  ...    admin  18845000.0  1076532519\n",
              "1  Rio de Janeiro  Rio de Janeiro -22.9250  ...    admin  11748000.0  1076887657\n",
              "2  Belo Horizonte  Belo Horizonte -19.9150  ...    admin   5575000.0  1076967355\n",
              "\n",
              "[3 rows x 11 columns]"
            ]
          },
          "metadata": {
            "tags": []
          },
          "execution_count": 117
        }
      ]
    },
    {
      "cell_type": "markdown",
      "metadata": {
        "id": "qMjPncfvi6YX"
      },
      "source": [
        "# **Get DataFrame/Serie info**"
      ]
    },
    {
      "cell_type": "code",
      "metadata": {
        "id": "Q7hKofEwFMHG",
        "outputId": "ef4f1219-c2f3-4e22-ec10-e8459aa2c5fb",
        "colab": {
          "base_uri": "https://localhost:8080/",
          "height": 323
        }
      },
      "source": [
        "df.info()"
      ],
      "execution_count": null,
      "outputs": [
        {
          "output_type": "stream",
          "text": [
            "<class 'pandas.core.frame.DataFrame'>\n",
            "RangeIndex: 387 entries, 0 to 386\n",
            "Data columns (total 11 columns):\n",
            " #   Column      Non-Null Count  Dtype  \n",
            "---  ------      --------------  -----  \n",
            " 0   city        387 non-null    object \n",
            " 1   city_ascii  387 non-null    object \n",
            " 2   lat         387 non-null    float64\n",
            " 3   lng         387 non-null    float64\n",
            " 4   country     387 non-null    object \n",
            " 5   iso2        387 non-null    object \n",
            " 6   iso3        387 non-null    object \n",
            " 7   admin_name  387 non-null    object \n",
            " 8   capital     27 non-null     object \n",
            " 9   population  387 non-null    float64\n",
            " 10  id          387 non-null    int64  \n",
            "dtypes: float64(3), int64(1), object(7)\n",
            "memory usage: 33.4+ KB\n"
          ],
          "name": "stdout"
        }
      ]
    },
    {
      "cell_type": "code",
      "metadata": {
        "id": "CnCH5zI3jANu",
        "outputId": "6c2bc40d-a920-45ca-f303-07514612294d",
        "colab": {
          "base_uri": "https://localhost:8080/",
          "height": 297
        }
      },
      "source": [
        "df.describe()"
      ],
      "execution_count": null,
      "outputs": [
        {
          "output_type": "execute_result",
          "data": {
            "text/html": [
              "<div>\n",
              "<style scoped>\n",
              "    .dataframe tbody tr th:only-of-type {\n",
              "        vertical-align: middle;\n",
              "    }\n",
              "\n",
              "    .dataframe tbody tr th {\n",
              "        vertical-align: top;\n",
              "    }\n",
              "\n",
              "    .dataframe thead th {\n",
              "        text-align: right;\n",
              "    }\n",
              "</style>\n",
              "<table border=\"1\" class=\"dataframe\">\n",
              "  <thead>\n",
              "    <tr style=\"text-align: right;\">\n",
              "      <th></th>\n",
              "      <th>lat</th>\n",
              "      <th>lng</th>\n",
              "      <th>population</th>\n",
              "      <th>id</th>\n",
              "    </tr>\n",
              "  </thead>\n",
              "  <tbody>\n",
              "    <tr>\n",
              "      <th>count</th>\n",
              "      <td>387.000000</td>\n",
              "      <td>387.000000</td>\n",
              "      <td>3.870000e+02</td>\n",
              "      <td>3.870000e+02</td>\n",
              "    </tr>\n",
              "    <tr>\n",
              "      <th>mean</th>\n",
              "      <td>-15.552564</td>\n",
              "      <td>-47.713768</td>\n",
              "      <td>3.288352e+05</td>\n",
              "      <td>1.076483e+09</td>\n",
              "    </tr>\n",
              "    <tr>\n",
              "      <th>std</th>\n",
              "      <td>8.986011</td>\n",
              "      <td>7.182142</td>\n",
              "      <td>1.260428e+06</td>\n",
              "      <td>2.952965e+05</td>\n",
              "    </tr>\n",
              "    <tr>\n",
              "      <th>min</th>\n",
              "      <td>-33.520000</td>\n",
              "      <td>-72.670000</td>\n",
              "      <td>9.560000e+02</td>\n",
              "      <td>1.076000e+09</td>\n",
              "    </tr>\n",
              "    <tr>\n",
              "      <th>25%</th>\n",
              "      <td>-22.684800</td>\n",
              "      <td>-51.298300</td>\n",
              "      <td>3.888450e+04</td>\n",
              "      <td>1.076229e+09</td>\n",
              "    </tr>\n",
              "    <tr>\n",
              "      <th>50%</th>\n",
              "      <td>-16.650000</td>\n",
              "      <td>-47.860000</td>\n",
              "      <td>6.805600e+04</td>\n",
              "      <td>1.076495e+09</td>\n",
              "    </tr>\n",
              "    <tr>\n",
              "      <th>75%</th>\n",
              "      <td>-7.145550</td>\n",
              "      <td>-42.530000</td>\n",
              "      <td>1.877530e+05</td>\n",
              "      <td>1.076736e+09</td>\n",
              "    </tr>\n",
              "    <tr>\n",
              "      <th>max</th>\n",
              "      <td>3.216700</td>\n",
              "      <td>-34.850000</td>\n",
              "      <td>1.884500e+07</td>\n",
              "      <td>1.076998e+09</td>\n",
              "    </tr>\n",
              "  </tbody>\n",
              "</table>\n",
              "</div>"
            ],
            "text/plain": [
              "              lat         lng    population            id\n",
              "count  387.000000  387.000000  3.870000e+02  3.870000e+02\n",
              "mean   -15.552564  -47.713768  3.288352e+05  1.076483e+09\n",
              "std      8.986011    7.182142  1.260428e+06  2.952965e+05\n",
              "min    -33.520000  -72.670000  9.560000e+02  1.076000e+09\n",
              "25%    -22.684800  -51.298300  3.888450e+04  1.076229e+09\n",
              "50%    -16.650000  -47.860000  6.805600e+04  1.076495e+09\n",
              "75%     -7.145550  -42.530000  1.877530e+05  1.076736e+09\n",
              "max      3.216700  -34.850000  1.884500e+07  1.076998e+09"
            ]
          },
          "metadata": {
            "tags": []
          },
          "execution_count": 108
        }
      ]
    },
    {
      "cell_type": "code",
      "metadata": {
        "id": "exiUu_KHjF0X",
        "outputId": "6cb810d8-9373-4ee8-f89b-b0489b45d8b6",
        "colab": {
          "base_uri": "https://localhost:8080/",
          "height": 173
        }
      },
      "source": [
        "df.describe(include=['object'])"
      ],
      "execution_count": 123,
      "outputs": [
        {
          "output_type": "execute_result",
          "data": {
            "text/html": [
              "<div>\n",
              "<style scoped>\n",
              "    .dataframe tbody tr th:only-of-type {\n",
              "        vertical-align: middle;\n",
              "    }\n",
              "\n",
              "    .dataframe tbody tr th {\n",
              "        vertical-align: top;\n",
              "    }\n",
              "\n",
              "    .dataframe thead th {\n",
              "        text-align: right;\n",
              "    }\n",
              "</style>\n",
              "<table border=\"1\" class=\"dataframe\">\n",
              "  <thead>\n",
              "    <tr style=\"text-align: right;\">\n",
              "      <th></th>\n",
              "      <th>city</th>\n",
              "      <th>city_ascii</th>\n",
              "      <th>country</th>\n",
              "      <th>iso2</th>\n",
              "      <th>iso3</th>\n",
              "      <th>admin_name</th>\n",
              "      <th>capital</th>\n",
              "    </tr>\n",
              "  </thead>\n",
              "  <tbody>\n",
              "    <tr>\n",
              "      <th>count</th>\n",
              "      <td>387</td>\n",
              "      <td>387</td>\n",
              "      <td>387</td>\n",
              "      <td>387</td>\n",
              "      <td>387</td>\n",
              "      <td>387</td>\n",
              "      <td>27</td>\n",
              "    </tr>\n",
              "    <tr>\n",
              "      <th>unique</th>\n",
              "      <td>383</td>\n",
              "      <td>383</td>\n",
              "      <td>1</td>\n",
              "      <td>1</td>\n",
              "      <td>1</td>\n",
              "      <td>27</td>\n",
              "      <td>2</td>\n",
              "    </tr>\n",
              "    <tr>\n",
              "      <th>top</th>\n",
              "      <td>Natal</td>\n",
              "      <td>Crato</td>\n",
              "      <td>Brazil</td>\n",
              "      <td>BR</td>\n",
              "      <td>BRA</td>\n",
              "      <td>São Paulo</td>\n",
              "      <td>admin</td>\n",
              "    </tr>\n",
              "    <tr>\n",
              "      <th>freq</th>\n",
              "      <td>2</td>\n",
              "      <td>2</td>\n",
              "      <td>387</td>\n",
              "      <td>387</td>\n",
              "      <td>387</td>\n",
              "      <td>47</td>\n",
              "      <td>26</td>\n",
              "    </tr>\n",
              "  </tbody>\n",
              "</table>\n",
              "</div>"
            ],
            "text/plain": [
              "         city city_ascii country iso2 iso3 admin_name capital\n",
              "count     387        387     387  387  387        387      27\n",
              "unique    383        383       1    1    1         27       2\n",
              "top     Natal      Crato  Brazil   BR  BRA  São Paulo   admin\n",
              "freq        2          2     387  387  387         47      26"
            ]
          },
          "metadata": {
            "tags": []
          },
          "execution_count": 123
        }
      ]
    },
    {
      "cell_type": "code",
      "metadata": {
        "id": "mqhW7UAQjwGP",
        "outputId": "3defdad9-3add-47a6-9270-fd60a64bba4b",
        "colab": {
          "base_uri": "https://localhost:8080/",
          "height": 34
        }
      },
      "source": [
        "df.shape"
      ],
      "execution_count": 124,
      "outputs": [
        {
          "output_type": "execute_result",
          "data": {
            "text/plain": [
              "(387, 11)"
            ]
          },
          "metadata": {
            "tags": []
          },
          "execution_count": 124
        }
      ]
    },
    {
      "cell_type": "code",
      "metadata": {
        "id": "Vz33Rgwsjy2f",
        "outputId": "539a818d-4739-463e-a2ca-8f228c1f0fed",
        "colab": {
          "base_uri": "https://localhost:8080/",
          "height": 34
        }
      },
      "source": [
        "df.index"
      ],
      "execution_count": 125,
      "outputs": [
        {
          "output_type": "execute_result",
          "data": {
            "text/plain": [
              "RangeIndex(start=0, stop=387, step=1)"
            ]
          },
          "metadata": {
            "tags": []
          },
          "execution_count": 125
        }
      ]
    },
    {
      "cell_type": "code",
      "metadata": {
        "id": "tGckYYBBj0gf",
        "outputId": "7dd7625b-1edf-4f9b-eaa5-1e475b39ccb3",
        "colab": {
          "base_uri": "https://localhost:8080/",
          "height": 68
        }
      },
      "source": [
        "df.columns"
      ],
      "execution_count": 126,
      "outputs": [
        {
          "output_type": "execute_result",
          "data": {
            "text/plain": [
              "Index(['city', 'city_ascii', 'lat', 'lng', 'country', 'iso2', 'iso3',\n",
              "       'admin_name', 'capital', 'population', 'id'],\n",
              "      dtype='object')"
            ]
          },
          "metadata": {
            "tags": []
          },
          "execution_count": 126
        }
      ]
    },
    {
      "cell_type": "code",
      "metadata": {
        "id": "8SDpYYGi4R1X",
        "outputId": "811a2bf9-7737-4974-c1d0-64bdbb75a2f4",
        "colab": {
          "base_uri": "https://localhost:8080/",
          "height": 111
        }
      },
      "source": [
        "df.select_dtypes(include=['float64', 'int64']).head(2)"
      ],
      "execution_count": 127,
      "outputs": [
        {
          "output_type": "execute_result",
          "data": {
            "text/html": [
              "<div>\n",
              "<style scoped>\n",
              "    .dataframe tbody tr th:only-of-type {\n",
              "        vertical-align: middle;\n",
              "    }\n",
              "\n",
              "    .dataframe tbody tr th {\n",
              "        vertical-align: top;\n",
              "    }\n",
              "\n",
              "    .dataframe thead th {\n",
              "        text-align: right;\n",
              "    }\n",
              "</style>\n",
              "<table border=\"1\" class=\"dataframe\">\n",
              "  <thead>\n",
              "    <tr style=\"text-align: right;\">\n",
              "      <th></th>\n",
              "      <th>lat</th>\n",
              "      <th>lng</th>\n",
              "      <th>population</th>\n",
              "      <th>id</th>\n",
              "    </tr>\n",
              "  </thead>\n",
              "  <tbody>\n",
              "    <tr>\n",
              "      <th>0</th>\n",
              "      <td>-23.5587</td>\n",
              "      <td>-46.625</td>\n",
              "      <td>18845000.0</td>\n",
              "      <td>1076532519</td>\n",
              "    </tr>\n",
              "    <tr>\n",
              "      <th>1</th>\n",
              "      <td>-22.9250</td>\n",
              "      <td>-43.225</td>\n",
              "      <td>11748000.0</td>\n",
              "      <td>1076887657</td>\n",
              "    </tr>\n",
              "  </tbody>\n",
              "</table>\n",
              "</div>"
            ],
            "text/plain": [
              "       lat     lng  population          id\n",
              "0 -23.5587 -46.625  18845000.0  1076532519\n",
              "1 -22.9250 -43.225  11748000.0  1076887657"
            ]
          },
          "metadata": {
            "tags": []
          },
          "execution_count": 127
        }
      ]
    },
    {
      "cell_type": "code",
      "metadata": {
        "id": "UY8Tb38a5M2e",
        "outputId": "9375cadb-b29d-4475-8f87-b0b635441325",
        "colab": {
          "base_uri": "https://localhost:8080/",
          "height": 111
        }
      },
      "source": [
        "df.select_dtypes(include=[np.number]).head(2)"
      ],
      "execution_count": 128,
      "outputs": [
        {
          "output_type": "execute_result",
          "data": {
            "text/html": [
              "<div>\n",
              "<style scoped>\n",
              "    .dataframe tbody tr th:only-of-type {\n",
              "        vertical-align: middle;\n",
              "    }\n",
              "\n",
              "    .dataframe tbody tr th {\n",
              "        vertical-align: top;\n",
              "    }\n",
              "\n",
              "    .dataframe thead th {\n",
              "        text-align: right;\n",
              "    }\n",
              "</style>\n",
              "<table border=\"1\" class=\"dataframe\">\n",
              "  <thead>\n",
              "    <tr style=\"text-align: right;\">\n",
              "      <th></th>\n",
              "      <th>lat</th>\n",
              "      <th>lng</th>\n",
              "      <th>population</th>\n",
              "      <th>id</th>\n",
              "    </tr>\n",
              "  </thead>\n",
              "  <tbody>\n",
              "    <tr>\n",
              "      <th>0</th>\n",
              "      <td>-23.5587</td>\n",
              "      <td>-46.625</td>\n",
              "      <td>18845000.0</td>\n",
              "      <td>1076532519</td>\n",
              "    </tr>\n",
              "    <tr>\n",
              "      <th>1</th>\n",
              "      <td>-22.9250</td>\n",
              "      <td>-43.225</td>\n",
              "      <td>11748000.0</td>\n",
              "      <td>1076887657</td>\n",
              "    </tr>\n",
              "  </tbody>\n",
              "</table>\n",
              "</div>"
            ],
            "text/plain": [
              "       lat     lng  population          id\n",
              "0 -23.5587 -46.625  18845000.0  1076532519\n",
              "1 -22.9250 -43.225  11748000.0  1076887657"
            ]
          },
          "metadata": {
            "tags": []
          },
          "execution_count": 128
        }
      ]
    },
    {
      "cell_type": "code",
      "metadata": {
        "id": "ahLyTqFX7bFu",
        "outputId": "9a4bd230-2278-4edf-dacf-2b05fd9e3e98",
        "colab": {
          "base_uri": "https://localhost:8080/",
          "height": 111
        }
      },
      "source": [
        "df.select_dtypes(include=['object']).head(2)"
      ],
      "execution_count": 129,
      "outputs": [
        {
          "output_type": "execute_result",
          "data": {
            "text/html": [
              "<div>\n",
              "<style scoped>\n",
              "    .dataframe tbody tr th:only-of-type {\n",
              "        vertical-align: middle;\n",
              "    }\n",
              "\n",
              "    .dataframe tbody tr th {\n",
              "        vertical-align: top;\n",
              "    }\n",
              "\n",
              "    .dataframe thead th {\n",
              "        text-align: right;\n",
              "    }\n",
              "</style>\n",
              "<table border=\"1\" class=\"dataframe\">\n",
              "  <thead>\n",
              "    <tr style=\"text-align: right;\">\n",
              "      <th></th>\n",
              "      <th>city</th>\n",
              "      <th>city_ascii</th>\n",
              "      <th>country</th>\n",
              "      <th>iso2</th>\n",
              "      <th>iso3</th>\n",
              "      <th>admin_name</th>\n",
              "      <th>capital</th>\n",
              "    </tr>\n",
              "  </thead>\n",
              "  <tbody>\n",
              "    <tr>\n",
              "      <th>0</th>\n",
              "      <td>São Paulo</td>\n",
              "      <td>Sao Paulo</td>\n",
              "      <td>Brazil</td>\n",
              "      <td>BR</td>\n",
              "      <td>BRA</td>\n",
              "      <td>São Paulo</td>\n",
              "      <td>admin</td>\n",
              "    </tr>\n",
              "    <tr>\n",
              "      <th>1</th>\n",
              "      <td>Rio de Janeiro</td>\n",
              "      <td>Rio de Janeiro</td>\n",
              "      <td>Brazil</td>\n",
              "      <td>BR</td>\n",
              "      <td>BRA</td>\n",
              "      <td>Rio de Janeiro</td>\n",
              "      <td>admin</td>\n",
              "    </tr>\n",
              "  </tbody>\n",
              "</table>\n",
              "</div>"
            ],
            "text/plain": [
              "             city      city_ascii country iso2 iso3      admin_name capital\n",
              "0       São Paulo       Sao Paulo  Brazil   BR  BRA       São Paulo   admin\n",
              "1  Rio de Janeiro  Rio de Janeiro  Brazil   BR  BRA  Rio de Janeiro   admin"
            ]
          },
          "metadata": {
            "tags": []
          },
          "execution_count": 129
        }
      ]
    },
    {
      "cell_type": "markdown",
      "metadata": {
        "id": "w5cCGR7U75ue"
      },
      "source": [
        "**Copy**"
      ]
    },
    {
      "cell_type": "code",
      "metadata": {
        "id": "F4EyqbRZ78LM",
        "outputId": "b102f959-d73e-42cd-837d-b61749cf0aa8",
        "colab": {
          "base_uri": "https://localhost:8080/",
          "height": 204
        }
      },
      "source": [
        "df1 = pd.DataFrame({'a':np.zeros(5), 'b':np.arange(1,6), 'c': np.array(5)})\n",
        "df1"
      ],
      "execution_count": null,
      "outputs": [
        {
          "output_type": "execute_result",
          "data": {
            "text/html": [
              "<div>\n",
              "<style scoped>\n",
              "    .dataframe tbody tr th:only-of-type {\n",
              "        vertical-align: middle;\n",
              "    }\n",
              "\n",
              "    .dataframe tbody tr th {\n",
              "        vertical-align: top;\n",
              "    }\n",
              "\n",
              "    .dataframe thead th {\n",
              "        text-align: right;\n",
              "    }\n",
              "</style>\n",
              "<table border=\"1\" class=\"dataframe\">\n",
              "  <thead>\n",
              "    <tr style=\"text-align: right;\">\n",
              "      <th></th>\n",
              "      <th>a</th>\n",
              "      <th>b</th>\n",
              "      <th>c</th>\n",
              "    </tr>\n",
              "  </thead>\n",
              "  <tbody>\n",
              "    <tr>\n",
              "      <th>0</th>\n",
              "      <td>0.0</td>\n",
              "      <td>1</td>\n",
              "      <td>5</td>\n",
              "    </tr>\n",
              "    <tr>\n",
              "      <th>1</th>\n",
              "      <td>0.0</td>\n",
              "      <td>2</td>\n",
              "      <td>5</td>\n",
              "    </tr>\n",
              "    <tr>\n",
              "      <th>2</th>\n",
              "      <td>0.0</td>\n",
              "      <td>3</td>\n",
              "      <td>5</td>\n",
              "    </tr>\n",
              "    <tr>\n",
              "      <th>3</th>\n",
              "      <td>0.0</td>\n",
              "      <td>4</td>\n",
              "      <td>5</td>\n",
              "    </tr>\n",
              "    <tr>\n",
              "      <th>4</th>\n",
              "      <td>0.0</td>\n",
              "      <td>5</td>\n",
              "      <td>5</td>\n",
              "    </tr>\n",
              "  </tbody>\n",
              "</table>\n",
              "</div>"
            ],
            "text/plain": [
              "     a  b  c\n",
              "0  0.0  1  5\n",
              "1  0.0  2  5\n",
              "2  0.0  3  5\n",
              "3  0.0  4  5\n",
              "4  0.0  5  5"
            ]
          },
          "metadata": {
            "tags": []
          },
          "execution_count": 111
        }
      ]
    },
    {
      "cell_type": "code",
      "metadata": {
        "id": "rpiStW_Z8M3w",
        "outputId": "c4085dc2-3437-4637-96be-23561ed0e921",
        "colab": {
          "base_uri": "https://localhost:8080/",
          "height": 204
        }
      },
      "source": [
        "df2 = df1\n",
        "df2"
      ],
      "execution_count": null,
      "outputs": [
        {
          "output_type": "execute_result",
          "data": {
            "text/html": [
              "<div>\n",
              "<style scoped>\n",
              "    .dataframe tbody tr th:only-of-type {\n",
              "        vertical-align: middle;\n",
              "    }\n",
              "\n",
              "    .dataframe tbody tr th {\n",
              "        vertical-align: top;\n",
              "    }\n",
              "\n",
              "    .dataframe thead th {\n",
              "        text-align: right;\n",
              "    }\n",
              "</style>\n",
              "<table border=\"1\" class=\"dataframe\">\n",
              "  <thead>\n",
              "    <tr style=\"text-align: right;\">\n",
              "      <th></th>\n",
              "      <th>a</th>\n",
              "      <th>b</th>\n",
              "      <th>c</th>\n",
              "    </tr>\n",
              "  </thead>\n",
              "  <tbody>\n",
              "    <tr>\n",
              "      <th>0</th>\n",
              "      <td>0.0</td>\n",
              "      <td>1</td>\n",
              "      <td>5</td>\n",
              "    </tr>\n",
              "    <tr>\n",
              "      <th>1</th>\n",
              "      <td>0.0</td>\n",
              "      <td>2</td>\n",
              "      <td>5</td>\n",
              "    </tr>\n",
              "    <tr>\n",
              "      <th>2</th>\n",
              "      <td>0.0</td>\n",
              "      <td>3</td>\n",
              "      <td>5</td>\n",
              "    </tr>\n",
              "    <tr>\n",
              "      <th>3</th>\n",
              "      <td>0.0</td>\n",
              "      <td>4</td>\n",
              "      <td>5</td>\n",
              "    </tr>\n",
              "    <tr>\n",
              "      <th>4</th>\n",
              "      <td>0.0</td>\n",
              "      <td>5</td>\n",
              "      <td>5</td>\n",
              "    </tr>\n",
              "  </tbody>\n",
              "</table>\n",
              "</div>"
            ],
            "text/plain": [
              "     a  b  c\n",
              "0  0.0  1  5\n",
              "1  0.0  2  5\n",
              "2  0.0  3  5\n",
              "3  0.0  4  5\n",
              "4  0.0  5  5"
            ]
          },
          "metadata": {
            "tags": []
          },
          "execution_count": 112
        }
      ]
    },
    {
      "cell_type": "code",
      "metadata": {
        "id": "MGJ_PEkQ8RDV",
        "outputId": "0d68cd78-aeae-41ef-a860-9387a9879f48",
        "colab": {
          "base_uri": "https://localhost:8080/",
          "height": 34
        }
      },
      "source": [
        "df2['a'] = np.array(3)\n",
        "df2['a'].values, df1['a'].values"
      ],
      "execution_count": 130,
      "outputs": [
        {
          "output_type": "execute_result",
          "data": {
            "text/plain": [
              "(array([3, 3, 3, 3, 3]), array([3, 3, 3, 3, 3]))"
            ]
          },
          "metadata": {
            "tags": []
          },
          "execution_count": 130
        }
      ]
    },
    {
      "cell_type": "code",
      "metadata": {
        "id": "YXO9pM1B8Z_x",
        "outputId": "49af246a-0ebf-4022-e1ab-ea564908633c",
        "colab": {
          "base_uri": "https://localhost:8080/",
          "height": 34
        }
      },
      "source": [
        "df1 = pd.DataFrame({'a':np.zeros(5), 'b':np.arange(1,6), 'c': np.array(5)})\n",
        "df2 = df1.copy()\n",
        "df2['a'] = np.array(3)\n",
        "df2['a'].values, df1['a'].values"
      ],
      "execution_count": 137,
      "outputs": [
        {
          "output_type": "execute_result",
          "data": {
            "text/plain": [
              "(array([3, 3, 3, 3, 3]), array([0., 0., 0., 0., 0.]))"
            ]
          },
          "metadata": {
            "tags": []
          },
          "execution_count": 137
        }
      ]
    },
    {
      "cell_type": "markdown",
      "metadata": {
        "id": "pCjhrrwdOSzB"
      },
      "source": [
        "**CREATING NEW COLUMN OR ROW**"
      ]
    },
    {
      "cell_type": "code",
      "metadata": {
        "id": "xvIum_cuOYha",
        "outputId": "e11573a1-e331-400e-8710-8333ee7742e2",
        "colab": {
          "base_uri": "https://localhost:8080/",
          "height": 204
        }
      },
      "source": [
        "df2"
      ],
      "execution_count": 138,
      "outputs": [
        {
          "output_type": "execute_result",
          "data": {
            "text/html": [
              "<div>\n",
              "<style scoped>\n",
              "    .dataframe tbody tr th:only-of-type {\n",
              "        vertical-align: middle;\n",
              "    }\n",
              "\n",
              "    .dataframe tbody tr th {\n",
              "        vertical-align: top;\n",
              "    }\n",
              "\n",
              "    .dataframe thead th {\n",
              "        text-align: right;\n",
              "    }\n",
              "</style>\n",
              "<table border=\"1\" class=\"dataframe\">\n",
              "  <thead>\n",
              "    <tr style=\"text-align: right;\">\n",
              "      <th></th>\n",
              "      <th>a</th>\n",
              "      <th>b</th>\n",
              "      <th>c</th>\n",
              "    </tr>\n",
              "  </thead>\n",
              "  <tbody>\n",
              "    <tr>\n",
              "      <th>0</th>\n",
              "      <td>3</td>\n",
              "      <td>1</td>\n",
              "      <td>5</td>\n",
              "    </tr>\n",
              "    <tr>\n",
              "      <th>1</th>\n",
              "      <td>3</td>\n",
              "      <td>2</td>\n",
              "      <td>5</td>\n",
              "    </tr>\n",
              "    <tr>\n",
              "      <th>2</th>\n",
              "      <td>3</td>\n",
              "      <td>3</td>\n",
              "      <td>5</td>\n",
              "    </tr>\n",
              "    <tr>\n",
              "      <th>3</th>\n",
              "      <td>3</td>\n",
              "      <td>4</td>\n",
              "      <td>5</td>\n",
              "    </tr>\n",
              "    <tr>\n",
              "      <th>4</th>\n",
              "      <td>3</td>\n",
              "      <td>5</td>\n",
              "      <td>5</td>\n",
              "    </tr>\n",
              "  </tbody>\n",
              "</table>\n",
              "</div>"
            ],
            "text/plain": [
              "   a  b  c\n",
              "0  3  1  5\n",
              "1  3  2  5\n",
              "2  3  3  5\n",
              "3  3  4  5\n",
              "4  3  5  5"
            ]
          },
          "metadata": {
            "tags": []
          },
          "execution_count": 138
        }
      ]
    },
    {
      "cell_type": "code",
      "metadata": {
        "id": "jBDWVekNOcAz",
        "outputId": "490d7df3-ed6c-4695-ca1b-76d12bccd05b",
        "colab": {
          "base_uri": "https://localhost:8080/",
          "height": 204
        }
      },
      "source": [
        "# add column d\n",
        "df2['d'] = np.random.randint(100,150.5)\n",
        "df2"
      ],
      "execution_count": 139,
      "outputs": [
        {
          "output_type": "execute_result",
          "data": {
            "text/html": [
              "<div>\n",
              "<style scoped>\n",
              "    .dataframe tbody tr th:only-of-type {\n",
              "        vertical-align: middle;\n",
              "    }\n",
              "\n",
              "    .dataframe tbody tr th {\n",
              "        vertical-align: top;\n",
              "    }\n",
              "\n",
              "    .dataframe thead th {\n",
              "        text-align: right;\n",
              "    }\n",
              "</style>\n",
              "<table border=\"1\" class=\"dataframe\">\n",
              "  <thead>\n",
              "    <tr style=\"text-align: right;\">\n",
              "      <th></th>\n",
              "      <th>a</th>\n",
              "      <th>b</th>\n",
              "      <th>c</th>\n",
              "      <th>d</th>\n",
              "    </tr>\n",
              "  </thead>\n",
              "  <tbody>\n",
              "    <tr>\n",
              "      <th>0</th>\n",
              "      <td>3</td>\n",
              "      <td>1</td>\n",
              "      <td>5</td>\n",
              "      <td>125</td>\n",
              "    </tr>\n",
              "    <tr>\n",
              "      <th>1</th>\n",
              "      <td>3</td>\n",
              "      <td>2</td>\n",
              "      <td>5</td>\n",
              "      <td>125</td>\n",
              "    </tr>\n",
              "    <tr>\n",
              "      <th>2</th>\n",
              "      <td>3</td>\n",
              "      <td>3</td>\n",
              "      <td>5</td>\n",
              "      <td>125</td>\n",
              "    </tr>\n",
              "    <tr>\n",
              "      <th>3</th>\n",
              "      <td>3</td>\n",
              "      <td>4</td>\n",
              "      <td>5</td>\n",
              "      <td>125</td>\n",
              "    </tr>\n",
              "    <tr>\n",
              "      <th>4</th>\n",
              "      <td>3</td>\n",
              "      <td>5</td>\n",
              "      <td>5</td>\n",
              "      <td>125</td>\n",
              "    </tr>\n",
              "  </tbody>\n",
              "</table>\n",
              "</div>"
            ],
            "text/plain": [
              "   a  b  c    d\n",
              "0  3  1  5  125\n",
              "1  3  2  5  125\n",
              "2  3  3  5  125\n",
              "3  3  4  5  125\n",
              "4  3  5  5  125"
            ]
          },
          "metadata": {
            "tags": []
          },
          "execution_count": 139
        }
      ]
    },
    {
      "cell_type": "code",
      "metadata": {
        "id": "T9gUK82oOmkG",
        "outputId": "caf7a0b2-057c-4ba7-e32b-40cbdc677e8d",
        "colab": {
          "base_uri": "https://localhost:8080/",
          "height": 235
        }
      },
      "source": [
        "# add row with index 5\n",
        "df2 = df2.append({'a': 301, 'b': 304, 'c': 303, 'd': 304}, ignore_index=True)\n",
        "df2"
      ],
      "execution_count": 141,
      "outputs": [
        {
          "output_type": "execute_result",
          "data": {
            "text/html": [
              "<div>\n",
              "<style scoped>\n",
              "    .dataframe tbody tr th:only-of-type {\n",
              "        vertical-align: middle;\n",
              "    }\n",
              "\n",
              "    .dataframe tbody tr th {\n",
              "        vertical-align: top;\n",
              "    }\n",
              "\n",
              "    .dataframe thead th {\n",
              "        text-align: right;\n",
              "    }\n",
              "</style>\n",
              "<table border=\"1\" class=\"dataframe\">\n",
              "  <thead>\n",
              "    <tr style=\"text-align: right;\">\n",
              "      <th></th>\n",
              "      <th>a</th>\n",
              "      <th>b</th>\n",
              "      <th>c</th>\n",
              "      <th>d</th>\n",
              "    </tr>\n",
              "  </thead>\n",
              "  <tbody>\n",
              "    <tr>\n",
              "      <th>0</th>\n",
              "      <td>3</td>\n",
              "      <td>1</td>\n",
              "      <td>5</td>\n",
              "      <td>125</td>\n",
              "    </tr>\n",
              "    <tr>\n",
              "      <th>1</th>\n",
              "      <td>3</td>\n",
              "      <td>2</td>\n",
              "      <td>5</td>\n",
              "      <td>125</td>\n",
              "    </tr>\n",
              "    <tr>\n",
              "      <th>2</th>\n",
              "      <td>3</td>\n",
              "      <td>3</td>\n",
              "      <td>5</td>\n",
              "      <td>125</td>\n",
              "    </tr>\n",
              "    <tr>\n",
              "      <th>3</th>\n",
              "      <td>3</td>\n",
              "      <td>4</td>\n",
              "      <td>5</td>\n",
              "      <td>125</td>\n",
              "    </tr>\n",
              "    <tr>\n",
              "      <th>4</th>\n",
              "      <td>3</td>\n",
              "      <td>5</td>\n",
              "      <td>5</td>\n",
              "      <td>125</td>\n",
              "    </tr>\n",
              "    <tr>\n",
              "      <th>5</th>\n",
              "      <td>301</td>\n",
              "      <td>304</td>\n",
              "      <td>303</td>\n",
              "      <td>304</td>\n",
              "    </tr>\n",
              "  </tbody>\n",
              "</table>\n",
              "</div>"
            ],
            "text/plain": [
              "     a    b    c    d\n",
              "0    3    1    5  125\n",
              "1    3    2    5  125\n",
              "2    3    3    5  125\n",
              "3    3    4    5  125\n",
              "4    3    5    5  125\n",
              "5  301  304  303  304"
            ]
          },
          "metadata": {
            "tags": []
          },
          "execution_count": 141
        }
      ]
    },
    {
      "cell_type": "markdown",
      "metadata": {
        "id": "CD5CsqTRP6wW"
      },
      "source": [
        "**MODIFY COLUMN OR ROW**"
      ]
    },
    {
      "cell_type": "code",
      "metadata": {
        "id": "rpAp9k3vPRBa",
        "outputId": "7c49c7c6-1327-4016-e7fb-d1c0819ea46e",
        "colab": {
          "base_uri": "https://localhost:8080/",
          "height": 235
        }
      },
      "source": [
        "# MODIFY COLUMN\n",
        "df2['d'] = np.array(333)\n",
        "df2"
      ],
      "execution_count": 142,
      "outputs": [
        {
          "output_type": "execute_result",
          "data": {
            "text/html": [
              "<div>\n",
              "<style scoped>\n",
              "    .dataframe tbody tr th:only-of-type {\n",
              "        vertical-align: middle;\n",
              "    }\n",
              "\n",
              "    .dataframe tbody tr th {\n",
              "        vertical-align: top;\n",
              "    }\n",
              "\n",
              "    .dataframe thead th {\n",
              "        text-align: right;\n",
              "    }\n",
              "</style>\n",
              "<table border=\"1\" class=\"dataframe\">\n",
              "  <thead>\n",
              "    <tr style=\"text-align: right;\">\n",
              "      <th></th>\n",
              "      <th>a</th>\n",
              "      <th>b</th>\n",
              "      <th>c</th>\n",
              "      <th>d</th>\n",
              "    </tr>\n",
              "  </thead>\n",
              "  <tbody>\n",
              "    <tr>\n",
              "      <th>0</th>\n",
              "      <td>3</td>\n",
              "      <td>1</td>\n",
              "      <td>5</td>\n",
              "      <td>333</td>\n",
              "    </tr>\n",
              "    <tr>\n",
              "      <th>1</th>\n",
              "      <td>3</td>\n",
              "      <td>2</td>\n",
              "      <td>5</td>\n",
              "      <td>333</td>\n",
              "    </tr>\n",
              "    <tr>\n",
              "      <th>2</th>\n",
              "      <td>3</td>\n",
              "      <td>3</td>\n",
              "      <td>5</td>\n",
              "      <td>333</td>\n",
              "    </tr>\n",
              "    <tr>\n",
              "      <th>3</th>\n",
              "      <td>3</td>\n",
              "      <td>4</td>\n",
              "      <td>5</td>\n",
              "      <td>333</td>\n",
              "    </tr>\n",
              "    <tr>\n",
              "      <th>4</th>\n",
              "      <td>3</td>\n",
              "      <td>5</td>\n",
              "      <td>5</td>\n",
              "      <td>333</td>\n",
              "    </tr>\n",
              "    <tr>\n",
              "      <th>5</th>\n",
              "      <td>301</td>\n",
              "      <td>304</td>\n",
              "      <td>303</td>\n",
              "      <td>333</td>\n",
              "    </tr>\n",
              "  </tbody>\n",
              "</table>\n",
              "</div>"
            ],
            "text/plain": [
              "     a    b    c    d\n",
              "0    3    1    5  333\n",
              "1    3    2    5  333\n",
              "2    3    3    5  333\n",
              "3    3    4    5  333\n",
              "4    3    5    5  333\n",
              "5  301  304  303  333"
            ]
          },
          "metadata": {
            "tags": []
          },
          "execution_count": 142
        }
      ]
    },
    {
      "cell_type": "code",
      "metadata": {
        "id": "BPsCJEtbOy_a",
        "outputId": "0bc3b434-1668-4608-b4dd-8c254f23aab7",
        "colab": {
          "base_uri": "https://localhost:8080/",
          "height": 235
        }
      },
      "source": [
        "# MODIFY ROW\n",
        "df2.iloc[5] = [444, 444,444,444]\n",
        "df2"
      ],
      "execution_count": 145,
      "outputs": [
        {
          "output_type": "execute_result",
          "data": {
            "text/html": [
              "<div>\n",
              "<style scoped>\n",
              "    .dataframe tbody tr th:only-of-type {\n",
              "        vertical-align: middle;\n",
              "    }\n",
              "\n",
              "    .dataframe tbody tr th {\n",
              "        vertical-align: top;\n",
              "    }\n",
              "\n",
              "    .dataframe thead th {\n",
              "        text-align: right;\n",
              "    }\n",
              "</style>\n",
              "<table border=\"1\" class=\"dataframe\">\n",
              "  <thead>\n",
              "    <tr style=\"text-align: right;\">\n",
              "      <th></th>\n",
              "      <th>a</th>\n",
              "      <th>b</th>\n",
              "      <th>c</th>\n",
              "      <th>d</th>\n",
              "    </tr>\n",
              "  </thead>\n",
              "  <tbody>\n",
              "    <tr>\n",
              "      <th>0</th>\n",
              "      <td>3</td>\n",
              "      <td>1</td>\n",
              "      <td>5</td>\n",
              "      <td>333</td>\n",
              "    </tr>\n",
              "    <tr>\n",
              "      <th>1</th>\n",
              "      <td>3</td>\n",
              "      <td>2</td>\n",
              "      <td>5</td>\n",
              "      <td>333</td>\n",
              "    </tr>\n",
              "    <tr>\n",
              "      <th>2</th>\n",
              "      <td>3</td>\n",
              "      <td>3</td>\n",
              "      <td>5</td>\n",
              "      <td>333</td>\n",
              "    </tr>\n",
              "    <tr>\n",
              "      <th>3</th>\n",
              "      <td>3</td>\n",
              "      <td>4</td>\n",
              "      <td>5</td>\n",
              "      <td>333</td>\n",
              "    </tr>\n",
              "    <tr>\n",
              "      <th>4</th>\n",
              "      <td>3</td>\n",
              "      <td>5</td>\n",
              "      <td>5</td>\n",
              "      <td>333</td>\n",
              "    </tr>\n",
              "    <tr>\n",
              "      <th>5</th>\n",
              "      <td>444</td>\n",
              "      <td>444</td>\n",
              "      <td>444</td>\n",
              "      <td>444</td>\n",
              "    </tr>\n",
              "  </tbody>\n",
              "</table>\n",
              "</div>"
            ],
            "text/plain": [
              "     a    b    c    d\n",
              "0    3    1    5  333\n",
              "1    3    2    5  333\n",
              "2    3    3    5  333\n",
              "3    3    4    5  333\n",
              "4    3    5    5  333\n",
              "5  444  444  444  444"
            ]
          },
          "metadata": {
            "tags": []
          },
          "execution_count": 145
        }
      ]
    },
    {
      "cell_type": "markdown",
      "metadata": {
        "id": "az2nVBTwQCeV"
      },
      "source": [
        "**DELETE COLUMN OR ROW**"
      ]
    },
    {
      "cell_type": "code",
      "metadata": {
        "id": "96Opks23QFV7",
        "outputId": "aeb7ee7a-365a-4711-ed55-d44fc54089f9",
        "colab": {
          "base_uri": "https://localhost:8080/",
          "height": 235
        }
      },
      "source": [
        "# DELETE COLUMN d\n",
        "df2 = df2.drop('d', axis=1)\n",
        "df2"
      ],
      "execution_count": 147,
      "outputs": [
        {
          "output_type": "execute_result",
          "data": {
            "text/html": [
              "<div>\n",
              "<style scoped>\n",
              "    .dataframe tbody tr th:only-of-type {\n",
              "        vertical-align: middle;\n",
              "    }\n",
              "\n",
              "    .dataframe tbody tr th {\n",
              "        vertical-align: top;\n",
              "    }\n",
              "\n",
              "    .dataframe thead th {\n",
              "        text-align: right;\n",
              "    }\n",
              "</style>\n",
              "<table border=\"1\" class=\"dataframe\">\n",
              "  <thead>\n",
              "    <tr style=\"text-align: right;\">\n",
              "      <th></th>\n",
              "      <th>a</th>\n",
              "      <th>b</th>\n",
              "      <th>c</th>\n",
              "    </tr>\n",
              "  </thead>\n",
              "  <tbody>\n",
              "    <tr>\n",
              "      <th>0</th>\n",
              "      <td>3</td>\n",
              "      <td>1</td>\n",
              "      <td>5</td>\n",
              "    </tr>\n",
              "    <tr>\n",
              "      <th>1</th>\n",
              "      <td>3</td>\n",
              "      <td>2</td>\n",
              "      <td>5</td>\n",
              "    </tr>\n",
              "    <tr>\n",
              "      <th>2</th>\n",
              "      <td>3</td>\n",
              "      <td>3</td>\n",
              "      <td>5</td>\n",
              "    </tr>\n",
              "    <tr>\n",
              "      <th>3</th>\n",
              "      <td>3</td>\n",
              "      <td>4</td>\n",
              "      <td>5</td>\n",
              "    </tr>\n",
              "    <tr>\n",
              "      <th>4</th>\n",
              "      <td>3</td>\n",
              "      <td>5</td>\n",
              "      <td>5</td>\n",
              "    </tr>\n",
              "    <tr>\n",
              "      <th>5</th>\n",
              "      <td>444</td>\n",
              "      <td>444</td>\n",
              "      <td>444</td>\n",
              "    </tr>\n",
              "  </tbody>\n",
              "</table>\n",
              "</div>"
            ],
            "text/plain": [
              "     a    b    c\n",
              "0    3    1    5\n",
              "1    3    2    5\n",
              "2    3    3    5\n",
              "3    3    4    5\n",
              "4    3    5    5\n",
              "5  444  444  444"
            ]
          },
          "metadata": {
            "tags": []
          },
          "execution_count": 147
        }
      ]
    },
    {
      "cell_type": "code",
      "metadata": {
        "id": "yuyEsAEeQYTT",
        "outputId": "d5bf7a44-9ddc-4bd6-c275-d596ab612ba0",
        "colab": {
          "base_uri": "https://localhost:8080/",
          "height": 204
        }
      },
      "source": [
        "# DELETE ROW 5, by index\n",
        "\n",
        "df2 = df2.drop([5])\n",
        "df2"
      ],
      "execution_count": 148,
      "outputs": [
        {
          "output_type": "execute_result",
          "data": {
            "text/html": [
              "<div>\n",
              "<style scoped>\n",
              "    .dataframe tbody tr th:only-of-type {\n",
              "        vertical-align: middle;\n",
              "    }\n",
              "\n",
              "    .dataframe tbody tr th {\n",
              "        vertical-align: top;\n",
              "    }\n",
              "\n",
              "    .dataframe thead th {\n",
              "        text-align: right;\n",
              "    }\n",
              "</style>\n",
              "<table border=\"1\" class=\"dataframe\">\n",
              "  <thead>\n",
              "    <tr style=\"text-align: right;\">\n",
              "      <th></th>\n",
              "      <th>a</th>\n",
              "      <th>b</th>\n",
              "      <th>c</th>\n",
              "    </tr>\n",
              "  </thead>\n",
              "  <tbody>\n",
              "    <tr>\n",
              "      <th>0</th>\n",
              "      <td>3</td>\n",
              "      <td>1</td>\n",
              "      <td>5</td>\n",
              "    </tr>\n",
              "    <tr>\n",
              "      <th>1</th>\n",
              "      <td>3</td>\n",
              "      <td>2</td>\n",
              "      <td>5</td>\n",
              "    </tr>\n",
              "    <tr>\n",
              "      <th>2</th>\n",
              "      <td>3</td>\n",
              "      <td>3</td>\n",
              "      <td>5</td>\n",
              "    </tr>\n",
              "    <tr>\n",
              "      <th>3</th>\n",
              "      <td>3</td>\n",
              "      <td>4</td>\n",
              "      <td>5</td>\n",
              "    </tr>\n",
              "    <tr>\n",
              "      <th>4</th>\n",
              "      <td>3</td>\n",
              "      <td>5</td>\n",
              "      <td>5</td>\n",
              "    </tr>\n",
              "  </tbody>\n",
              "</table>\n",
              "</div>"
            ],
            "text/plain": [
              "   a  b  c\n",
              "0  3  1  5\n",
              "1  3  2  5\n",
              "2  3  3  5\n",
              "3  3  4  5\n",
              "4  3  5  5"
            ]
          },
          "metadata": {
            "tags": []
          },
          "execution_count": 148
        }
      ]
    },
    {
      "cell_type": "markdown",
      "metadata": {
        "id": "_zIZoNsiQoQb"
      },
      "source": [
        "**PANDAS MATH**"
      ]
    },
    {
      "cell_type": "code",
      "metadata": {
        "id": "-3nh7D3KQrCZ",
        "outputId": "dbfb4349-ef1d-44a1-f084-3276ee13c4ba",
        "colab": {
          "base_uri": "https://localhost:8080/",
          "height": 204
        }
      },
      "source": [
        "df2"
      ],
      "execution_count": 150,
      "outputs": [
        {
          "output_type": "execute_result",
          "data": {
            "text/html": [
              "<div>\n",
              "<style scoped>\n",
              "    .dataframe tbody tr th:only-of-type {\n",
              "        vertical-align: middle;\n",
              "    }\n",
              "\n",
              "    .dataframe tbody tr th {\n",
              "        vertical-align: top;\n",
              "    }\n",
              "\n",
              "    .dataframe thead th {\n",
              "        text-align: right;\n",
              "    }\n",
              "</style>\n",
              "<table border=\"1\" class=\"dataframe\">\n",
              "  <thead>\n",
              "    <tr style=\"text-align: right;\">\n",
              "      <th></th>\n",
              "      <th>a</th>\n",
              "      <th>b</th>\n",
              "      <th>c</th>\n",
              "    </tr>\n",
              "  </thead>\n",
              "  <tbody>\n",
              "    <tr>\n",
              "      <th>0</th>\n",
              "      <td>3</td>\n",
              "      <td>1</td>\n",
              "      <td>5</td>\n",
              "    </tr>\n",
              "    <tr>\n",
              "      <th>1</th>\n",
              "      <td>3</td>\n",
              "      <td>2</td>\n",
              "      <td>5</td>\n",
              "    </tr>\n",
              "    <tr>\n",
              "      <th>2</th>\n",
              "      <td>3</td>\n",
              "      <td>3</td>\n",
              "      <td>5</td>\n",
              "    </tr>\n",
              "    <tr>\n",
              "      <th>3</th>\n",
              "      <td>3</td>\n",
              "      <td>4</td>\n",
              "      <td>5</td>\n",
              "    </tr>\n",
              "    <tr>\n",
              "      <th>4</th>\n",
              "      <td>3</td>\n",
              "      <td>5</td>\n",
              "      <td>5</td>\n",
              "    </tr>\n",
              "  </tbody>\n",
              "</table>\n",
              "</div>"
            ],
            "text/plain": [
              "   a  b  c\n",
              "0  3  1  5\n",
              "1  3  2  5\n",
              "2  3  3  5\n",
              "3  3  4  5\n",
              "4  3  5  5"
            ]
          },
          "metadata": {
            "tags": []
          },
          "execution_count": 150
        }
      ]
    },
    {
      "cell_type": "code",
      "metadata": {
        "id": "G2byocGxQumC",
        "outputId": "0693688c-b618-4f2d-ea3a-41b58ab36881",
        "colab": {
          "base_uri": "https://localhost:8080/",
          "height": 85
        }
      },
      "source": [
        "df2.sum()"
      ],
      "execution_count": 151,
      "outputs": [
        {
          "output_type": "execute_result",
          "data": {
            "text/plain": [
              "a    15\n",
              "b    15\n",
              "c    25\n",
              "dtype: int64"
            ]
          },
          "metadata": {
            "tags": []
          },
          "execution_count": 151
        }
      ]
    },
    {
      "cell_type": "code",
      "metadata": {
        "id": "F27oKGSlQ34y",
        "outputId": "da07fe47-d182-41d4-caef-e21eace7f306",
        "colab": {
          "base_uri": "https://localhost:8080/",
          "height": 34
        }
      },
      "source": [
        "df2['a'].sum()"
      ],
      "execution_count": 153,
      "outputs": [
        {
          "output_type": "execute_result",
          "data": {
            "text/plain": [
              "15"
            ]
          },
          "metadata": {
            "tags": []
          },
          "execution_count": 153
        }
      ]
    },
    {
      "cell_type": "code",
      "metadata": {
        "id": "7GF6gBYZQ60-",
        "outputId": "a887f098-51e2-45ed-d9fe-4088f0fc0b6f",
        "colab": {
          "base_uri": "https://localhost:8080/",
          "height": 34
        }
      },
      "source": [
        "df2['b'].min()"
      ],
      "execution_count": 154,
      "outputs": [
        {
          "output_type": "execute_result",
          "data": {
            "text/plain": [
              "1"
            ]
          },
          "metadata": {
            "tags": []
          },
          "execution_count": 154
        }
      ]
    },
    {
      "cell_type": "code",
      "metadata": {
        "id": "OGMpsQ4uRKbM",
        "outputId": "0542adb0-5be8-4359-ceff-b23bf7465c2a",
        "colab": {
          "base_uri": "https://localhost:8080/",
          "height": 34
        }
      },
      "source": [
        "df2['b'].max()"
      ],
      "execution_count": 157,
      "outputs": [
        {
          "output_type": "execute_result",
          "data": {
            "text/plain": [
              "5"
            ]
          },
          "metadata": {
            "tags": []
          },
          "execution_count": 157
        }
      ]
    },
    {
      "cell_type": "code",
      "metadata": {
        "id": "XSa3C3SzQ-J-",
        "outputId": "9d7bc042-e559-4718-f8c8-235ebdec20e1",
        "colab": {
          "base_uri": "https://localhost:8080/",
          "height": 85
        }
      },
      "source": [
        "df2.mean()"
      ],
      "execution_count": 155,
      "outputs": [
        {
          "output_type": "execute_result",
          "data": {
            "text/plain": [
              "a    3.0\n",
              "b    3.0\n",
              "c    5.0\n",
              "dtype: float64"
            ]
          },
          "metadata": {
            "tags": []
          },
          "execution_count": 155
        }
      ]
    },
    {
      "cell_type": "code",
      "metadata": {
        "id": "6Vbv3ZcmRA90",
        "outputId": "d0b9dfc8-446c-4edd-dffd-6d4bc4d8f50d",
        "colab": {
          "base_uri": "https://localhost:8080/",
          "height": 34
        }
      },
      "source": [
        "df2['b'].median()"
      ],
      "execution_count": 156,
      "outputs": [
        {
          "output_type": "execute_result",
          "data": {
            "text/plain": [
              "3.0"
            ]
          },
          "metadata": {
            "tags": []
          },
          "execution_count": 156
        }
      ]
    },
    {
      "cell_type": "markdown",
      "metadata": {
        "id": "0yYW7RAn8wbb"
      },
      "source": [
        "**map**"
      ]
    },
    {
      "cell_type": "code",
      "metadata": {
        "id": "NB1WnEUH8yXD",
        "outputId": "c92cf85b-3b08-4536-fc70-3ddaacad8138",
        "colab": {
          "base_uri": "https://localhost:8080/",
          "height": 111
        }
      },
      "source": [
        "df3 = pd.DataFrame([{'name': 'Joao', 'status':1}, {'name':'pedro', 'status': 0}])\n",
        "df3"
      ],
      "execution_count": null,
      "outputs": [
        {
          "output_type": "execute_result",
          "data": {
            "text/html": [
              "<div>\n",
              "<style scoped>\n",
              "    .dataframe tbody tr th:only-of-type {\n",
              "        vertical-align: middle;\n",
              "    }\n",
              "\n",
              "    .dataframe tbody tr th {\n",
              "        vertical-align: top;\n",
              "    }\n",
              "\n",
              "    .dataframe thead th {\n",
              "        text-align: right;\n",
              "    }\n",
              "</style>\n",
              "<table border=\"1\" class=\"dataframe\">\n",
              "  <thead>\n",
              "    <tr style=\"text-align: right;\">\n",
              "      <th></th>\n",
              "      <th>name</th>\n",
              "      <th>status</th>\n",
              "    </tr>\n",
              "  </thead>\n",
              "  <tbody>\n",
              "    <tr>\n",
              "      <th>0</th>\n",
              "      <td>Joao</td>\n",
              "      <td>1</td>\n",
              "    </tr>\n",
              "    <tr>\n",
              "      <th>1</th>\n",
              "      <td>pedro</td>\n",
              "      <td>0</td>\n",
              "    </tr>\n",
              "  </tbody>\n",
              "</table>\n",
              "</div>"
            ],
            "text/plain": [
              "    name  status\n",
              "0   Joao       1\n",
              "1  pedro       0"
            ]
          },
          "metadata": {
            "tags": []
          },
          "execution_count": 35
        }
      ]
    },
    {
      "cell_type": "code",
      "metadata": {
        "id": "e-_VZ8lo9Woq",
        "outputId": "e28d9daf-c1ef-4fb1-8cec-4dec018efcfe",
        "colab": {
          "base_uri": "https://localhost:8080/",
          "height": 111
        }
      },
      "source": [
        "status = {1:'passed', 0:'dont passed'}\n",
        "df3['textStatus'] = df3['status'].map(status)\n",
        "df3"
      ],
      "execution_count": null,
      "outputs": [
        {
          "output_type": "execute_result",
          "data": {
            "text/html": [
              "<div>\n",
              "<style scoped>\n",
              "    .dataframe tbody tr th:only-of-type {\n",
              "        vertical-align: middle;\n",
              "    }\n",
              "\n",
              "    .dataframe tbody tr th {\n",
              "        vertical-align: top;\n",
              "    }\n",
              "\n",
              "    .dataframe thead th {\n",
              "        text-align: right;\n",
              "    }\n",
              "</style>\n",
              "<table border=\"1\" class=\"dataframe\">\n",
              "  <thead>\n",
              "    <tr style=\"text-align: right;\">\n",
              "      <th></th>\n",
              "      <th>name</th>\n",
              "      <th>status</th>\n",
              "      <th>textStatus</th>\n",
              "    </tr>\n",
              "  </thead>\n",
              "  <tbody>\n",
              "    <tr>\n",
              "      <th>0</th>\n",
              "      <td>Joao</td>\n",
              "      <td>1</td>\n",
              "      <td>passed</td>\n",
              "    </tr>\n",
              "    <tr>\n",
              "      <th>1</th>\n",
              "      <td>pedro</td>\n",
              "      <td>0</td>\n",
              "      <td>dont passed</td>\n",
              "    </tr>\n",
              "  </tbody>\n",
              "</table>\n",
              "</div>"
            ],
            "text/plain": [
              "    name  status   textStatus\n",
              "0   Joao       1       passed\n",
              "1  pedro       0  dont passed"
            ]
          },
          "metadata": {
            "tags": []
          },
          "execution_count": 36
        }
      ]
    },
    {
      "cell_type": "markdown",
      "metadata": {
        "id": "fedGoFApRXhG"
      },
      "source": [
        "**Apply (lambda function)**"
      ]
    },
    {
      "cell_type": "code",
      "metadata": {
        "id": "thAnaMOi-tJp",
        "outputId": "3f0f4e59-6442-4c66-9017-2bb08409a5bf",
        "colab": {
          "base_uri": "https://localhost:8080/",
          "height": 111
        }
      },
      "source": [
        "df3 = pd.DataFrame([\n",
        "                    {'name': 'Joao', 'h':1.72, 'w': 85}, \n",
        "                    {'name':'pedro', 'h':1.70, 'w': 65}\n",
        "                    ])\n",
        "df3"
      ],
      "execution_count": null,
      "outputs": [
        {
          "output_type": "execute_result",
          "data": {
            "text/html": [
              "<div>\n",
              "<style scoped>\n",
              "    .dataframe tbody tr th:only-of-type {\n",
              "        vertical-align: middle;\n",
              "    }\n",
              "\n",
              "    .dataframe tbody tr th {\n",
              "        vertical-align: top;\n",
              "    }\n",
              "\n",
              "    .dataframe thead th {\n",
              "        text-align: right;\n",
              "    }\n",
              "</style>\n",
              "<table border=\"1\" class=\"dataframe\">\n",
              "  <thead>\n",
              "    <tr style=\"text-align: right;\">\n",
              "      <th></th>\n",
              "      <th>name</th>\n",
              "      <th>h</th>\n",
              "      <th>w</th>\n",
              "    </tr>\n",
              "  </thead>\n",
              "  <tbody>\n",
              "    <tr>\n",
              "      <th>0</th>\n",
              "      <td>Joao</td>\n",
              "      <td>1.72</td>\n",
              "      <td>85</td>\n",
              "    </tr>\n",
              "    <tr>\n",
              "      <th>1</th>\n",
              "      <td>pedro</td>\n",
              "      <td>1.70</td>\n",
              "      <td>65</td>\n",
              "    </tr>\n",
              "  </tbody>\n",
              "</table>\n",
              "</div>"
            ],
            "text/plain": [
              "    name     h   w\n",
              "0   Joao  1.72  85\n",
              "1  pedro  1.70  65"
            ]
          },
          "metadata": {
            "tags": []
          },
          "execution_count": 46
        }
      ]
    },
    {
      "cell_type": "code",
      "metadata": {
        "id": "ZVNlxwb0_NVX",
        "outputId": "da8b9bbf-2c27-4ef4-b68e-3b50811cd1a4",
        "colab": {
          "base_uri": "https://localhost:8080/",
          "height": 111
        }
      },
      "source": [
        "def imcBMI(h, w):\n",
        "  return w/h**2\n",
        "\n",
        "df3['imc'] = df3.apply(lambda x: imcBMI(x['h'], x['w']), axis=1)\n",
        "df3"
      ],
      "execution_count": null,
      "outputs": [
        {
          "output_type": "execute_result",
          "data": {
            "text/html": [
              "<div>\n",
              "<style scoped>\n",
              "    .dataframe tbody tr th:only-of-type {\n",
              "        vertical-align: middle;\n",
              "    }\n",
              "\n",
              "    .dataframe tbody tr th {\n",
              "        vertical-align: top;\n",
              "    }\n",
              "\n",
              "    .dataframe thead th {\n",
              "        text-align: right;\n",
              "    }\n",
              "</style>\n",
              "<table border=\"1\" class=\"dataframe\">\n",
              "  <thead>\n",
              "    <tr style=\"text-align: right;\">\n",
              "      <th></th>\n",
              "      <th>name</th>\n",
              "      <th>h</th>\n",
              "      <th>w</th>\n",
              "      <th>imc</th>\n",
              "    </tr>\n",
              "  </thead>\n",
              "  <tbody>\n",
              "    <tr>\n",
              "      <th>0</th>\n",
              "      <td>Joao</td>\n",
              "      <td>1.72</td>\n",
              "      <td>85</td>\n",
              "      <td>28.731747</td>\n",
              "    </tr>\n",
              "    <tr>\n",
              "      <th>1</th>\n",
              "      <td>pedro</td>\n",
              "      <td>1.70</td>\n",
              "      <td>65</td>\n",
              "      <td>22.491349</td>\n",
              "    </tr>\n",
              "  </tbody>\n",
              "</table>\n",
              "</div>"
            ],
            "text/plain": [
              "    name     h   w        imc\n",
              "0   Joao  1.72  85  28.731747\n",
              "1  pedro  1.70  65  22.491349"
            ]
          },
          "metadata": {
            "tags": []
          },
          "execution_count": 52
        }
      ]
    },
    {
      "cell_type": "markdown",
      "metadata": {
        "id": "-RR8YzLBC6uR"
      },
      "source": [
        "**VALUE COUNTS (frequency)**"
      ]
    },
    {
      "cell_type": "code",
      "metadata": {
        "id": "a77Cn-uiC-G5",
        "outputId": "76240040-9b1f-4c79-d24a-fff25bdcf26a",
        "colab": {
          "base_uri": "https://localhost:8080/",
          "height": 68
        }
      },
      "source": [
        "x = np.random.randint(1, 4, 50)\n",
        "x"
      ],
      "execution_count": null,
      "outputs": [
        {
          "output_type": "execute_result",
          "data": {
            "text/plain": [
              "array([3, 1, 2, 2, 3, 3, 1, 1, 2, 3, 3, 2, 3, 3, 3, 2, 2, 3, 2, 3, 1, 2,\n",
              "       3, 2, 3, 2, 2, 2, 1, 2, 2, 3, 1, 1, 1, 2, 3, 1, 1, 1, 3, 3, 3, 2,\n",
              "       2, 1, 1, 1, 1, 2])"
            ]
          },
          "metadata": {
            "tags": []
          },
          "execution_count": 53
        }
      ]
    },
    {
      "cell_type": "code",
      "metadata": {
        "id": "oZuDHYt4DHA_",
        "outputId": "63cc5f82-9e21-4db8-b161-30cbc5170b83",
        "colab": {
          "base_uri": "https://localhost:8080/",
          "height": 85
        }
      },
      "source": [
        "pd.value_counts(x)"
      ],
      "execution_count": null,
      "outputs": [
        {
          "output_type": "execute_result",
          "data": {
            "text/plain": [
              "2    18\n",
              "3    17\n",
              "1    15\n",
              "dtype: int64"
            ]
          },
          "metadata": {
            "tags": []
          },
          "execution_count": 54
        }
      ]
    },
    {
      "cell_type": "code",
      "metadata": {
        "id": "ujyPHpwYDTal",
        "outputId": "9a7aa260-58d8-4ff9-ed0b-c38d92b43055",
        "colab": {
          "base_uri": "https://localhost:8080/",
          "height": 85
        }
      },
      "source": [
        "df4 = pd.DataFrame({'x': x})\n",
        "df4['x'].value_counts()"
      ],
      "execution_count": null,
      "outputs": [
        {
          "output_type": "execute_result",
          "data": {
            "text/plain": [
              "2    18\n",
              "3    17\n",
              "1    15\n",
              "Name: x, dtype: int64"
            ]
          },
          "metadata": {
            "tags": []
          },
          "execution_count": 55
        }
      ]
    },
    {
      "cell_type": "code",
      "metadata": {
        "id": "p9RdaFTeFRwK",
        "outputId": "4cd99471-9f95-49d3-ab51-5f97ae207407",
        "colab": {
          "base_uri": "https://localhost:8080/",
          "height": 170
        }
      },
      "source": [
        "df4['x'].describe()"
      ],
      "execution_count": null,
      "outputs": [
        {
          "output_type": "execute_result",
          "data": {
            "text/plain": [
              "count    50.000000\n",
              "mean      2.040000\n",
              "std       0.807111\n",
              "min       1.000000\n",
              "25%       1.000000\n",
              "50%       2.000000\n",
              "75%       3.000000\n",
              "max       3.000000\n",
              "Name: x, dtype: float64"
            ]
          },
          "metadata": {
            "tags": []
          },
          "execution_count": 64
        }
      ]
    },
    {
      "cell_type": "markdown",
      "metadata": {
        "id": "fZCwXTloD1KK"
      },
      "source": [
        "**Missing Values**"
      ]
    },
    {
      "cell_type": "code",
      "metadata": {
        "id": "DnNSqWk1D3G4",
        "outputId": "9df63bfa-5ff2-42c3-8e47-e2548f263e2d",
        "colab": {
          "base_uri": "https://localhost:8080/",
          "height": 142
        }
      },
      "source": [
        "names = ['A', 'B', 'C']\n",
        "ages = [20, np.nan, 15]\n",
        "sex = [np.nan, np.nan, 'Female']\n",
        "df5 = pd.DataFrame({'name': names, 'age': ages, 'sex':sex})\n",
        "df5"
      ],
      "execution_count": 184,
      "outputs": [
        {
          "output_type": "execute_result",
          "data": {
            "text/html": [
              "<div>\n",
              "<style scoped>\n",
              "    .dataframe tbody tr th:only-of-type {\n",
              "        vertical-align: middle;\n",
              "    }\n",
              "\n",
              "    .dataframe tbody tr th {\n",
              "        vertical-align: top;\n",
              "    }\n",
              "\n",
              "    .dataframe thead th {\n",
              "        text-align: right;\n",
              "    }\n",
              "</style>\n",
              "<table border=\"1\" class=\"dataframe\">\n",
              "  <thead>\n",
              "    <tr style=\"text-align: right;\">\n",
              "      <th></th>\n",
              "      <th>name</th>\n",
              "      <th>age</th>\n",
              "      <th>sex</th>\n",
              "    </tr>\n",
              "  </thead>\n",
              "  <tbody>\n",
              "    <tr>\n",
              "      <th>0</th>\n",
              "      <td>A</td>\n",
              "      <td>20.0</td>\n",
              "      <td>NaN</td>\n",
              "    </tr>\n",
              "    <tr>\n",
              "      <th>1</th>\n",
              "      <td>B</td>\n",
              "      <td>NaN</td>\n",
              "      <td>NaN</td>\n",
              "    </tr>\n",
              "    <tr>\n",
              "      <th>2</th>\n",
              "      <td>C</td>\n",
              "      <td>15.0</td>\n",
              "      <td>Female</td>\n",
              "    </tr>\n",
              "  </tbody>\n",
              "</table>\n",
              "</div>"
            ],
            "text/plain": [
              "  name   age     sex\n",
              "0    A  20.0     NaN\n",
              "1    B   NaN     NaN\n",
              "2    C  15.0  Female"
            ]
          },
          "metadata": {
            "tags": []
          },
          "execution_count": 184
        }
      ]
    },
    {
      "cell_type": "code",
      "metadata": {
        "id": "HWAFnQjWEZY4",
        "outputId": "986aeaa7-d9c0-41d8-aa07-3d8ac1e5ab75",
        "colab": {
          "base_uri": "https://localhost:8080/",
          "height": 142
        }
      },
      "source": [
        "df5.isnull()"
      ],
      "execution_count": 185,
      "outputs": [
        {
          "output_type": "execute_result",
          "data": {
            "text/html": [
              "<div>\n",
              "<style scoped>\n",
              "    .dataframe tbody tr th:only-of-type {\n",
              "        vertical-align: middle;\n",
              "    }\n",
              "\n",
              "    .dataframe tbody tr th {\n",
              "        vertical-align: top;\n",
              "    }\n",
              "\n",
              "    .dataframe thead th {\n",
              "        text-align: right;\n",
              "    }\n",
              "</style>\n",
              "<table border=\"1\" class=\"dataframe\">\n",
              "  <thead>\n",
              "    <tr style=\"text-align: right;\">\n",
              "      <th></th>\n",
              "      <th>name</th>\n",
              "      <th>age</th>\n",
              "      <th>sex</th>\n",
              "    </tr>\n",
              "  </thead>\n",
              "  <tbody>\n",
              "    <tr>\n",
              "      <th>0</th>\n",
              "      <td>False</td>\n",
              "      <td>False</td>\n",
              "      <td>True</td>\n",
              "    </tr>\n",
              "    <tr>\n",
              "      <th>1</th>\n",
              "      <td>False</td>\n",
              "      <td>True</td>\n",
              "      <td>True</td>\n",
              "    </tr>\n",
              "    <tr>\n",
              "      <th>2</th>\n",
              "      <td>False</td>\n",
              "      <td>False</td>\n",
              "      <td>False</td>\n",
              "    </tr>\n",
              "  </tbody>\n",
              "</table>\n",
              "</div>"
            ],
            "text/plain": [
              "    name    age    sex\n",
              "0  False  False   True\n",
              "1  False   True   True\n",
              "2  False  False  False"
            ]
          },
          "metadata": {
            "tags": []
          },
          "execution_count": 185
        }
      ]
    },
    {
      "cell_type": "code",
      "metadata": {
        "id": "ZptDYG7HEdZA",
        "outputId": "1ea018c5-5cc0-4c0c-9885-f822a1f14a16",
        "colab": {
          "base_uri": "https://localhost:8080/",
          "height": 85
        }
      },
      "source": [
        "df5.isnull().sum()"
      ],
      "execution_count": 186,
      "outputs": [
        {
          "output_type": "execute_result",
          "data": {
            "text/plain": [
              "name    0\n",
              "age     1\n",
              "sex     2\n",
              "dtype: int64"
            ]
          },
          "metadata": {
            "tags": []
          },
          "execution_count": 186
        }
      ]
    },
    {
      "cell_type": "code",
      "metadata": {
        "id": "bV1drL-QEuXY",
        "outputId": "7fa17b53-bbfd-488d-fc72-e3652a439071",
        "colab": {
          "base_uri": "https://localhost:8080/",
          "height": 187
        }
      },
      "source": [
        "df5.info()"
      ],
      "execution_count": 187,
      "outputs": [
        {
          "output_type": "stream",
          "text": [
            "<class 'pandas.core.frame.DataFrame'>\n",
            "RangeIndex: 3 entries, 0 to 2\n",
            "Data columns (total 3 columns):\n",
            " #   Column  Non-Null Count  Dtype  \n",
            "---  ------  --------------  -----  \n",
            " 0   name    3 non-null      object \n",
            " 1   age     2 non-null      float64\n",
            " 2   sex     1 non-null      object \n",
            "dtypes: float64(1), object(2)\n",
            "memory usage: 200.0+ bytes\n"
          ],
          "name": "stdout"
        }
      ]
    },
    {
      "cell_type": "markdown",
      "metadata": {
        "id": "lHlJYKZ5SEVO"
      },
      "source": [
        "**Fill Missing Values**"
      ]
    },
    {
      "cell_type": "code",
      "metadata": {
        "id": "Yr-A_7jOSHrt",
        "outputId": "1ed87563-633b-4709-c511-0a4b00012740",
        "colab": {
          "base_uri": "https://localhost:8080/",
          "height": 142
        }
      },
      "source": [
        "df5"
      ],
      "execution_count": 188,
      "outputs": [
        {
          "output_type": "execute_result",
          "data": {
            "text/html": [
              "<div>\n",
              "<style scoped>\n",
              "    .dataframe tbody tr th:only-of-type {\n",
              "        vertical-align: middle;\n",
              "    }\n",
              "\n",
              "    .dataframe tbody tr th {\n",
              "        vertical-align: top;\n",
              "    }\n",
              "\n",
              "    .dataframe thead th {\n",
              "        text-align: right;\n",
              "    }\n",
              "</style>\n",
              "<table border=\"1\" class=\"dataframe\">\n",
              "  <thead>\n",
              "    <tr style=\"text-align: right;\">\n",
              "      <th></th>\n",
              "      <th>name</th>\n",
              "      <th>age</th>\n",
              "      <th>sex</th>\n",
              "    </tr>\n",
              "  </thead>\n",
              "  <tbody>\n",
              "    <tr>\n",
              "      <th>0</th>\n",
              "      <td>A</td>\n",
              "      <td>20.0</td>\n",
              "      <td>NaN</td>\n",
              "    </tr>\n",
              "    <tr>\n",
              "      <th>1</th>\n",
              "      <td>B</td>\n",
              "      <td>NaN</td>\n",
              "      <td>NaN</td>\n",
              "    </tr>\n",
              "    <tr>\n",
              "      <th>2</th>\n",
              "      <td>C</td>\n",
              "      <td>15.0</td>\n",
              "      <td>Female</td>\n",
              "    </tr>\n",
              "  </tbody>\n",
              "</table>\n",
              "</div>"
            ],
            "text/plain": [
              "  name   age     sex\n",
              "0    A  20.0     NaN\n",
              "1    B   NaN     NaN\n",
              "2    C  15.0  Female"
            ]
          },
          "metadata": {
            "tags": []
          },
          "execution_count": 188
        }
      ]
    },
    {
      "cell_type": "code",
      "metadata": {
        "id": "k8YgmDb-SKhk",
        "outputId": "49383e42-e19a-42ae-f99a-41dda434ec6b",
        "colab": {
          "base_uri": "https://localhost:8080/",
          "height": 142
        }
      },
      "source": [
        "# AGE ==> assuming the rule is: for null values, enter the MAX value\n",
        "\n",
        "df5.age = df5.age.fillna(df5.age.max())\n",
        "df5"
      ],
      "execution_count": 189,
      "outputs": [
        {
          "output_type": "execute_result",
          "data": {
            "text/html": [
              "<div>\n",
              "<style scoped>\n",
              "    .dataframe tbody tr th:only-of-type {\n",
              "        vertical-align: middle;\n",
              "    }\n",
              "\n",
              "    .dataframe tbody tr th {\n",
              "        vertical-align: top;\n",
              "    }\n",
              "\n",
              "    .dataframe thead th {\n",
              "        text-align: right;\n",
              "    }\n",
              "</style>\n",
              "<table border=\"1\" class=\"dataframe\">\n",
              "  <thead>\n",
              "    <tr style=\"text-align: right;\">\n",
              "      <th></th>\n",
              "      <th>name</th>\n",
              "      <th>age</th>\n",
              "      <th>sex</th>\n",
              "    </tr>\n",
              "  </thead>\n",
              "  <tbody>\n",
              "    <tr>\n",
              "      <th>0</th>\n",
              "      <td>A</td>\n",
              "      <td>20.0</td>\n",
              "      <td>NaN</td>\n",
              "    </tr>\n",
              "    <tr>\n",
              "      <th>1</th>\n",
              "      <td>B</td>\n",
              "      <td>20.0</td>\n",
              "      <td>NaN</td>\n",
              "    </tr>\n",
              "    <tr>\n",
              "      <th>2</th>\n",
              "      <td>C</td>\n",
              "      <td>15.0</td>\n",
              "      <td>Female</td>\n",
              "    </tr>\n",
              "  </tbody>\n",
              "</table>\n",
              "</div>"
            ],
            "text/plain": [
              "  name   age     sex\n",
              "0    A  20.0     NaN\n",
              "1    B  20.0     NaN\n",
              "2    C  15.0  Female"
            ]
          },
          "metadata": {
            "tags": []
          },
          "execution_count": 189
        }
      ]
    },
    {
      "cell_type": "code",
      "metadata": {
        "id": "CBkYA-jfSiph",
        "outputId": "5ced9c99-b140-4ca0-ce17-512f4606e2ff",
        "colab": {
          "base_uri": "https://localhost:8080/",
          "height": 142
        }
      },
      "source": [
        "# SEX ==> assuming the rule is: for null values, enter the UNKNOW value\n",
        "\n",
        "df5.sex = df5.sex.fillna('Unknow')\n",
        "df5"
      ],
      "execution_count": 190,
      "outputs": [
        {
          "output_type": "execute_result",
          "data": {
            "text/html": [
              "<div>\n",
              "<style scoped>\n",
              "    .dataframe tbody tr th:only-of-type {\n",
              "        vertical-align: middle;\n",
              "    }\n",
              "\n",
              "    .dataframe tbody tr th {\n",
              "        vertical-align: top;\n",
              "    }\n",
              "\n",
              "    .dataframe thead th {\n",
              "        text-align: right;\n",
              "    }\n",
              "</style>\n",
              "<table border=\"1\" class=\"dataframe\">\n",
              "  <thead>\n",
              "    <tr style=\"text-align: right;\">\n",
              "      <th></th>\n",
              "      <th>name</th>\n",
              "      <th>age</th>\n",
              "      <th>sex</th>\n",
              "    </tr>\n",
              "  </thead>\n",
              "  <tbody>\n",
              "    <tr>\n",
              "      <th>0</th>\n",
              "      <td>A</td>\n",
              "      <td>20.0</td>\n",
              "      <td>Unknow</td>\n",
              "    </tr>\n",
              "    <tr>\n",
              "      <th>1</th>\n",
              "      <td>B</td>\n",
              "      <td>20.0</td>\n",
              "      <td>Unknow</td>\n",
              "    </tr>\n",
              "    <tr>\n",
              "      <th>2</th>\n",
              "      <td>C</td>\n",
              "      <td>15.0</td>\n",
              "      <td>Female</td>\n",
              "    </tr>\n",
              "  </tbody>\n",
              "</table>\n",
              "</div>"
            ],
            "text/plain": [
              "  name   age     sex\n",
              "0    A  20.0  Unknow\n",
              "1    B  20.0  Unknow\n",
              "2    C  15.0  Female"
            ]
          },
          "metadata": {
            "tags": []
          },
          "execution_count": 190
        }
      ]
    },
    {
      "cell_type": "markdown",
      "metadata": {
        "id": "hWJVdHYBS7zs"
      },
      "source": [
        "**filtering dataframe**"
      ]
    },
    {
      "cell_type": "code",
      "metadata": {
        "id": "Msr55mXLS_Z9",
        "outputId": "e06efaec-061b-4ca3-a710-60179317385d",
        "colab": {
          "base_uri": "https://localhost:8080/",
          "height": 111
        }
      },
      "source": [
        "# filtering data with sex == Unknow\n",
        "df5[df5.sex == 'Unknow']"
      ],
      "execution_count": 191,
      "outputs": [
        {
          "output_type": "execute_result",
          "data": {
            "text/html": [
              "<div>\n",
              "<style scoped>\n",
              "    .dataframe tbody tr th:only-of-type {\n",
              "        vertical-align: middle;\n",
              "    }\n",
              "\n",
              "    .dataframe tbody tr th {\n",
              "        vertical-align: top;\n",
              "    }\n",
              "\n",
              "    .dataframe thead th {\n",
              "        text-align: right;\n",
              "    }\n",
              "</style>\n",
              "<table border=\"1\" class=\"dataframe\">\n",
              "  <thead>\n",
              "    <tr style=\"text-align: right;\">\n",
              "      <th></th>\n",
              "      <th>name</th>\n",
              "      <th>age</th>\n",
              "      <th>sex</th>\n",
              "    </tr>\n",
              "  </thead>\n",
              "  <tbody>\n",
              "    <tr>\n",
              "      <th>0</th>\n",
              "      <td>A</td>\n",
              "      <td>20.0</td>\n",
              "      <td>Unknow</td>\n",
              "    </tr>\n",
              "    <tr>\n",
              "      <th>1</th>\n",
              "      <td>B</td>\n",
              "      <td>20.0</td>\n",
              "      <td>Unknow</td>\n",
              "    </tr>\n",
              "  </tbody>\n",
              "</table>\n",
              "</div>"
            ],
            "text/plain": [
              "  name   age     sex\n",
              "0    A  20.0  Unknow\n",
              "1    B  20.0  Unknow"
            ]
          },
          "metadata": {
            "tags": []
          },
          "execution_count": 191
        }
      ]
    },
    {
      "cell_type": "code",
      "metadata": {
        "id": "b2bSs1v-S_W_",
        "outputId": "c07a0a0a-e2e7-42a0-b082-92880dea0ef9",
        "colab": {
          "base_uri": "https://localhost:8080/",
          "height": 111
        }
      },
      "source": [
        "# or\n",
        "df5.query('sex == \"Unknow\"')"
      ],
      "execution_count": 192,
      "outputs": [
        {
          "output_type": "execute_result",
          "data": {
            "text/html": [
              "<div>\n",
              "<style scoped>\n",
              "    .dataframe tbody tr th:only-of-type {\n",
              "        vertical-align: middle;\n",
              "    }\n",
              "\n",
              "    .dataframe tbody tr th {\n",
              "        vertical-align: top;\n",
              "    }\n",
              "\n",
              "    .dataframe thead th {\n",
              "        text-align: right;\n",
              "    }\n",
              "</style>\n",
              "<table border=\"1\" class=\"dataframe\">\n",
              "  <thead>\n",
              "    <tr style=\"text-align: right;\">\n",
              "      <th></th>\n",
              "      <th>name</th>\n",
              "      <th>age</th>\n",
              "      <th>sex</th>\n",
              "    </tr>\n",
              "  </thead>\n",
              "  <tbody>\n",
              "    <tr>\n",
              "      <th>0</th>\n",
              "      <td>A</td>\n",
              "      <td>20.0</td>\n",
              "      <td>Unknow</td>\n",
              "    </tr>\n",
              "    <tr>\n",
              "      <th>1</th>\n",
              "      <td>B</td>\n",
              "      <td>20.0</td>\n",
              "      <td>Unknow</td>\n",
              "    </tr>\n",
              "  </tbody>\n",
              "</table>\n",
              "</div>"
            ],
            "text/plain": [
              "  name   age     sex\n",
              "0    A  20.0  Unknow\n",
              "1    B  20.0  Unknow"
            ]
          },
          "metadata": {
            "tags": []
          },
          "execution_count": 192
        }
      ]
    },
    {
      "cell_type": "markdown",
      "metadata": {
        "id": "uNI3XjpSTamD"
      },
      "source": [
        "**Selecting values**"
      ]
    },
    {
      "cell_type": "markdown",
      "metadata": {
        "id": "eOG29Ne_U84C"
      },
      "source": [
        "![image.png](data:image/png;base64,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)"
      ]
    },
    {
      "cell_type": "code",
      "metadata": {
        "id": "mJfvJ_YLTZ99",
        "outputId": "fa39d589-70b9-49ae-8824-faa72a261a25",
        "colab": {
          "base_uri": "https://localhost:8080/",
          "height": 85
        }
      },
      "source": [
        "df5.iloc[1]"
      ],
      "execution_count": 193,
      "outputs": [
        {
          "output_type": "execute_result",
          "data": {
            "text/plain": [
              "name         B\n",
              "age         20\n",
              "sex     Unknow\n",
              "Name: 1, dtype: object"
            ]
          },
          "metadata": {
            "tags": []
          },
          "execution_count": 193
        }
      ]
    },
    {
      "cell_type": "code",
      "metadata": {
        "id": "0RWqvC__TvpK",
        "outputId": "f70859b0-f0da-49e5-e390-b9a4bdecf3e4",
        "colab": {
          "base_uri": "https://localhost:8080/",
          "height": 34
        }
      },
      "source": [
        "# or \n",
        "df5.iloc[1].values.tolist()"
      ],
      "execution_count": 194,
      "outputs": [
        {
          "output_type": "execute_result",
          "data": {
            "text/plain": [
              "['B', 20.0, 'Unknow']"
            ]
          },
          "metadata": {
            "tags": []
          },
          "execution_count": 194
        }
      ]
    },
    {
      "cell_type": "code",
      "metadata": {
        "id": "OhDI149uT8VF",
        "outputId": "7093d71e-a49f-445d-f240-a8270a252fb7",
        "colab": {
          "base_uri": "https://localhost:8080/",
          "height": 34
        }
      },
      "source": [
        "# or return only age value from row 1\n",
        "df5.age.iloc[1]"
      ],
      "execution_count": 195,
      "outputs": [
        {
          "output_type": "execute_result",
          "data": {
            "text/plain": [
              "20.0"
            ]
          },
          "metadata": {
            "tags": []
          },
          "execution_count": 195
        }
      ]
    },
    {
      "cell_type": "code",
      "metadata": {
        "id": "CnPWz-2LVPor",
        "outputId": "84578488-b046-4cca-8bc7-16ad89e1b6cc",
        "colab": {
          "base_uri": "https://localhost:8080/",
          "height": 142
        }
      },
      "source": [
        "# update sex columns, 'Unknow' to 'Not Informed' values\n",
        "df5"
      ],
      "execution_count": 198,
      "outputs": [
        {
          "output_type": "execute_result",
          "data": {
            "text/html": [
              "<div>\n",
              "<style scoped>\n",
              "    .dataframe tbody tr th:only-of-type {\n",
              "        vertical-align: middle;\n",
              "    }\n",
              "\n",
              "    .dataframe tbody tr th {\n",
              "        vertical-align: top;\n",
              "    }\n",
              "\n",
              "    .dataframe thead th {\n",
              "        text-align: right;\n",
              "    }\n",
              "</style>\n",
              "<table border=\"1\" class=\"dataframe\">\n",
              "  <thead>\n",
              "    <tr style=\"text-align: right;\">\n",
              "      <th></th>\n",
              "      <th>name</th>\n",
              "      <th>age</th>\n",
              "      <th>sex</th>\n",
              "    </tr>\n",
              "  </thead>\n",
              "  <tbody>\n",
              "    <tr>\n",
              "      <th>0</th>\n",
              "      <td>A</td>\n",
              "      <td>20.0</td>\n",
              "      <td>Unknow</td>\n",
              "    </tr>\n",
              "    <tr>\n",
              "      <th>1</th>\n",
              "      <td>B</td>\n",
              "      <td>20.0</td>\n",
              "      <td>Unknow</td>\n",
              "    </tr>\n",
              "    <tr>\n",
              "      <th>2</th>\n",
              "      <td>C</td>\n",
              "      <td>15.0</td>\n",
              "      <td>Female</td>\n",
              "    </tr>\n",
              "  </tbody>\n",
              "</table>\n",
              "</div>"
            ],
            "text/plain": [
              "  name   age     sex\n",
              "0    A  20.0  Unknow\n",
              "1    B  20.0  Unknow\n",
              "2    C  15.0  Female"
            ]
          },
          "metadata": {
            "tags": []
          },
          "execution_count": 198
        }
      ]
    },
    {
      "cell_type": "code",
      "metadata": {
        "id": "-LKom-XcVwUN",
        "outputId": "e9624d46-960e-4cda-ae3e-fdfe3ee74256",
        "colab": {
          "base_uri": "https://localhost:8080/",
          "height": 142
        }
      },
      "source": [
        "df5.sex = df5.sex.apply(lambda x: 'Not Informed' if str(x) == \"Unknow\" else x)\n",
        "df5"
      ],
      "execution_count": 206,
      "outputs": [
        {
          "output_type": "execute_result",
          "data": {
            "text/html": [
              "<div>\n",
              "<style scoped>\n",
              "    .dataframe tbody tr th:only-of-type {\n",
              "        vertical-align: middle;\n",
              "    }\n",
              "\n",
              "    .dataframe tbody tr th {\n",
              "        vertical-align: top;\n",
              "    }\n",
              "\n",
              "    .dataframe thead th {\n",
              "        text-align: right;\n",
              "    }\n",
              "</style>\n",
              "<table border=\"1\" class=\"dataframe\">\n",
              "  <thead>\n",
              "    <tr style=\"text-align: right;\">\n",
              "      <th></th>\n",
              "      <th>name</th>\n",
              "      <th>age</th>\n",
              "      <th>sex</th>\n",
              "    </tr>\n",
              "  </thead>\n",
              "  <tbody>\n",
              "    <tr>\n",
              "      <th>0</th>\n",
              "      <td>A</td>\n",
              "      <td>20.0</td>\n",
              "      <td>Not Informed</td>\n",
              "    </tr>\n",
              "    <tr>\n",
              "      <th>1</th>\n",
              "      <td>B</td>\n",
              "      <td>20.0</td>\n",
              "      <td>Not Informed</td>\n",
              "    </tr>\n",
              "    <tr>\n",
              "      <th>2</th>\n",
              "      <td>C</td>\n",
              "      <td>15.0</td>\n",
              "      <td>Female</td>\n",
              "    </tr>\n",
              "  </tbody>\n",
              "</table>\n",
              "</div>"
            ],
            "text/plain": [
              "  name   age           sex\n",
              "0    A  20.0  Not Informed\n",
              "1    B  20.0  Not Informed\n",
              "2    C  15.0        Female"
            ]
          },
          "metadata": {
            "tags": []
          },
          "execution_count": 206
        }
      ]
    },
    {
      "cell_type": "markdown",
      "metadata": {
        "id": "dfiRJdzqXTWZ"
      },
      "source": [
        "**Basic Function Example to EDA on dataframe**"
      ]
    },
    {
      "cell_type": "code",
      "metadata": {
        "id": "V0GOqY3HXTGl",
        "outputId": "7e11d9f2-f4cd-45e2-cddb-e654ec5ed87f",
        "colab": {
          "base_uri": "https://localhost:8080/",
          "height": 538
        }
      },
      "source": [
        "df"
      ],
      "execution_count": 207,
      "outputs": [
        {
          "output_type": "execute_result",
          "data": {
            "text/html": [
              "<div>\n",
              "<style scoped>\n",
              "    .dataframe tbody tr th:only-of-type {\n",
              "        vertical-align: middle;\n",
              "    }\n",
              "\n",
              "    .dataframe tbody tr th {\n",
              "        vertical-align: top;\n",
              "    }\n",
              "\n",
              "    .dataframe thead th {\n",
              "        text-align: right;\n",
              "    }\n",
              "</style>\n",
              "<table border=\"1\" class=\"dataframe\">\n",
              "  <thead>\n",
              "    <tr style=\"text-align: right;\">\n",
              "      <th></th>\n",
              "      <th>city</th>\n",
              "      <th>city_ascii</th>\n",
              "      <th>lat</th>\n",
              "      <th>lng</th>\n",
              "      <th>country</th>\n",
              "      <th>iso2</th>\n",
              "      <th>iso3</th>\n",
              "      <th>admin_name</th>\n",
              "      <th>capital</th>\n",
              "      <th>population</th>\n",
              "      <th>id</th>\n",
              "    </tr>\n",
              "  </thead>\n",
              "  <tbody>\n",
              "    <tr>\n",
              "      <th>0</th>\n",
              "      <td>São Paulo</td>\n",
              "      <td>Sao Paulo</td>\n",
              "      <td>-23.5587</td>\n",
              "      <td>-46.6250</td>\n",
              "      <td>Brazil</td>\n",
              "      <td>BR</td>\n",
              "      <td>BRA</td>\n",
              "      <td>São Paulo</td>\n",
              "      <td>admin</td>\n",
              "      <td>18845000.0</td>\n",
              "      <td>1076532519</td>\n",
              "    </tr>\n",
              "    <tr>\n",
              "      <th>1</th>\n",
              "      <td>Rio de Janeiro</td>\n",
              "      <td>Rio de Janeiro</td>\n",
              "      <td>-22.9250</td>\n",
              "      <td>-43.2250</td>\n",
              "      <td>Brazil</td>\n",
              "      <td>BR</td>\n",
              "      <td>BRA</td>\n",
              "      <td>Rio de Janeiro</td>\n",
              "      <td>admin</td>\n",
              "      <td>11748000.0</td>\n",
              "      <td>1076887657</td>\n",
              "    </tr>\n",
              "    <tr>\n",
              "      <th>2</th>\n",
              "      <td>Belo Horizonte</td>\n",
              "      <td>Belo Horizonte</td>\n",
              "      <td>-19.9150</td>\n",
              "      <td>-43.9150</td>\n",
              "      <td>Brazil</td>\n",
              "      <td>BR</td>\n",
              "      <td>BRA</td>\n",
              "      <td>Minas Gerais</td>\n",
              "      <td>admin</td>\n",
              "      <td>5575000.0</td>\n",
              "      <td>1076967355</td>\n",
              "    </tr>\n",
              "    <tr>\n",
              "      <th>3</th>\n",
              "      <td>Porto Alegre</td>\n",
              "      <td>Porto Alegre</td>\n",
              "      <td>-30.0500</td>\n",
              "      <td>-51.2000</td>\n",
              "      <td>Brazil</td>\n",
              "      <td>BR</td>\n",
              "      <td>BRA</td>\n",
              "      <td>Rio Grande do Sul</td>\n",
              "      <td>admin</td>\n",
              "      <td>3917000.0</td>\n",
              "      <td>1076658221</td>\n",
              "    </tr>\n",
              "    <tr>\n",
              "      <th>4</th>\n",
              "      <td>Brasília</td>\n",
              "      <td>Brasilia</td>\n",
              "      <td>-15.7833</td>\n",
              "      <td>-47.9161</td>\n",
              "      <td>Brazil</td>\n",
              "      <td>BR</td>\n",
              "      <td>BRA</td>\n",
              "      <td>Distrito Federal</td>\n",
              "      <td>primary</td>\n",
              "      <td>3716996.0</td>\n",
              "      <td>1076144436</td>\n",
              "    </tr>\n",
              "    <tr>\n",
              "      <th>...</th>\n",
              "      <td>...</td>\n",
              "      <td>...</td>\n",
              "      <td>...</td>\n",
              "      <td>...</td>\n",
              "      <td>...</td>\n",
              "      <td>...</td>\n",
              "      <td>...</td>\n",
              "      <td>...</td>\n",
              "      <td>...</td>\n",
              "      <td>...</td>\n",
              "      <td>...</td>\n",
              "    </tr>\n",
              "    <tr>\n",
              "      <th>382</th>\n",
              "      <td>Xinguara</td>\n",
              "      <td>Xinguara</td>\n",
              "      <td>-7.1006</td>\n",
              "      <td>-49.9480</td>\n",
              "      <td>Brazil</td>\n",
              "      <td>BR</td>\n",
              "      <td>BRA</td>\n",
              "      <td>Pará</td>\n",
              "      <td>NaN</td>\n",
              "      <td>4047.0</td>\n",
              "      <td>1076290442</td>\n",
              "    </tr>\n",
              "    <tr>\n",
              "      <th>383</th>\n",
              "      <td>Amapá</td>\n",
              "      <td>Amapa</td>\n",
              "      <td>2.0500</td>\n",
              "      <td>-50.8000</td>\n",
              "      <td>Brazil</td>\n",
              "      <td>BR</td>\n",
              "      <td>BRA</td>\n",
              "      <td>Amapá</td>\n",
              "      <td>NaN</td>\n",
              "      <td>1947.0</td>\n",
              "      <td>1076834242</td>\n",
              "    </tr>\n",
              "    <tr>\n",
              "      <th>384</th>\n",
              "      <td>Abunã</td>\n",
              "      <td>Abuna</td>\n",
              "      <td>-9.6954</td>\n",
              "      <td>-65.3597</td>\n",
              "      <td>Brazil</td>\n",
              "      <td>BR</td>\n",
              "      <td>BRA</td>\n",
              "      <td>Rondônia</td>\n",
              "      <td>NaN</td>\n",
              "      <td>1929.0</td>\n",
              "      <td>1076632448</td>\n",
              "    </tr>\n",
              "    <tr>\n",
              "      <th>385</th>\n",
              "      <td>Vila Bela da Santíssima Trindade</td>\n",
              "      <td>Vila Bela da Santissima Trindade</td>\n",
              "      <td>-15.0000</td>\n",
              "      <td>-59.9500</td>\n",
              "      <td>Brazil</td>\n",
              "      <td>BR</td>\n",
              "      <td>BRA</td>\n",
              "      <td>Mato Grosso</td>\n",
              "      <td>NaN</td>\n",
              "      <td>1612.0</td>\n",
              "      <td>1076493823</td>\n",
              "    </tr>\n",
              "    <tr>\n",
              "      <th>386</th>\n",
              "      <td>Príncipe da Beira</td>\n",
              "      <td>Principe da Beira</td>\n",
              "      <td>-12.4167</td>\n",
              "      <td>-64.4166</td>\n",
              "      <td>Brazil</td>\n",
              "      <td>BR</td>\n",
              "      <td>BRA</td>\n",
              "      <td>Rondônia</td>\n",
              "      <td>NaN</td>\n",
              "      <td>956.0</td>\n",
              "      <td>1076482734</td>\n",
              "    </tr>\n",
              "  </tbody>\n",
              "</table>\n",
              "<p>387 rows × 11 columns</p>\n",
              "</div>"
            ],
            "text/plain": [
              "                                 city  ...          id\n",
              "0                           São Paulo  ...  1076532519\n",
              "1                      Rio de Janeiro  ...  1076887657\n",
              "2                      Belo Horizonte  ...  1076967355\n",
              "3                        Porto Alegre  ...  1076658221\n",
              "4                            Brasília  ...  1076144436\n",
              "..                                ...  ...         ...\n",
              "382                          Xinguara  ...  1076290442\n",
              "383                             Amapá  ...  1076834242\n",
              "384                             Abunã  ...  1076632448\n",
              "385  Vila Bela da Santíssima Trindade  ...  1076493823\n",
              "386                 Príncipe da Beira  ...  1076482734\n",
              "\n",
              "[387 rows x 11 columns]"
            ]
          },
          "metadata": {
            "tags": []
          },
          "execution_count": 207
        }
      ]
    },
    {
      "cell_type": "code",
      "metadata": {
        "id": "kb6vB0_nYua6"
      },
      "source": [
        "def eda(dfA, all=False, desc='Exploratory Data Analysis'):\n",
        "    print(desc)\n",
        "    print(f'\\nShape:\\n{dfA.shape}')\n",
        "    print(f'\\nDTypes - Numerics')\n",
        "    print(dfA.select_dtypes(include=np.number).columns.tolist())\n",
        "    print(f'\\nDTypes - Categoricals')\n",
        "    print(dfA.select_dtypes(include='object').columns.tolist())\n",
        "    print(f'\\nIs Null: {dfA.isnull().sum().sum()}')\n",
        "    print(f'{dfA.isnull().mean().sort_values(ascending=False)}')\n",
        "    dup = dfA.duplicated()\n",
        "    print(f'\\nDuplicated: \\n{dfA[dup].shape}\\n')\n",
        "    try:\n",
        "        print(dfA[dfA.duplicated(keep=False)].sample(4))\n",
        "    except:\n",
        "        pass\n",
        "    if all:  # here you put yours prefered analysis that detail more your dataset\n",
        "        \n",
        "        print(f'\\nDTypes - Numerics')\n",
        "        print(dfA.describe(include=[np.number]))\n",
        "        print(f'\\nDTypes - Categoricals')\n",
        "        print(dfA.describe(include=['object']))\n",
        "\n",
        "# function Fill NaN values\n",
        "def cleanNaN(dfA):\n",
        "  for col in dfA:\n",
        "    if type(dfA[col]) == 'object':\n",
        "        dfA[col] = dfA[col].fillna('unknow')\n",
        "    else:\n",
        "        dfA[col] = dfA[col].fillna(0)\n",
        "  return dfA"
      ],
      "execution_count": 208,
      "outputs": []
    },
    {
      "cell_type": "code",
      "metadata": {
        "id": "_Z4cI32mZW13",
        "outputId": "9217171e-ddd5-4039-806f-3c9ecffaa2c1",
        "colab": {
          "base_uri": "https://localhost:8080/",
          "height": 493
        }
      },
      "source": [
        "eda(df)"
      ],
      "execution_count": 209,
      "outputs": [
        {
          "output_type": "stream",
          "text": [
            "Exploratory Data Analysis\n",
            "\n",
            "Shape:\n",
            "(387, 11)\n",
            "\n",
            "DTypes - Numerics\n",
            "['lat', 'lng', 'population', 'id']\n",
            "\n",
            "DTypes - Categoricals\n",
            "['city', 'city_ascii', 'country', 'iso2', 'iso3', 'admin_name', 'capital']\n",
            "\n",
            "Is Null: 360\n",
            "capital       0.930233\n",
            "id            0.000000\n",
            "population    0.000000\n",
            "admin_name    0.000000\n",
            "iso3          0.000000\n",
            "iso2          0.000000\n",
            "country       0.000000\n",
            "lng           0.000000\n",
            "lat           0.000000\n",
            "city_ascii    0.000000\n",
            "city          0.000000\n",
            "dtype: float64\n",
            "\n",
            "Duplicated: \n",
            "(0, 11)\n",
            "\n"
          ],
          "name": "stdout"
        }
      ]
    },
    {
      "cell_type": "code",
      "metadata": {
        "id": "WNu-3PHnXgJy",
        "outputId": "8a4c46d0-cbc0-485b-bbdf-ff8e3db29021",
        "colab": {
          "base_uri": "https://localhost:8080/",
          "height": 799
        }
      },
      "source": [
        "eda(df, all=True)"
      ],
      "execution_count": 210,
      "outputs": [
        {
          "output_type": "stream",
          "text": [
            "Exploratory Data Analysis\n",
            "\n",
            "Shape:\n",
            "(387, 11)\n",
            "\n",
            "DTypes - Numerics\n",
            "['lat', 'lng', 'population', 'id']\n",
            "\n",
            "DTypes - Categoricals\n",
            "['city', 'city_ascii', 'country', 'iso2', 'iso3', 'admin_name', 'capital']\n",
            "\n",
            "Is Null: 360\n",
            "capital       0.930233\n",
            "id            0.000000\n",
            "population    0.000000\n",
            "admin_name    0.000000\n",
            "iso3          0.000000\n",
            "iso2          0.000000\n",
            "country       0.000000\n",
            "lng           0.000000\n",
            "lat           0.000000\n",
            "city_ascii    0.000000\n",
            "city          0.000000\n",
            "dtype: float64\n",
            "\n",
            "Duplicated: \n",
            "(0, 11)\n",
            "\n",
            "\n",
            "DTypes - Numerics\n",
            "              lat         lng    population            id\n",
            "count  387.000000  387.000000  3.870000e+02  3.870000e+02\n",
            "mean   -15.552564  -47.713768  3.288352e+05  1.076483e+09\n",
            "std      8.986011    7.182142  1.260428e+06  2.952965e+05\n",
            "min    -33.520000  -72.670000  9.560000e+02  1.076000e+09\n",
            "25%    -22.684800  -51.298300  3.888450e+04  1.076229e+09\n",
            "50%    -16.650000  -47.860000  6.805600e+04  1.076495e+09\n",
            "75%     -7.145550  -42.530000  1.877530e+05  1.076736e+09\n",
            "max      3.216700  -34.850000  1.884500e+07  1.076998e+09\n",
            "\n",
            "DTypes - Categoricals\n",
            "         city city_ascii country iso2 iso3 admin_name capital\n",
            "count     387        387     387  387  387        387      27\n",
            "unique    383        383       1    1    1         27       2\n",
            "top     Natal      Crato  Brazil   BR  BRA  São Paulo   admin\n",
            "freq        2          2     387  387  387         47      26\n"
          ],
          "name": "stdout"
        }
      ]
    }
  ]
}
