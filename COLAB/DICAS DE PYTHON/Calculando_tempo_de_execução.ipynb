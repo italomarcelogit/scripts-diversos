{
  "nbformat": 4,
  "nbformat_minor": 0,
  "metadata": {
    "colab": {
      "provenance": [],
      "authorship_tag": "ABX9TyN5XnclgN4Ox2KnxCMObNi1",
      "include_colab_link": true
    },
    "kernelspec": {
      "name": "python3",
      "display_name": "Python 3"
    },
    "language_info": {
      "name": "python"
    }
  },
  "cells": [
    {
      "cell_type": "markdown",
      "metadata": {
        "id": "view-in-github",
        "colab_type": "text"
      },
      "source": [
        "<a href=\"https://colab.research.google.com/github/italomarcelogit/scripts-diversos/blob/master/Calculando_tempo_de_execu%C3%A7%C3%A3o.ipynb\" target=\"_parent\"><img src=\"https://colab.research.google.com/assets/colab-badge.svg\" alt=\"Open In Colab\"/></a>"
      ]
    },
    {
      "cell_type": "markdown",
      "source": [
        "# Compare o tempo de execução entre 2 blocos de códigos."
      ],
      "metadata": {
        "id": "PcSr5sRwrgYA"
      }
    },
    {
      "cell_type": "code",
      "execution_count": 1,
      "metadata": {
        "id": "PH28gPrYrc_D"
      },
      "outputs": [],
      "source": [
        "import timeit"
      ]
    },
    {
      "cell_type": "code",
      "source": [
        "def calculaTempo(funcao):\n",
        "  return timeit.timeit(funcao, number=1000)"
      ],
      "metadata": {
        "id": "Qrc0oXIersDl"
      },
      "execution_count": 2,
      "outputs": []
    },
    {
      "cell_type": "code",
      "source": [
        "# Qual execução é mais rápida?\n",
        "exec1 = '''\n",
        "lista = []\n",
        "for i in range(100):\n",
        "  lista.append(i)\n",
        "'''\n",
        "exec2 = '''\n",
        "lista = [i for i in range(100)]\n",
        "'''\n",
        "print(f'Execução 1: {round(calculaTempo(exec1), 4)}')\n",
        "print(f'Execução 2: {round(calculaTempo(exec2), 4)}')"
      ],
      "metadata": {
        "colab": {
          "base_uri": "https://localhost:8080/"
        },
        "id": "C9sLJ0mPsFmu",
        "outputId": "549bae7e-462e-4b5d-9248-7837e2634bfe"
      },
      "execution_count": 3,
      "outputs": [
        {
          "output_type": "stream",
          "name": "stdout",
          "text": [
            "Execução 1: 0.0114\n",
            "Execução 2: 0.0062\n"
          ]
        }
      ]
    }
  ]
}
