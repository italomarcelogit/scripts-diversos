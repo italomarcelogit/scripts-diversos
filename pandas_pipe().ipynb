{
  "nbformat": 4,
  "nbformat_minor": 0,
  "metadata": {
    "colab": {
      "provenance": [],
      "authorship_tag": "ABX9TyMtr9TddUS/+IEH3Q4WrjU+",
      "include_colab_link": true
    },
    "kernelspec": {
      "name": "python3",
      "display_name": "Python 3"
    },
    "language_info": {
      "name": "python"
    }
  },
  "cells": [
    {
      "cell_type": "markdown",
      "metadata": {
        "id": "view-in-github",
        "colab_type": "text"
      },
      "source": [
        "<a href=\"https://colab.research.google.com/github/italomarcelogit/scripts-diversos/blob/master/pandas_pipe().ipynb\" target=\"_parent\"><img src=\"https://colab.research.google.com/assets/colab-badge.svg\" alt=\"Open In Colab\"/></a>"
      ]
    },
    {
      "cell_type": "markdown",
      "source": [
        "# **Bibliotecas**"
      ],
      "metadata": {
        "id": "aRbqR5YlQGS7"
      }
    },
    {
      "cell_type": "code",
      "execution_count": 1,
      "metadata": {
        "id": "i3g0kE2ChlWC"
      },
      "outputs": [],
      "source": [
        "import random\n",
        "import pandas as pd\n",
        "import time\n",
        "import timeit"
      ]
    },
    {
      "cell_type": "markdown",
      "source": [
        "# **Gerando dados aleatório**"
      ],
      "metadata": {
        "id": "SdSTnaQXMOg6"
      }
    },
    {
      "cell_type": "code",
      "source": [
        "def geraProduto():\n",
        "    items = list('12345678')\n",
        "    nomes = ['Camiseta', 'Calça', 'Tenis', 'Boné', \\\n",
        "             'Jaqueta', 'Luva', 'Meia', 'Chinelo']\n",
        "    return f\"{random.choice(nomes)} {random.choice(items)}\"\n",
        "\n",
        "def geraPreco():\n",
        "    return round(random.uniform(10.0, 100.0), 2)\n",
        "\n",
        "def geraProdutos(qtdProdutos):\n",
        "    produtos = []\n",
        "    for _ in range(qtdProdutos):\n",
        "        produto = {\n",
        "            'produto': geraProduto(),\n",
        "            'preco': geraPreco()\n",
        "        }\n",
        "        produtos.append(produto)\n",
        "    return produtos"
      ],
      "metadata": {
        "id": "W3rom_R0huFp"
      },
      "execution_count": 2,
      "outputs": []
    },
    {
      "cell_type": "code",
      "source": [
        "df = pd.DataFrame(geraProdutos(150000))"
      ],
      "metadata": {
        "id": "H-dFxlwfP_Sy"
      },
      "execution_count": 3,
      "outputs": []
    },
    {
      "cell_type": "markdown",
      "source": [
        "# **Transformações de Dados**"
      ],
      "metadata": {
        "id": "O3yOrRpgQTsx"
      }
    },
    {
      "cell_type": "code",
      "source": [
        "def reajustaPreco(dft, perc):\n",
        "  dft['preco'] += dft['preco'] * perc\n",
        "  return dft\n",
        "\n",
        "def maiuscula(dft):\n",
        "  dft['produto'] = dft['produto'].str.upper()\n",
        "  return dft"
      ],
      "metadata": {
        "id": "bjOTAQDioWH0"
      },
      "execution_count": 4,
      "outputs": []
    },
    {
      "cell_type": "markdown",
      "source": [
        "### **Aplicando funções em sequência**"
      ],
      "metadata": {
        "id": "jhI9E2ZuSB5T"
      }
    },
    {
      "cell_type": "code",
      "source": [
        "inicio = timeit.default_timer()\n",
        "\n",
        "df2 = reajustaPreco(df.copy(), 0.1)\n",
        "df2 = maiuscula(df2)\n",
        "\n",
        "fim = timeit.default_timer()\n",
        "print ('Duracao: %f' % (fim - inicio))"
      ],
      "metadata": {
        "colab": {
          "base_uri": "https://localhost:8080/"
        },
        "id": "lOUUih9Skb-B",
        "outputId": "44192b4b-a7ce-40d5-a90a-3b4957f3dd91"
      },
      "execution_count": 5,
      "outputs": [
        {
          "output_type": "stream",
          "name": "stdout",
          "text": [
            "Duracao: 0.211886\n"
          ]
        }
      ]
    },
    {
      "cell_type": "markdown",
      "source": [
        "### **Encadeando funções utilizando .pipe()**"
      ],
      "metadata": {
        "id": "KAWIEBxKPxG0"
      }
    },
    {
      "cell_type": "code",
      "source": [
        "inicio = timeit.default_timer()\n",
        "\n",
        "df3 = df.copy().pipe(reajustaPreco, 0.1).pipe(maiuscula)\n",
        "\n",
        "fim = timeit.default_timer()\n",
        "print ('Duracao: %f' % (fim - inicio))"
      ],
      "metadata": {
        "colab": {
          "base_uri": "https://localhost:8080/"
        },
        "id": "eQCOTYH-jZ6x",
        "outputId": "46c3e7d0-b2e9-4ed2-af2d-c23592d765c0"
      },
      "execution_count": 6,
      "outputs": [
        {
          "output_type": "stream",
          "name": "stdout",
          "text": [
            "Duracao: 0.145157\n"
          ]
        }
      ]
    },
    {
      "cell_type": "markdown",
      "source": [
        "# **Resultado**"
      ],
      "metadata": {
        "id": "Ee8BmHFHU_oh"
      }
    },
    {
      "cell_type": "code",
      "source": [
        "df.insert(2, 'preco df2', df2['preco'])\n",
        "df.insert(3, 'preco df3', df2['preco'])\n",
        "display(df.head())"
      ],
      "metadata": {
        "colab": {
          "base_uri": "https://localhost:8080/",
          "height": 206
        },
        "id": "qDBqlBpNTiJu",
        "outputId": "3eceac55-91f1-455f-f89d-0864a7b3649c"
      },
      "execution_count": 7,
      "outputs": [
        {
          "output_type": "display_data",
          "data": {
            "text/plain": [
              "      produto  preco  preco df2  preco df3\n",
              "0     Calça 8  44.57     49.027     49.027\n",
              "1  Camiseta 1  40.60     44.660     44.660\n",
              "2      Luva 5  80.05     88.055     88.055\n",
              "3   Chinelo 2  13.18     14.498     14.498\n",
              "4     Calça 6  25.55     28.105     28.105"
            ],
            "text/html": [
              "\n",
              "  <div id=\"df-52295c37-ff14-4890-b92e-d5ac35562f86\" class=\"colab-df-container\">\n",
              "    <div>\n",
              "<style scoped>\n",
              "    .dataframe tbody tr th:only-of-type {\n",
              "        vertical-align: middle;\n",
              "    }\n",
              "\n",
              "    .dataframe tbody tr th {\n",
              "        vertical-align: top;\n",
              "    }\n",
              "\n",
              "    .dataframe thead th {\n",
              "        text-align: right;\n",
              "    }\n",
              "</style>\n",
              "<table border=\"1\" class=\"dataframe\">\n",
              "  <thead>\n",
              "    <tr style=\"text-align: right;\">\n",
              "      <th></th>\n",
              "      <th>produto</th>\n",
              "      <th>preco</th>\n",
              "      <th>preco df2</th>\n",
              "      <th>preco df3</th>\n",
              "    </tr>\n",
              "  </thead>\n",
              "  <tbody>\n",
              "    <tr>\n",
              "      <th>0</th>\n",
              "      <td>Calça 8</td>\n",
              "      <td>44.57</td>\n",
              "      <td>49.027</td>\n",
              "      <td>49.027</td>\n",
              "    </tr>\n",
              "    <tr>\n",
              "      <th>1</th>\n",
              "      <td>Camiseta 1</td>\n",
              "      <td>40.60</td>\n",
              "      <td>44.660</td>\n",
              "      <td>44.660</td>\n",
              "    </tr>\n",
              "    <tr>\n",
              "      <th>2</th>\n",
              "      <td>Luva 5</td>\n",
              "      <td>80.05</td>\n",
              "      <td>88.055</td>\n",
              "      <td>88.055</td>\n",
              "    </tr>\n",
              "    <tr>\n",
              "      <th>3</th>\n",
              "      <td>Chinelo 2</td>\n",
              "      <td>13.18</td>\n",
              "      <td>14.498</td>\n",
              "      <td>14.498</td>\n",
              "    </tr>\n",
              "    <tr>\n",
              "      <th>4</th>\n",
              "      <td>Calça 6</td>\n",
              "      <td>25.55</td>\n",
              "      <td>28.105</td>\n",
              "      <td>28.105</td>\n",
              "    </tr>\n",
              "  </tbody>\n",
              "</table>\n",
              "</div>\n",
              "    <div class=\"colab-df-buttons\">\n",
              "\n",
              "  <div class=\"colab-df-container\">\n",
              "    <button class=\"colab-df-convert\" onclick=\"convertToInteractive('df-52295c37-ff14-4890-b92e-d5ac35562f86')\"\n",
              "            title=\"Convert this dataframe to an interactive table.\"\n",
              "            style=\"display:none;\">\n",
              "\n",
              "  <svg xmlns=\"http://www.w3.org/2000/svg\" height=\"24px\" viewBox=\"0 -960 960 960\">\n",
              "    <path d=\"M120-120v-720h720v720H120Zm60-500h600v-160H180v160Zm220 220h160v-160H400v160Zm0 220h160v-160H400v160ZM180-400h160v-160H180v160Zm440 0h160v-160H620v160ZM180-180h160v-160H180v160Zm440 0h160v-160H620v160Z\"/>\n",
              "  </svg>\n",
              "    </button>\n",
              "\n",
              "  <style>\n",
              "    .colab-df-container {\n",
              "      display:flex;\n",
              "      gap: 12px;\n",
              "    }\n",
              "\n",
              "    .colab-df-convert {\n",
              "      background-color: #E8F0FE;\n",
              "      border: none;\n",
              "      border-radius: 50%;\n",
              "      cursor: pointer;\n",
              "      display: none;\n",
              "      fill: #1967D2;\n",
              "      height: 32px;\n",
              "      padding: 0 0 0 0;\n",
              "      width: 32px;\n",
              "    }\n",
              "\n",
              "    .colab-df-convert:hover {\n",
              "      background-color: #E2EBFA;\n",
              "      box-shadow: 0px 1px 2px rgba(60, 64, 67, 0.3), 0px 1px 3px 1px rgba(60, 64, 67, 0.15);\n",
              "      fill: #174EA6;\n",
              "    }\n",
              "\n",
              "    .colab-df-buttons div {\n",
              "      margin-bottom: 4px;\n",
              "    }\n",
              "\n",
              "    [theme=dark] .colab-df-convert {\n",
              "      background-color: #3B4455;\n",
              "      fill: #D2E3FC;\n",
              "    }\n",
              "\n",
              "    [theme=dark] .colab-df-convert:hover {\n",
              "      background-color: #434B5C;\n",
              "      box-shadow: 0px 1px 3px 1px rgba(0, 0, 0, 0.15);\n",
              "      filter: drop-shadow(0px 1px 2px rgba(0, 0, 0, 0.3));\n",
              "      fill: #FFFFFF;\n",
              "    }\n",
              "  </style>\n",
              "\n",
              "    <script>\n",
              "      const buttonEl =\n",
              "        document.querySelector('#df-52295c37-ff14-4890-b92e-d5ac35562f86 button.colab-df-convert');\n",
              "      buttonEl.style.display =\n",
              "        google.colab.kernel.accessAllowed ? 'block' : 'none';\n",
              "\n",
              "      async function convertToInteractive(key) {\n",
              "        const element = document.querySelector('#df-52295c37-ff14-4890-b92e-d5ac35562f86');\n",
              "        const dataTable =\n",
              "          await google.colab.kernel.invokeFunction('convertToInteractive',\n",
              "                                                    [key], {});\n",
              "        if (!dataTable) return;\n",
              "\n",
              "        const docLinkHtml = 'Like what you see? Visit the ' +\n",
              "          '<a target=\"_blank\" href=https://colab.research.google.com/notebooks/data_table.ipynb>data table notebook</a>'\n",
              "          + ' to learn more about interactive tables.';\n",
              "        element.innerHTML = '';\n",
              "        dataTable['output_type'] = 'display_data';\n",
              "        await google.colab.output.renderOutput(dataTable, element);\n",
              "        const docLink = document.createElement('div');\n",
              "        docLink.innerHTML = docLinkHtml;\n",
              "        element.appendChild(docLink);\n",
              "      }\n",
              "    </script>\n",
              "  </div>\n",
              "\n",
              "\n",
              "<div id=\"df-e004cd6e-fc5b-4700-b327-7e55130629c4\">\n",
              "  <button class=\"colab-df-quickchart\" onclick=\"quickchart('df-e004cd6e-fc5b-4700-b327-7e55130629c4')\"\n",
              "            title=\"Suggest charts.\"\n",
              "            style=\"display:none;\">\n",
              "\n",
              "<svg xmlns=\"http://www.w3.org/2000/svg\" height=\"24px\"viewBox=\"0 0 24 24\"\n",
              "     width=\"24px\">\n",
              "    <g>\n",
              "        <path d=\"M19 3H5c-1.1 0-2 .9-2 2v14c0 1.1.9 2 2 2h14c1.1 0 2-.9 2-2V5c0-1.1-.9-2-2-2zM9 17H7v-7h2v7zm4 0h-2V7h2v10zm4 0h-2v-4h2v4z\"/>\n",
              "    </g>\n",
              "</svg>\n",
              "  </button>\n",
              "\n",
              "<style>\n",
              "  .colab-df-quickchart {\n",
              "    background-color: #E8F0FE;\n",
              "    border: none;\n",
              "    border-radius: 50%;\n",
              "    cursor: pointer;\n",
              "    display: none;\n",
              "    fill: #1967D2;\n",
              "    height: 32px;\n",
              "    padding: 0 0 0 0;\n",
              "    width: 32px;\n",
              "  }\n",
              "\n",
              "  .colab-df-quickchart:hover {\n",
              "    background-color: #E2EBFA;\n",
              "    box-shadow: 0px 1px 2px rgba(60, 64, 67, 0.3), 0px 1px 3px 1px rgba(60, 64, 67, 0.15);\n",
              "    fill: #174EA6;\n",
              "  }\n",
              "\n",
              "  [theme=dark] .colab-df-quickchart {\n",
              "    background-color: #3B4455;\n",
              "    fill: #D2E3FC;\n",
              "  }\n",
              "\n",
              "  [theme=dark] .colab-df-quickchart:hover {\n",
              "    background-color: #434B5C;\n",
              "    box-shadow: 0px 1px 3px 1px rgba(0, 0, 0, 0.15);\n",
              "    filter: drop-shadow(0px 1px 2px rgba(0, 0, 0, 0.3));\n",
              "    fill: #FFFFFF;\n",
              "  }\n",
              "</style>\n",
              "\n",
              "  <script>\n",
              "    async function quickchart(key) {\n",
              "      const charts = await google.colab.kernel.invokeFunction(\n",
              "          'suggestCharts', [key], {});\n",
              "    }\n",
              "    (() => {\n",
              "      let quickchartButtonEl =\n",
              "        document.querySelector('#df-e004cd6e-fc5b-4700-b327-7e55130629c4 button');\n",
              "      quickchartButtonEl.style.display =\n",
              "        google.colab.kernel.accessAllowed ? 'block' : 'none';\n",
              "    })();\n",
              "  </script>\n",
              "</div>\n",
              "    </div>\n",
              "  </div>\n"
            ]
          },
          "metadata": {}
        }
      ]
    }
  ]
}