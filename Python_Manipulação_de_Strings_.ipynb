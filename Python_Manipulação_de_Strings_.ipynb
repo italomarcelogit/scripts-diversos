{
  "nbformat": 4,
  "nbformat_minor": 0,
  "metadata": {
    "colab": {
      "name": "Python: Manipulação de Strings .ipynb",
      "provenance": [],
      "authorship_tag": "ABX9TyMgw0s7QjYVAMC1n/qBzJQr",
      "include_colab_link": true
    },
    "kernelspec": {
      "name": "python3",
      "display_name": "Python 3"
    },
    "language_info": {
      "name": "python"
    }
  },
  "cells": [
    {
      "cell_type": "markdown",
      "metadata": {
        "id": "view-in-github",
        "colab_type": "text"
      },
      "source": [
        "<a href=\"https://colab.research.google.com/github/italomarcelogit/scripts-diversos/blob/master/Python_Manipula%C3%A7%C3%A3o_de_Strings_.ipynb\" target=\"_parent\"><img src=\"https://colab.research.google.com/assets/colab-badge.svg\" alt=\"Open In Colab\"/></a>"
      ]
    },
    {
      "cell_type": "markdown",
      "metadata": {
        "id": "EpI0T9paHpaD"
      },
      "source": [
        "# **Dicas de manipulação de strings em python**"
      ]
    },
    {
      "cell_type": "markdown",
      "metadata": {
        "id": "kektrhZ310uO"
      },
      "source": [
        "capitalize - encode - format - isalpha - isidentifier - isspace - istitle - \n",
        "ljust - rjust - partition - split - swapcase - zfill "
      ]
    },
    {
      "cell_type": "markdown",
      "metadata": {
        "id": "aJRziMQ5H2SY"
      },
      "source": [
        "**A string** é uma cadeia de caracteres, podendo eles ser do alfabeto, numéricos, especiais entre outros. Exemplos:\n",
        "\n",
        "*   João da Silva\n",
        "*   Minha_S3nh4!\n",
        "*   Um texto qualquer que possui diversas palavras com letras, números, caracteres especiais e muitos outros bla bla bla etc e tal.\n",
        "\n",
        "Abaixo seguem algumas das muitas funções de python para formatação e maninpulação de strings.\n",
        "\n"
      ]
    },
    {
      "cell_type": "markdown",
      "metadata": {
        "id": "5reFcGKPIpB8"
      },
      "source": [
        "**Conhecendo a string**"
      ]
    },
    {
      "cell_type": "code",
      "metadata": {
        "colab": {
          "base_uri": "https://localhost:8080/"
        },
        "id": "s7SFRbVX1e5m",
        "outputId": "8f299efc-95d2-4767-fa5a-cdc1325e4a61"
      },
      "source": [
        "x = 'PYTHON - manipulação Strings'\n",
        "print(x)"
      ],
      "execution_count": 1,
      "outputs": [
        {
          "output_type": "stream",
          "name": "stdout",
          "text": [
            "PYTHON - manipulação Strings\n"
          ]
        }
      ]
    },
    {
      "cell_type": "code",
      "metadata": {
        "colab": {
          "base_uri": "https://localhost:8080/"
        },
        "id": "veAZnIIyJFkr",
        "outputId": "9cceaddf-d0da-47f8-f5ea-6714b001952a"
      },
      "source": [
        "# quantidade de caracteres da string x\n",
        "print(len(x))"
      ],
      "execution_count": 2,
      "outputs": [
        {
          "output_type": "stream",
          "name": "stdout",
          "text": [
            "28\n"
          ]
        }
      ]
    },
    {
      "cell_type": "code",
      "metadata": {
        "colab": {
          "base_uri": "https://localhost:8080/"
        },
        "id": "F4nG_Io6Ixlo",
        "outputId": "d0feca9b-3934-4a6b-e0ec-e808e3a61d19"
      },
      "source": [
        "# o primeiro caracter da string x\n",
        "print(x[0]) # P"
      ],
      "execution_count": 3,
      "outputs": [
        {
          "output_type": "stream",
          "name": "stdout",
          "text": [
            "P\n"
          ]
        }
      ]
    },
    {
      "cell_type": "code",
      "metadata": {
        "colab": {
          "base_uri": "https://localhost:8080/"
        },
        "id": "1rQLRXeXI4xI",
        "outputId": "a7b45e4a-32a6-41ba-adb5-8b1f28335ef8"
      },
      "source": [
        "# o último caracter da string x\n",
        "print(x[len(x)-1]) # s"
      ],
      "execution_count": 4,
      "outputs": [
        {
          "output_type": "stream",
          "name": "stdout",
          "text": [
            "s\n"
          ]
        }
      ]
    },
    {
      "cell_type": "code",
      "metadata": {
        "colab": {
          "base_uri": "https://localhost:8080/"
        },
        "id": "qDriAbvNLw9f",
        "outputId": "b777d722-4c18-4954-bb04-b1e3bb3b62e2"
      },
      "source": [
        "# varrendo a string posição a posição, até a sexta posição\n",
        "for i in x[:6]: # e imprimindo na vertical\n",
        "  print(i)"
      ],
      "execution_count": 5,
      "outputs": [
        {
          "output_type": "stream",
          "name": "stdout",
          "text": [
            "P\n",
            "Y\n",
            "T\n",
            "H\n",
            "O\n",
            "N\n"
          ]
        }
      ]
    },
    {
      "cell_type": "code",
      "metadata": {
        "colab": {
          "base_uri": "https://localhost:8080/"
        },
        "id": "-kknl9jbMQfL",
        "outputId": "ad8a480b-3d59-4602-caa6-d52b10132e9e"
      },
      "source": [
        "print(x[:6]) # na horizontal\n",
        "# ou \n",
        "y = x[:6]\n",
        "print(y)\n",
        "# ou\n",
        "z = \"Eu programo em \" + y\n",
        "print(z)"
      ],
      "execution_count": 6,
      "outputs": [
        {
          "output_type": "stream",
          "name": "stdout",
          "text": [
            "PYTHON\n",
            "PYTHON\n",
            "Eu programo em PYTHON\n"
          ]
        }
      ]
    },
    {
      "cell_type": "markdown",
      "metadata": {
        "id": "ufxjG5URJUu9"
      },
      "source": [
        "**Formatando a String**"
      ]
    },
    {
      "cell_type": "code",
      "metadata": {
        "colab": {
          "base_uri": "https://localhost:8080/"
        },
        "id": "MVIpTGxLIryE",
        "outputId": "c3ee915c-b3e5-4f0a-8307-831a396703b0"
      },
      "source": [
        "# formatando uma string em maiúsculo, em minúsculo \n",
        "# e somente o primeiro caracter em maiúsculo\n",
        "print(\"MAIÚSCULA: \",x.upper())\n",
        "print(\"minúscula: \",x.lower())\n",
        "print(\"Primeira maíuscula: \", x.capitalize())"
      ],
      "execution_count": 7,
      "outputs": [
        {
          "output_type": "stream",
          "name": "stdout",
          "text": [
            "MAIÚSCULA:  PYTHON - MANIPULAÇÃO STRINGS\n",
            "minúscula:  python - manipulação strings\n",
            "Primeira maíuscula:  Python - manipulação strings\n"
          ]
        }
      ]
    },
    {
      "cell_type": "code",
      "metadata": {
        "colab": {
          "base_uri": "https://localhost:8080/"
        },
        "id": "0KdkHuXIOrhp",
        "outputId": "01aa8da3-0a47-45a7-8e6b-907766b5f4e1"
      },
      "source": [
        "# deixando as iniciais maiúsculas\n",
        "print(x.title())"
      ],
      "execution_count": 8,
      "outputs": [
        {
          "output_type": "stream",
          "name": "stdout",
          "text": [
            "Python - Manipulação Strings\n"
          ]
        }
      ]
    },
    {
      "cell_type": "code",
      "metadata": {
        "colab": {
          "base_uri": "https://localhost:8080/"
        },
        "id": "1I9zX9NaBpSQ",
        "outputId": "d18a4176-1fe4-4884-aac7-4f2e4009c3b2"
      },
      "source": [
        "# existe também a função casefold, que transforma em minúsculo\n",
        "# parece idêntica mas em alguns idiomas, a função lower não funcionará devidamente\n",
        "print(\"lower    :\", x.lower())\n",
        "print(\"casefold : \", x.casefold())"
      ],
      "execution_count": 9,
      "outputs": [
        {
          "output_type": "stream",
          "name": "stdout",
          "text": [
            "lower    : python - manipulação strings\n",
            "casefold :  python - manipulação strings\n"
          ]
        }
      ]
    },
    {
      "cell_type": "code",
      "metadata": {
        "colab": {
          "base_uri": "https://localhost:8080/"
        },
        "id": "TPbEPS86Drlv",
        "outputId": "208d5421-f210-4520-ddb3-ae01fe38ed45"
      },
      "source": [
        "# Veja a diferença na lingua alemã\n",
        "print(\"lower:\", \"außen\".lower())\n",
        "print(\"casefold\", \"außen\".casefold())"
      ],
      "execution_count": 10,
      "outputs": [
        {
          "output_type": "stream",
          "name": "stdout",
          "text": [
            "lower: außen\n",
            "casefold aussen\n"
          ]
        }
      ]
    },
    {
      "cell_type": "code",
      "metadata": {
        "colab": {
          "base_uri": "https://localhost:8080/"
        },
        "id": "1-dJXxLj-6Yx",
        "outputId": "0a7f1e4e-0cbb-431c-fedf-0c1357eeb155"
      },
      "source": [
        "# invertendo maiúsculas e minúsculas\n",
        "print(\"original : \", x)\n",
        "print(\"swapecase: \", x.swapcase())"
      ],
      "execution_count": 11,
      "outputs": [
        {
          "output_type": "stream",
          "name": "stdout",
          "text": [
            "original :  PYTHON - manipulação Strings\n",
            "swapecase:  python - MANIPULAÇÃO sTRINGS\n"
          ]
        }
      ]
    },
    {
      "cell_type": "code",
      "metadata": {
        "colab": {
          "base_uri": "https://localhost:8080/"
        },
        "id": "VkCFW_Bv6k1T",
        "outputId": "c975a4e0-4568-44de-83c6-68a868893dd0"
      },
      "source": [
        "# adicionando caracteres para completar a qtde de caracteres em uma linha\n",
        "a = x.ljust(50,'-')\n",
        "b = x.rjust(50,'-')\n",
        "print(\"A: \", a)\n",
        "print(\"B: \", b)\n",
        "print(\"Qtde de caracteres: \", len(a), len(b))\n"
      ],
      "execution_count": 12,
      "outputs": [
        {
          "output_type": "stream",
          "name": "stdout",
          "text": [
            "A:  PYTHON - manipulação Strings----------------------\n",
            "B:  ----------------------PYTHON - manipulação Strings\n",
            "Qtde de caracteres:  50 50\n"
          ]
        }
      ]
    },
    {
      "cell_type": "code",
      "metadata": {
        "colab": {
          "base_uri": "https://localhost:8080/"
        },
        "id": "xoYKbZFOUs4J",
        "outputId": "ce4ffba2-efaf-4d1a-f311-8aeec3a048d1"
      },
      "source": [
        "# Centralizar uma string em uma quantidade de caracteres\n",
        "print(x.center(50,\"*\"))"
      ],
      "execution_count": 13,
      "outputs": [
        {
          "output_type": "stream",
          "name": "stdout",
          "text": [
            "***********PYTHON - manipulação Strings***********\n"
          ]
        }
      ]
    },
    {
      "cell_type": "code",
      "metadata": {
        "colab": {
          "base_uri": "https://localhost:8080/"
        },
        "id": "MgZ8Gfbe8WAH",
        "outputId": "cc3a37da-4ac4-4d45-fce4-477058eb0850"
      },
      "source": [
        "# Aqui um exemplo de como desenhar um box screen usando as funções ljust e center\n",
        "print(\"#\".ljust(49,\"=\")+\"#\")\n",
        "print(\"#\"+ x.center(48,\"*\") + \"#\")\n",
        "print(\"#\".ljust(49,\"=\")+\"#\")\n",
        "for i in range(0,8):\n",
        "  print(\"#\".ljust(49,\" \")+\"#\")\n",
        "print(\"#\".ljust(49,\"=\")+\"#\")"
      ],
      "execution_count": 14,
      "outputs": [
        {
          "output_type": "stream",
          "name": "stdout",
          "text": [
            "#================================================#\n",
            "#**********PYTHON - manipulação Strings**********#\n",
            "#================================================#\n",
            "#                                                #\n",
            "#                                                #\n",
            "#                                                #\n",
            "#                                                #\n",
            "#                                                #\n",
            "#                                                #\n",
            "#                                                #\n",
            "#                                                #\n",
            "#================================================#\n"
          ]
        }
      ]
    },
    {
      "cell_type": "code",
      "metadata": {
        "colab": {
          "base_uri": "https://localhost:8080/"
        },
        "id": "Cd7m-vzmA7CY",
        "outputId": "21b5cf22-aae7-47b2-e0c5-6bae2e46bfa9"
      },
      "source": [
        "# Uma outra formatação de string é quando queremos totalizar a quantidade \n",
        "# de caracteres atribuindo o caracter 0 a esquerda\n",
        "agua = \"3.50\"\n",
        "vinho = \"22.50\"\n",
        "print(\"Água:  \", agua.zfill(5))\n",
        "print(\"Vinho: \", vinho.zfill(5))"
      ],
      "execution_count": 15,
      "outputs": [
        {
          "output_type": "stream",
          "name": "stdout",
          "text": [
            "Água:   03.50\n",
            "Vinho:  22.50\n"
          ]
        }
      ]
    },
    {
      "cell_type": "code",
      "metadata": {
        "colab": {
          "base_uri": "https://localhost:8080/"
        },
        "id": "gmx2REW9VrDB",
        "outputId": "70a1d007-4519-4db7-e4cf-60961622485b"
      },
      "source": [
        "# agua e vinho, são strings, não são números\n",
        "# veja abaixo um exemplo com outra string qualquer e preenchendo com 0 a esquerda\n",
        "print(\"texto do lado direito\".zfill(40))"
      ],
      "execution_count": 16,
      "outputs": [
        {
          "output_type": "stream",
          "name": "stdout",
          "text": [
            "0000000000000000000texto do lado direito\n"
          ]
        }
      ]
    },
    {
      "cell_type": "code",
      "metadata": {
        "colab": {
          "base_uri": "https://localhost:8080/"
        },
        "id": "OTPkbPt42iL-",
        "outputId": "e53b9190-2235-4eba-8b4b-d56d8832f450"
      },
      "source": [
        "# Codificar uma string\n",
        "a = \"Texto não codificado\"\n",
        "print(a.encode('utf-8'))"
      ],
      "execution_count": 17,
      "outputs": [
        {
          "output_type": "stream",
          "name": "stdout",
          "text": [
            "b'Texto n\\xc3\\xa3o codificado'\n"
          ]
        }
      ]
    },
    {
      "cell_type": "code",
      "metadata": {
        "colab": {
          "base_uri": "https://localhost:8080/"
        },
        "id": "uTVbcgpxXtY4",
        "outputId": "a1893df4-80dc-4840-810c-55d18f17348a"
      },
      "source": [
        "print(a.encode('ascii', 'ignore')) # ignorando o encoding\n",
        "print(a.encode('ascii', 'replace')) # substituindo por ?"
      ],
      "execution_count": 18,
      "outputs": [
        {
          "output_type": "stream",
          "name": "stdout",
          "text": [
            "b'Texto no codificado'\n",
            "b'Texto n?o codificado'\n"
          ]
        }
      ]
    },
    {
      "cell_type": "markdown",
      "metadata": {
        "id": "MOYbfAJqYlS3"
      },
      "source": [
        "**Manipulando a string**"
      ]
    },
    {
      "cell_type": "code",
      "metadata": {
        "colab": {
          "base_uri": "https://localhost:8080/"
        },
        "id": "cY7hfBjVYnh1",
        "outputId": "e169ab89-776d-4b66-b1a9-2d594474b80e"
      },
      "source": [
        "print(x)"
      ],
      "execution_count": 19,
      "outputs": [
        {
          "output_type": "stream",
          "name": "stdout",
          "text": [
            "PYTHON - manipulação Strings\n"
          ]
        }
      ]
    },
    {
      "cell_type": "code",
      "metadata": {
        "colab": {
          "base_uri": "https://localhost:8080/"
        },
        "id": "ImEU9xMD-dXr",
        "outputId": "dee043f5-b722-419d-b4e0-e6eff50e355a"
      },
      "source": [
        "# uma forma de inserir valores em uma string\n",
        "a = 'ano'\n",
        "b = 'complicado'\n",
        "print('Este {} foi {}'.format(a, b))\n",
        "# ou também desta forma\n",
        "print(f'Este {a} foi {b}')"
      ],
      "execution_count": 20,
      "outputs": [
        {
          "output_type": "stream",
          "name": "stdout",
          "text": [
            "Este ano foi complicado\n",
            "Este ano foi complicado\n"
          ]
        }
      ]
    },
    {
      "cell_type": "code",
      "metadata": {
        "colab": {
          "base_uri": "https://localhost:8080/"
        },
        "id": "kF27RImybj-p",
        "outputId": "17c68300-4087-48e7-df7a-07e7f373aacf"
      },
      "source": [
        "# utilizando dicionário para preencher uma string\n",
        "dicionario = {\"a\": \"Italo\", \"b\": \"Marcelo\"}\n",
        "print(\"Meu nome é {a} {b}\".format_map(dicionario))\n",
        "\n",
        "# ou utilizando uma lista\n",
        "lista = ['Italo', 'Marcelo']\n",
        "print(f'Meu nome é {lista[0]} {lista[1]}')"
      ],
      "execution_count": 21,
      "outputs": [
        {
          "output_type": "stream",
          "name": "stdout",
          "text": [
            "Meu nome é Italo Marcelo\n",
            "Meu nome é Italo Marcelo\n"
          ]
        }
      ]
    },
    {
      "cell_type": "code",
      "metadata": {
        "colab": {
          "base_uri": "https://localhost:8080/"
        },
        "id": "0qHiaEx4EPJ6",
        "outputId": "9ce0705d-b119-4211-f281-1c6aa745a43a"
      },
      "source": [
        "# dividir uma string na primeira ocorrência de um caracter ou string\n",
        "print(x.partition(\"-\"))\n",
        "print(x.rpartition(\"manipulação\"))"
      ],
      "execution_count": 22,
      "outputs": [
        {
          "output_type": "stream",
          "name": "stdout",
          "text": [
            "('PYTHON ', '-', ' manipulação Strings')\n",
            "('PYTHON - ', 'manipulação', ' Strings')\n"
          ]
        }
      ]
    },
    {
      "cell_type": "code",
      "metadata": {
        "colab": {
          "base_uri": "https://localhost:8080/"
        },
        "id": "Rw7DeaB4GpuN",
        "outputId": "6ea935b5-0e2d-4cf5-bd22-3553efb049f7"
      },
      "source": [
        "# dividir uma string em todas as ocorrências de um caracter ou string\n",
        "# e retorna uma lista\n",
        "print(x.split(\" \"))\n",
        "print(x.rsplit(\"-\"))"
      ],
      "execution_count": 23,
      "outputs": [
        {
          "output_type": "stream",
          "name": "stdout",
          "text": [
            "['PYTHON', '-', 'manipulação', 'Strings']\n",
            "['PYTHON ', ' manipulação Strings']\n"
          ]
        }
      ]
    },
    {
      "cell_type": "code",
      "metadata": {
        "colab": {
          "base_uri": "https://localhost:8080/"
        },
        "id": "2z8XVbZuYqPL",
        "outputId": "c80ddbc3-092b-4fd2-a618-436a50e80f06"
      },
      "source": [
        "# dividir uma string a partir de ocorrências de um caracter ou string, \n",
        "# da direita p/ esquerda e retorna uma lista\n",
        "a = \"1: 2: 3: 4: 5:\"\n",
        "print(a.rsplit(\":\", 2))"
      ],
      "execution_count": 24,
      "outputs": [
        {
          "output_type": "stream",
          "name": "stdout",
          "text": [
            "['1: 2: 3: 4', ' 5', '']\n"
          ]
        }
      ]
    },
    {
      "cell_type": "code",
      "metadata": {
        "colab": {
          "base_uri": "https://localhost:8080/"
        },
        "id": "dP1WhXOccdeF",
        "outputId": "94e024c4-44e5-41d2-c81f-87206a5ebb54"
      },
      "source": [
        "# splitline retorna uma lista como se fosse um str.split('\\n')\n",
        "texto = \"linha 1 do texto\\nlinha 2 do texto \\nlinha 3 do texto \\nlinha 4 do texto\"\n",
        "print(texto)\n",
        "print(texto.splitlines())\n",
        "print(texto.split('\\n'))"
      ],
      "execution_count": 25,
      "outputs": [
        {
          "output_type": "stream",
          "name": "stdout",
          "text": [
            "linha 1 do texto\n",
            "linha 2 do texto \n",
            "linha 3 do texto \n",
            "linha 4 do texto\n",
            "['linha 1 do texto', 'linha 2 do texto ', 'linha 3 do texto ', 'linha 4 do texto']\n",
            "['linha 1 do texto', 'linha 2 do texto ', 'linha 3 do texto ', 'linha 4 do texto']\n"
          ]
        }
      ]
    },
    {
      "cell_type": "code",
      "metadata": {
        "colab": {
          "base_uri": "https://localhost:8080/"
        },
        "id": "OX9x4fx9dYN0",
        "outputId": "72f379eb-1b56-486c-be8a-93bf53bd23f9"
      },
      "source": [
        "# Localizar uma string retornando a posição\n",
        "a = \"Joao da Silva\"\n",
        "print(a.find('da'))"
      ],
      "execution_count": 26,
      "outputs": [
        {
          "output_type": "stream",
          "name": "stdout",
          "text": [
            "5\n"
          ]
        }
      ]
    },
    {
      "cell_type": "code",
      "metadata": {
        "colab": {
          "base_uri": "https://localhost:8080/"
        },
        "id": "3LOMhTNge_76",
        "outputId": "a873ddf8-0f82-4d3a-99ff-ef196c878a62"
      },
      "source": [
        "# Localizar um caracter na string retornando a quantidade\n",
        "a = \"Joao da Silva\"\n",
        "print(a.count('a'))"
      ],
      "execution_count": 27,
      "outputs": [
        {
          "output_type": "stream",
          "name": "stdout",
          "text": [
            "3\n"
          ]
        }
      ]
    },
    {
      "cell_type": "code",
      "metadata": {
        "colab": {
          "base_uri": "https://localhost:8080/"
        },
        "id": "SENioQDdfOE8",
        "outputId": "85fb5545-1bfb-45e0-86f9-4b1ddf4e486f"
      },
      "source": [
        "# utilizando tabuladores de string\n",
        "a = \"eu \\testou \\taprendendo \\tmanipular \\tpython\"\n",
        "print(a)\n",
        "print(a.expandtabs(8)) # com a mesmo espaço de tabulação\n",
        "print(a.expandtabs(18)) # com espaçamento de 18 caracteres de tabulação"
      ],
      "execution_count": 28,
      "outputs": [
        {
          "output_type": "stream",
          "name": "stdout",
          "text": [
            "eu \testou \taprendendo \tmanipular \tpython\n",
            "eu      estou   aprendendo      manipular       python\n",
            "eu                estou             aprendendo        manipular         python\n"
          ]
        }
      ]
    },
    {
      "cell_type": "markdown",
      "metadata": {
        "id": "XhK5YLpCQb1z"
      },
      "source": [
        "**Verificações**\n",
        "\n",
        "Existem diversas funções de string que validam diversas condições, retornando True ou False como resultado. Vejamos algumas delas:"
      ]
    },
    {
      "cell_type": "code",
      "metadata": {
        "colab": {
          "base_uri": "https://localhost:8080/"
        },
        "id": "fCxL6haU6PKm",
        "outputId": "4e6a7e47-4bda-41dd-c50d-79cd22dc9abf"
      },
      "source": [
        "# verifica se a string possui todas as iniciais em maiúsculas\n",
        "txt = 'Italo Marcelo'\n",
        "print(txt.istitle()) # retorna True\n",
        "if txt.istitle(): # se True\n",
        "  print('As letras iniciais estão em maiúsculas')\n",
        "else:\n",
        "  print('As letras iniciais não estão em maiúsculas')"
      ],
      "execution_count": 29,
      "outputs": [
        {
          "output_type": "stream",
          "name": "stdout",
          "text": [
            "True\n",
            "As letras iniciais estão em maiúsculas\n"
          ]
        }
      ]
    },
    {
      "cell_type": "code",
      "metadata": {
        "colab": {
          "base_uri": "https://localhost:8080/"
        },
        "id": "fVJeiQOuUDTQ",
        "outputId": "9590497a-02d8-41df-fbac-b8bf69cd55fe"
      },
      "source": [
        "# verifica se o caracter ou a string está em maiúsculo\n",
        "print(\"Italo\".isupper())\n",
        "print(\"ITALO\".isupper())"
      ],
      "execution_count": 30,
      "outputs": [
        {
          "output_type": "stream",
          "name": "stdout",
          "text": [
            "False\n",
            "True\n"
          ]
        }
      ]
    },
    {
      "cell_type": "code",
      "metadata": {
        "colab": {
          "base_uri": "https://localhost:8080/"
        },
        "id": "kOgDczgMUSKo",
        "outputId": "e6e98cae-11c6-4b22-e346-7c9ec7d55f10"
      },
      "source": [
        "# verifica se o caracter ou a string está em minúsculo\n",
        "print(\"Italo\".islower())\n",
        "print(\"ITALO\".islower())"
      ],
      "execution_count": 31,
      "outputs": [
        {
          "output_type": "stream",
          "name": "stdout",
          "text": [
            "False\n",
            "False\n"
          ]
        }
      ]
    },
    {
      "cell_type": "code",
      "metadata": {
        "colab": {
          "base_uri": "https://localhost:8080/"
        },
        "id": "s1oWH-KOEISu",
        "outputId": "1479067a-15a3-40f5-fb5f-58e9a2b97940"
      },
      "source": [
        "# verifica se o caracter ou a string é toda numérica\n",
        "\"14\".isnumeric(), \"F14\".isnumeric()"
      ],
      "execution_count": 32,
      "outputs": [
        {
          "output_type": "execute_result",
          "data": {
            "text/plain": [
              "(True, False)"
            ]
          },
          "metadata": {},
          "execution_count": 32
        }
      ]
    },
    {
      "cell_type": "code",
      "metadata": {
        "colab": {
          "base_uri": "https://localhost:8080/"
        },
        "id": "CD7Oa6cAFahh",
        "outputId": "c08af425-931c-4ffe-e6c2-a005988ed040"
      },
      "source": [
        "# verifica se o caracter ou a string contém somente dígitos\n",
        "\"14\".isdigit(), \"F14\".isdigit()"
      ],
      "execution_count": 33,
      "outputs": [
        {
          "output_type": "execute_result",
          "data": {
            "text/plain": [
              "(True, False)"
            ]
          },
          "metadata": {},
          "execution_count": 33
        }
      ]
    },
    {
      "cell_type": "code",
      "metadata": {
        "colab": {
          "base_uri": "https://localhost:8080/"
        },
        "id": "4zJqwDKFEnjF",
        "outputId": "18003632-dd9b-4a19-ba75-cd43e737aca8"
      },
      "source": [
        "# verifica se o caracter ou a string contém alfanuméricos\n",
        "\"ano2021\".isalnum(), \"ano\".isnumeric(), \"2021\".isalnum(), \"ano 2021\".isdecimal()"
      ],
      "execution_count": 34,
      "outputs": [
        {
          "output_type": "execute_result",
          "data": {
            "text/plain": [
              "(True, False, True, False)"
            ]
          },
          "metadata": {},
          "execution_count": 34
        }
      ]
    },
    {
      "cell_type": "code",
      "metadata": {
        "colab": {
          "base_uri": "https://localhost:8080/"
        },
        "id": "iLg0_E4P4LkK",
        "outputId": "bdf1ed71-6c09-441c-b456-d1634ed90986"
      },
      "source": [
        "# verifica se a string contém somente letras do alfabeto\n",
        "\"senha\".isalpha(), \"senha13\".isalpha()"
      ],
      "execution_count": 35,
      "outputs": [
        {
          "output_type": "execute_result",
          "data": {
            "text/plain": [
              "(True, False)"
            ]
          },
          "metadata": {},
          "execution_count": 35
        }
      ]
    },
    {
      "cell_type": "code",
      "metadata": {
        "colab": {
          "base_uri": "https://localhost:8080/"
        },
        "id": "eUIZrswV4g1F",
        "outputId": "47a825c6-e2a2-4850-d10c-a6594e34c950"
      },
      "source": [
        "# verifica se a string possui caracteres válidos para escrever um código identificador\n",
        "\"meuID\".isidentifier(), \"meuID_\".isidentifier(), \"13meuID\".isidentifier(), \"_13meuID\".isidentifier()"
      ],
      "execution_count": 36,
      "outputs": [
        {
          "output_type": "execute_result",
          "data": {
            "text/plain": [
              "(True, True, False, True)"
            ]
          },
          "metadata": {},
          "execution_count": 36
        }
      ]
    },
    {
      "cell_type": "code",
      "metadata": {
        "colab": {
          "base_uri": "https://localhost:8080/"
        },
        "id": "f70fbX486AgV",
        "outputId": "9b5d01b6-71ef-417e-9798-2a21c04381e8"
      },
      "source": [
        "# verifica se o caracter ou string é de espaço em branco\n",
        "print(\"  \".isspace())\n",
        "# ou\n",
        "for i in \"sou eu\":\n",
        "  print(i, i.isspace())"
      ],
      "execution_count": 37,
      "outputs": [
        {
          "output_type": "stream",
          "name": "stdout",
          "text": [
            "True\n",
            "s False\n",
            "o False\n",
            "u False\n",
            "  True\n",
            "e False\n",
            "u False\n"
          ]
        }
      ]
    },
    {
      "cell_type": "code",
      "metadata": {
        "colab": {
          "base_uri": "https://localhost:8080/"
        },
        "id": "CL3L33kDdxht",
        "outputId": "c36eedb9-f000-454f-fd25-52e6066ef49d"
      },
      "source": [
        "# verifica se a string inicia com uma substring qualquer\n",
        "print(x) # PYTHON - manipulação Strings\n",
        "print(x.startswith('Python')) # não inicia com Python\n",
        "print(x.startswith('PYTHON')) # inicia com PYTHON"
      ],
      "execution_count": 38,
      "outputs": [
        {
          "output_type": "stream",
          "name": "stdout",
          "text": [
            "PYTHON - manipulação Strings\n",
            "False\n",
            "True\n"
          ]
        }
      ]
    },
    {
      "cell_type": "code",
      "metadata": {
        "colab": {
          "base_uri": "https://localhost:8080/"
        },
        "id": "8G82hUrTZZKl",
        "outputId": "39d78e76-6e93-4dde-e108-8d79b09767fe"
      },
      "source": [
        "# verifica se a string termina com uma substring qualquer\n",
        "print(x) # PYTHON - manipulação Strings\n",
        "print(x.endswith('strings')) # não termina com strings\n",
        "print(x.endswith('Strings')) # termina com Strings"
      ],
      "execution_count": 39,
      "outputs": [
        {
          "output_type": "stream",
          "name": "stdout",
          "text": [
            "PYTHON - manipulação Strings\n",
            "False\n",
            "True\n"
          ]
        }
      ]
    },
    {
      "cell_type": "code",
      "metadata": {
        "colab": {
          "base_uri": "https://localhost:8080/"
        },
        "id": "lgQznvfSZ2B9",
        "outputId": "d2c13855-edd6-43e7-8d2d-7f9d4bee786f"
      },
      "source": [
        "senha = \"minhaSenha1_\"\n",
        "print(senha.isascii())\n",
        "senha2 = \"minhaçenha1_\"\n",
        "print(senha2.isascii()) # ç não está na tabela ascii"
      ],
      "execution_count": 40,
      "outputs": [
        {
          "output_type": "stream",
          "name": "stdout",
          "text": [
            "True\n",
            "False\n"
          ]
        }
      ]
    }
  ]
}