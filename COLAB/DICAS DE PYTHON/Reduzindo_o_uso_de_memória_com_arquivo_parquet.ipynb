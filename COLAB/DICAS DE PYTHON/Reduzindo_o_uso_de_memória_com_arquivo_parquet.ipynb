{
  "nbformat": 4,
  "nbformat_minor": 0,
  "metadata": {
    "colab": {
      "provenance": [],
      "authorship_tag": "ABX9TyMXae86CAUIsO8utnJS6uFb",
      "include_colab_link": true
    },
    "kernelspec": {
      "name": "python3",
      "display_name": "Python 3"
    },
    "language_info": {
      "name": "python"
    }
  },
  "cells": [
    {
      "cell_type": "markdown",
      "metadata": {
        "id": "view-in-github",
        "colab_type": "text"
      },
      "source": [
        "<a href=\"https://colab.research.google.com/github/italomarcelogit/scripts-diversos/blob/master/Reduzindo_o_uso_de_mem%C3%B3ria_com_arquivo_parquet.ipynb\" target=\"_parent\"><img src=\"https://colab.research.google.com/assets/colab-badge.svg\" alt=\"Open In Colab\"/></a>"
      ]
    },
    {
      "cell_type": "markdown",
      "source": [
        "# Reduzindo o uso de memória com arquivo parquet."
      ],
      "metadata": {
        "id": "Tf_eAYyD1ZBZ"
      }
    },
    {
      "cell_type": "code",
      "execution_count": 1,
      "metadata": {
        "id": "qYoiQjyA1VBi"
      },
      "outputs": [],
      "source": [
        "import pandas as pd\n",
        "import os\n",
        "\n",
        "def tamanho(a):\n",
        "  return f'{round(os.path.getsize(a)/1024/1024, 2)} MB'"
      ]
    },
    {
      "cell_type": "code",
      "source": [
        "arquivo = 'https://github.com/italomarcelogit/scripts-diversos/blob/master/dataset-sales-random/vendas_aleatorio.csv?raw=true'\n",
        "dados = pd.read_csv(arquivo)"
      ],
      "metadata": {
        "id": "ORU3lqdr1tFm"
      },
      "execution_count": 2,
      "outputs": []
    },
    {
      "cell_type": "code",
      "source": [
        "dados.to_csv('dados.csv', index=False)\n",
        "dados.to_parquet('dados.parquet')"
      ],
      "metadata": {
        "id": "BUr_jXPs1zSr"
      },
      "execution_count": 3,
      "outputs": []
    },
    {
      "cell_type": "code",
      "source": [
        "display(f\"Tamanho do arquivo CSV: {tamanho('dados.csv')}\")\n",
        "display(f\"Tamanho do arquivo PARQUET: {tamanho('dados.parquet')}\")"
      ],
      "metadata": {
        "colab": {
          "base_uri": "https://localhost:8080/",
          "height": 54
        },
        "id": "p7IQdgYQ2CGd",
        "outputId": "e4883e86-cbe4-4bb6-8f96-45cca875d978"
      },
      "execution_count": 4,
      "outputs": [
        {
          "output_type": "display_data",
          "data": {
            "text/plain": [
              "'Tamanho do arquivo CSV: 11.6 MB'"
            ],
            "application/vnd.google.colaboratory.intrinsic+json": {
              "type": "string"
            }
          },
          "metadata": {}
        },
        {
          "output_type": "display_data",
          "data": {
            "text/plain": [
              "'Tamanho do arquivo PARQUET: 4.61 MB'"
            ],
            "application/vnd.google.colaboratory.intrinsic+json": {
              "type": "string"
            }
          },
          "metadata": {}
        }
      ]
    }
  ]
}
