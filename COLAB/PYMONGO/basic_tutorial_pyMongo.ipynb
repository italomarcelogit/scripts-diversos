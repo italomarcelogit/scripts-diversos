{
  "nbformat": 4,
  "nbformat_minor": 0,
  "metadata": {
    "colab": {
      "name": "basic tutorial - pyMongo ",
      "provenance": [],
      "collapsed_sections": [],
      "authorship_tag": "ABX9TyOFTZiwBaDHlI+1hDxiz9aY",
      "include_colab_link": true
    },
    "kernelspec": {
      "name": "python3",
      "display_name": "Python 3"
    }
  },
  "cells": [
    {
      "cell_type": "markdown",
      "metadata": {
        "id": "view-in-github",
        "colab_type": "text"
      },
      "source": [
        "<a href=\"https://colab.research.google.com/github/italomarcelogit/python.free/blob/master/COLAB/PYMONGO/basic_tutorial_pyMongo.ipynb\" target=\"_parent\"><img src=\"https://colab.research.google.com/assets/colab-badge.svg\" alt=\"Open In Colab\"/></a>"
      ]
    },
    {
      "cell_type": "code",
      "metadata": {
        "id": "4BJiGvxNX0Pr"
      },
      "source": [
        "!pip install dnspython -q"
      ],
      "execution_count": 113,
      "outputs": []
    },
    {
      "cell_type": "code",
      "metadata": {
        "id": "LMyvuZFKWwA3"
      },
      "source": [
        "import pandas as pd\r\n",
        "import numpy as np\r\n",
        "import pymongo"
      ],
      "execution_count": 114,
      "outputs": []
    },
    {
      "cell_type": "code",
      "metadata": {
        "colab": {
          "base_uri": "https://localhost:8080/"
        },
        "id": "3zZcVIZbZXuG",
        "outputId": "4ef462c0-40ff-4fc3-fcfc-366d3fb7bcfc"
      },
      "source": [
        "# version\r\n",
        "print(pymongo.version)"
      ],
      "execution_count": 115,
      "outputs": [
        {
          "output_type": "stream",
          "text": [
            "3.11.3\n"
          ],
          "name": "stdout"
        }
      ]
    },
    {
      "cell_type": "markdown",
      "metadata": {
        "id": "VVuxpd83hhb9"
      },
      "source": [
        "# Creating mongoDB Connection"
      ]
    },
    {
      "cell_type": "code",
      "metadata": {
        "id": "Ijve14jvXgTU"
      },
      "source": [
        "def mongoConecta(url, database, collection):\r\n",
        "    mongo_url = url\r\n",
        "    cliente = pymongo.MongoClient(mongo_url)\r\n",
        "    DB = cliente[database]\r\n",
        "    DC = DB[collection]\r\n",
        "    return DC"
      ],
      "execution_count": 116,
      "outputs": []
    },
    {
      "cell_type": "code",
      "metadata": {
        "id": "RhuQGyIZXbiX"
      },
      "source": [
        "# Mongo Connect\r\n",
        "from setup_tutorial import MDB # file with dataconnect ==> url=\"YOUR URL MONGODB\", database='YOUR DATABASE', collection='YOUR COLLECTION'\r\n",
        "urlMDB, databaseMDB, collectionMDB = MDB()\r\n",
        "\r\n",
        "# get a collection in pymongo\r\n",
        "collection = mongoConecta(url=urlMDB,  database=databaseMDB, collection=collectionMDB)"
      ],
      "execution_count": 117,
      "outputs": []
    },
    {
      "cell_type": "code",
      "metadata": {
        "colab": {
          "base_uri": "https://localhost:8080/"
        },
        "id": "X9v-zYJHYfkR",
        "outputId": "75f226df-3420-40d0-85a8-fbaadab071f8"
      },
      "source": [
        "# clear collection\r\n",
        "collection.delete_many({})"
      ],
      "execution_count": 118,
      "outputs": [
        {
          "output_type": "execute_result",
          "data": {
            "text/plain": [
              "<pymongo.results.DeleteResult at 0x7fd679038e08>"
            ]
          },
          "metadata": {
            "tags": []
          },
          "execution_count": 118
        }
      ]
    },
    {
      "cell_type": "code",
      "metadata": {
        "colab": {
          "base_uri": "https://localhost:8080/"
        },
        "id": "-EgzcFncZgAx",
        "outputId": "a51b9677-a24a-4056-896d-a43d3d1383d3"
      },
      "source": [
        "# database & collection\r\n",
        "f'Database: {collection.database.name}', f'Collection: {collection.name}'"
      ],
      "execution_count": 119,
      "outputs": [
        {
          "output_type": "execute_result",
          "data": {
            "text/plain": [
              "('Database: tutorialDB', 'Collection: tutorialC')"
            ]
          },
          "metadata": {
            "tags": []
          },
          "execution_count": 119
        }
      ]
    },
    {
      "cell_type": "code",
      "metadata": {
        "colab": {
          "base_uri": "https://localhost:8080/",
          "height": 35
        },
        "id": "cmqM_omUbWbK",
        "outputId": "22583b51-317d-4a3b-83ff-449e824823da"
      },
      "source": [
        "# or \r\n",
        "collection.full_name"
      ],
      "execution_count": 120,
      "outputs": [
        {
          "output_type": "execute_result",
          "data": {
            "application/vnd.google.colaboratory.intrinsic+json": {
              "type": "string"
            },
            "text/plain": [
              "'tutorialDB.tutorialC'"
            ]
          },
          "metadata": {
            "tags": []
          },
          "execution_count": 120
        }
      ]
    },
    {
      "cell_type": "markdown",
      "metadata": {
        "id": "Fq60VowOh0DR"
      },
      "source": [
        "# Document\r\n",
        "\r\n",
        "Documents in pymongo is represented like a dictionary like below and stored using json-style documents.\r\n",
        "\r\n",
        "    employee = {\r\n",
        "      'id_doc': '12345A',\r\n",
        "      'name': 'Anne',\r\n",
        "      'age': 25,\r\n",
        "      'location': {\r\n",
        "        'city': 'Sao Paulo',\r\n",
        "        'country': 'Brazil'},\r\n",
        "      'salary': 6000,\r\n",
        "      'position': 'Manager',\r\n",
        "      'department': 'Sales'\r\n",
        "      'status': 1\r\n",
        "    }"
      ]
    },
    {
      "cell_type": "markdown",
      "metadata": {
        "id": "xfM5cUU3k_H9"
      },
      "source": [
        "# Basic commands to CRUD on mongoDB"
      ]
    },
    {
      "cell_type": "markdown",
      "metadata": {
        "id": "c4Zrcyr61Zck"
      },
      "source": [
        "**Insert One document**"
      ]
    },
    {
      "cell_type": "code",
      "metadata": {
        "id": "qWIA0efohVK3"
      },
      "source": [
        "# creating employee register \r\n",
        "\r\n",
        "employee = {\r\n",
        "    'id_doc': '12345A',\r\n",
        "    'name': 'Anne',\r\n",
        "    'age': 25,\r\n",
        "    'location': {\r\n",
        "      'city': 'Sao Paulo',\r\n",
        "      'country': 'Brazil'},\r\n",
        "    'salary': 6000,\r\n",
        "    'position': 'Manager',\r\n",
        "    'department': 'Sales',\r\n",
        "    'status': 1\r\n",
        "}\r\n"
      ],
      "execution_count": 121,
      "outputs": []
    },
    {
      "cell_type": "code",
      "metadata": {
        "colab": {
          "base_uri": "https://localhost:8080/"
        },
        "id": "3YEBfUWdln2E",
        "outputId": "91ebc868-da4a-46f4-ed15-f03ab90d129e"
      },
      "source": [
        "employee"
      ],
      "execution_count": 122,
      "outputs": [
        {
          "output_type": "execute_result",
          "data": {
            "text/plain": [
              "{'age': 25,\n",
              " 'department': 'Sales',\n",
              " 'id_doc': '12345A',\n",
              " 'location': {'city': 'Sao Paulo', 'country': 'Brazil'},\n",
              " 'name': 'Anne',\n",
              " 'position': 'Manager',\n",
              " 'salary': 6000,\n",
              " 'status': 1}"
            ]
          },
          "metadata": {
            "tags": []
          },
          "execution_count": 122
        }
      ]
    },
    {
      "cell_type": "code",
      "metadata": {
        "colab": {
          "base_uri": "https://localhost:8080/"
        },
        "id": "m6zIwXf4l43T",
        "outputId": "9138e3e7-76e7-4acd-9b97-52c973a94cf2"
      },
      "source": [
        "# insert one document on database.collection tutorialDB.tutorialC\r\n",
        "id = collection.insert_one(employee).inserted_id\r\n",
        "# showing idObject inserted\r\n",
        "id"
      ],
      "execution_count": 123,
      "outputs": [
        {
          "output_type": "execute_result",
          "data": {
            "text/plain": [
              "ObjectId('602a8a9c930e884131f7984e')"
            ]
          },
          "metadata": {
            "tags": []
          },
          "execution_count": 123
        }
      ]
    },
    {
      "cell_type": "code",
      "metadata": {
        "colab": {
          "base_uri": "https://localhost:8080/"
        },
        "id": "jT4mBi_7mVBK",
        "outputId": "692fbd1e-ea56-4c0f-b747-86bf69ce0b4b"
      },
      "source": [
        "# insert other document on database.collection tutorialDB.tutorialC\r\n",
        "employee = {\r\n",
        "    'id_doc': '12345B',\r\n",
        "    'name': 'Bruna',\r\n",
        "    'age': 32,\r\n",
        "    'location': {\r\n",
        "      'city': 'Sao Paulo',\r\n",
        "      'country': 'Brazil'},\r\n",
        "    'salary': 3000,\r\n",
        "    'position': 'Seller',\r\n",
        "    'department': 'Sales',\r\n",
        "    'status': 1\r\n",
        "}\r\n",
        "id = collection.insert_one(employee).inserted_id\r\n",
        "id"
      ],
      "execution_count": 124,
      "outputs": [
        {
          "output_type": "execute_result",
          "data": {
            "text/plain": [
              "ObjectId('602a8a9c930e884131f7984f')"
            ]
          },
          "metadata": {
            "tags": []
          },
          "execution_count": 124
        }
      ]
    },
    {
      "cell_type": "markdown",
      "metadata": {
        "id": "reXGJMyA1rsg"
      },
      "source": [
        "**Insert Many documents**"
      ]
    },
    {
      "cell_type": "code",
      "metadata": {
        "id": "Cbbq4lN_xNtH"
      },
      "source": [
        "# insert many documents on collection tutorialDB.tutorialC\r\n",
        "# the structure is array with 3 dicts ==> [{dict1}, {dict2}, {dict3}]\r\n",
        "employees = [{\r\n",
        "    'id_doc': '12345C',\r\n",
        "    'name': 'Carla',\r\n",
        "    'age': 29,\r\n",
        "    'location': {\r\n",
        "      'city': 'Sao Paulo',\r\n",
        "      'country': 'Brazil'},\r\n",
        "    'salary': 3000,\r\n",
        "    'position': 'Seller',\r\n",
        "    'department': 'Sales',\r\n",
        "    'status': 1\r\n",
        "},\r\n",
        "{\r\n",
        "    'id_doc': '12345D',\r\n",
        "    'name': 'David',\r\n",
        "    'age': 27,\r\n",
        "    'location': {\r\n",
        "      'city': 'Sao Paulo',\r\n",
        "      'country': 'Brazil'},\r\n",
        "    'salary': 3000,\r\n",
        "    'position': 'Seller',\r\n",
        "    'department': 'Sales',\r\n",
        "    'status': 1\r\n",
        "},\r\n",
        "{\r\n",
        "    'id_doc': '12345E',\r\n",
        "    'name': 'Eduarda',\r\n",
        "    'age': 31,\r\n",
        "    'location': {\r\n",
        "      'city': 'Sao Paulo',\r\n",
        "      'country': 'Brazil'},\r\n",
        "    'salary': 3500,\r\n",
        "    'position': 'Data Analist',\r\n",
        "    'department': 'Sales',\r\n",
        "    'status': 1\r\n",
        "}]\r\n",
        "\r\n",
        "ids = collection.insert_many(employees)"
      ],
      "execution_count": 125,
      "outputs": []
    },
    {
      "cell_type": "markdown",
      "metadata": {
        "id": "lrBkuLXX1m2T"
      },
      "source": [
        "**List One document**"
      ]
    },
    {
      "cell_type": "code",
      "metadata": {
        "colab": {
          "base_uri": "https://localhost:8080/"
        },
        "id": "QusckpAdlNo3",
        "outputId": "1b275046-f49b-484a-d160-cb6bda4d101e"
      },
      "source": [
        "# to find one document on collection\r\n",
        "\r\n",
        "collection.find_one()\r\n",
        "# it'll return the first document"
      ],
      "execution_count": 126,
      "outputs": [
        {
          "output_type": "execute_result",
          "data": {
            "text/plain": [
              "{'_id': ObjectId('602a8a9c930e884131f7984e'),\n",
              " 'age': 25,\n",
              " 'department': 'Sales',\n",
              " 'id_doc': '12345A',\n",
              " 'location': {'city': 'Sao Paulo', 'country': 'Brazil'},\n",
              " 'name': 'Anne',\n",
              " 'position': 'Manager',\n",
              " 'salary': 6000,\n",
              " 'status': 1}"
            ]
          },
          "metadata": {
            "tags": []
          },
          "execution_count": 126
        }
      ]
    },
    {
      "cell_type": "markdown",
      "metadata": {
        "id": "nrhea3wHqWkF"
      },
      "source": [
        "**List All documents**"
      ]
    },
    {
      "cell_type": "code",
      "metadata": {
        "colab": {
          "base_uri": "https://localhost:8080/"
        },
        "id": "iBn33a3RxNgI",
        "outputId": "41138a17-6264-4f73-9088-54538c8a4c6a"
      },
      "source": [
        "# to find many documents on collection\r\n",
        "\r\n",
        "[doc for doc in collection.find()]"
      ],
      "execution_count": 127,
      "outputs": [
        {
          "output_type": "execute_result",
          "data": {
            "text/plain": [
              "[{'_id': ObjectId('602a8a9c930e884131f7984e'),\n",
              "  'age': 25,\n",
              "  'department': 'Sales',\n",
              "  'id_doc': '12345A',\n",
              "  'location': {'city': 'Sao Paulo', 'country': 'Brazil'},\n",
              "  'name': 'Anne',\n",
              "  'position': 'Manager',\n",
              "  'salary': 6000,\n",
              "  'status': 1},\n",
              " {'_id': ObjectId('602a8a9c930e884131f7984f'),\n",
              "  'age': 32,\n",
              "  'department': 'Sales',\n",
              "  'id_doc': '12345B',\n",
              "  'location': {'city': 'Sao Paulo', 'country': 'Brazil'},\n",
              "  'name': 'Bruna',\n",
              "  'position': 'Seller',\n",
              "  'salary': 3000,\n",
              "  'status': 1},\n",
              " {'_id': ObjectId('602a8a9c930e884131f79850'),\n",
              "  'age': 29,\n",
              "  'department': 'Sales',\n",
              "  'id_doc': '12345C',\n",
              "  'location': {'city': 'Sao Paulo', 'country': 'Brazil'},\n",
              "  'name': 'Carla',\n",
              "  'position': 'Seller',\n",
              "  'salary': 3000,\n",
              "  'status': 1},\n",
              " {'_id': ObjectId('602a8a9c930e884131f79851'),\n",
              "  'age': 27,\n",
              "  'department': 'Sales',\n",
              "  'id_doc': '12345D',\n",
              "  'location': {'city': 'Sao Paulo', 'country': 'Brazil'},\n",
              "  'name': 'David',\n",
              "  'position': 'Seller',\n",
              "  'salary': 3000,\n",
              "  'status': 1},\n",
              " {'_id': ObjectId('602a8a9c930e884131f79852'),\n",
              "  'age': 31,\n",
              "  'department': 'Sales',\n",
              "  'id_doc': '12345E',\n",
              "  'location': {'city': 'Sao Paulo', 'country': 'Brazil'},\n",
              "  'name': 'Eduarda',\n",
              "  'position': 'Data Analist',\n",
              "  'salary': 3500,\n",
              "  'status': 1}]"
            ]
          },
          "metadata": {
            "tags": []
          },
          "execution_count": 127
        }
      ]
    },
    {
      "cell_type": "markdown",
      "metadata": {
        "id": "txyYGVCk11nh"
      },
      "source": [
        "**Queries document**"
      ]
    },
    {
      "cell_type": "code",
      "metadata": {
        "colab": {
          "base_uri": "https://localhost:8080/"
        },
        "id": "PxE-5HGby5Ww",
        "outputId": "6876ebad-6ec5-4077-8275-9df824b3ca03"
      },
      "source": [
        "# This code will return document with id_doc == \"12345C\" \r\n",
        "[doc for doc in collection.find({'id_doc': '12345C'})]"
      ],
      "execution_count": 128,
      "outputs": [
        {
          "output_type": "execute_result",
          "data": {
            "text/plain": [
              "[{'_id': ObjectId('602a8a9c930e884131f79850'),\n",
              "  'age': 29,\n",
              "  'department': 'Sales',\n",
              "  'id_doc': '12345C',\n",
              "  'location': {'city': 'Sao Paulo', 'country': 'Brazil'},\n",
              "  'name': 'Carla',\n",
              "  'position': 'Seller',\n",
              "  'salary': 3000,\n",
              "  'status': 1}]"
            ]
          },
          "metadata": {
            "tags": []
          },
          "execution_count": 128
        }
      ]
    },
    {
      "cell_type": "code",
      "metadata": {
        "colab": {
          "base_uri": "https://localhost:8080/"
        },
        "id": "ysPrzJ3E0VY-",
        "outputId": "b2694867-1017-4814-c757-f969e701e1f3"
      },
      "source": [
        "# here, this code will find all sellers\r\n",
        "[doc for doc in collection.find({'position': 'Seller'})]"
      ],
      "execution_count": 129,
      "outputs": [
        {
          "output_type": "execute_result",
          "data": {
            "text/plain": [
              "[{'_id': ObjectId('602a8a9c930e884131f7984f'),\n",
              "  'age': 32,\n",
              "  'department': 'Sales',\n",
              "  'id_doc': '12345B',\n",
              "  'location': {'city': 'Sao Paulo', 'country': 'Brazil'},\n",
              "  'name': 'Bruna',\n",
              "  'position': 'Seller',\n",
              "  'salary': 3000,\n",
              "  'status': 1},\n",
              " {'_id': ObjectId('602a8a9c930e884131f79850'),\n",
              "  'age': 29,\n",
              "  'department': 'Sales',\n",
              "  'id_doc': '12345C',\n",
              "  'location': {'city': 'Sao Paulo', 'country': 'Brazil'},\n",
              "  'name': 'Carla',\n",
              "  'position': 'Seller',\n",
              "  'salary': 3000,\n",
              "  'status': 1},\n",
              " {'_id': ObjectId('602a8a9c930e884131f79851'),\n",
              "  'age': 27,\n",
              "  'department': 'Sales',\n",
              "  'id_doc': '12345D',\n",
              "  'location': {'city': 'Sao Paulo', 'country': 'Brazil'},\n",
              "  'name': 'David',\n",
              "  'position': 'Seller',\n",
              "  'salary': 3000,\n",
              "  'status': 1}]"
            ]
          },
          "metadata": {
            "tags": []
          },
          "execution_count": 129
        }
      ]
    },
    {
      "cell_type": "code",
      "metadata": {
        "colab": {
          "base_uri": "https://localhost:8080/"
        },
        "id": "pMrgNYGC2e_d",
        "outputId": "15cc9f44-1952-4eac-92c2-871de9f5441c"
      },
      "source": [
        "# now, we'll find sellers filtered sorted by ages\r\n",
        "[doc for doc in collection.find({'position': 'Seller'}).sort('age')]"
      ],
      "execution_count": 130,
      "outputs": [
        {
          "output_type": "execute_result",
          "data": {
            "text/plain": [
              "[{'_id': ObjectId('602a8a9c930e884131f79851'),\n",
              "  'age': 27,\n",
              "  'department': 'Sales',\n",
              "  'id_doc': '12345D',\n",
              "  'location': {'city': 'Sao Paulo', 'country': 'Brazil'},\n",
              "  'name': 'David',\n",
              "  'position': 'Seller',\n",
              "  'salary': 3000,\n",
              "  'status': 1},\n",
              " {'_id': ObjectId('602a8a9c930e884131f79850'),\n",
              "  'age': 29,\n",
              "  'department': 'Sales',\n",
              "  'id_doc': '12345C',\n",
              "  'location': {'city': 'Sao Paulo', 'country': 'Brazil'},\n",
              "  'name': 'Carla',\n",
              "  'position': 'Seller',\n",
              "  'salary': 3000,\n",
              "  'status': 1},\n",
              " {'_id': ObjectId('602a8a9c930e884131f7984f'),\n",
              "  'age': 32,\n",
              "  'department': 'Sales',\n",
              "  'id_doc': '12345B',\n",
              "  'location': {'city': 'Sao Paulo', 'country': 'Brazil'},\n",
              "  'name': 'Bruna',\n",
              "  'position': 'Seller',\n",
              "  'salary': 3000,\n",
              "  'status': 1}]"
            ]
          },
          "metadata": {
            "tags": []
          },
          "execution_count": 130
        }
      ]
    },
    {
      "cell_type": "markdown",
      "metadata": {
        "id": "yEpnHQWF3mNq"
      },
      "source": [
        "**Advanced Queryes**\r\n",
        "\r\n",
        "[operators mongoDB](https://docs.mongodb.com/manual/reference/operator/query/)"
      ]
    },
    {
      "cell_type": "code",
      "metadata": {
        "colab": {
          "base_uri": "https://localhost:8080/"
        },
        "id": "vfWFLFJU368U",
        "outputId": "2c441c6a-8a01-4835-d461-596c7f3fa706"
      },
      "source": [
        "# list employees | age is great than 31\r\n",
        "[doc for doc in collection.find({'age': {'$gt': 31}})]"
      ],
      "execution_count": 131,
      "outputs": [
        {
          "output_type": "execute_result",
          "data": {
            "text/plain": [
              "[{'_id': ObjectId('602a8a9c930e884131f7984f'),\n",
              "  'age': 32,\n",
              "  'department': 'Sales',\n",
              "  'id_doc': '12345B',\n",
              "  'location': {'city': 'Sao Paulo', 'country': 'Brazil'},\n",
              "  'name': 'Bruna',\n",
              "  'position': 'Seller',\n",
              "  'salary': 3000,\n",
              "  'status': 1}]"
            ]
          },
          "metadata": {
            "tags": []
          },
          "execution_count": 131
        }
      ]
    },
    {
      "cell_type": "code",
      "metadata": {
        "colab": {
          "base_uri": "https://localhost:8080/"
        },
        "id": "Njg2uw9lB6S8",
        "outputId": "deee676d-e30e-442c-f375-1e5b0988584c"
      },
      "source": [
        "# list employees | age is greater or eq than 31\r\n",
        "[doc for doc in collection.find({'age': {'$gte': 31}})]"
      ],
      "execution_count": 132,
      "outputs": [
        {
          "output_type": "execute_result",
          "data": {
            "text/plain": [
              "[{'_id': ObjectId('602a8a9c930e884131f7984f'),\n",
              "  'age': 32,\n",
              "  'department': 'Sales',\n",
              "  'id_doc': '12345B',\n",
              "  'location': {'city': 'Sao Paulo', 'country': 'Brazil'},\n",
              "  'name': 'Bruna',\n",
              "  'position': 'Seller',\n",
              "  'salary': 3000,\n",
              "  'status': 1},\n",
              " {'_id': ObjectId('602a8a9c930e884131f79852'),\n",
              "  'age': 31,\n",
              "  'department': 'Sales',\n",
              "  'id_doc': '12345E',\n",
              "  'location': {'city': 'Sao Paulo', 'country': 'Brazil'},\n",
              "  'name': 'Eduarda',\n",
              "  'position': 'Data Analist',\n",
              "  'salary': 3500,\n",
              "  'status': 1}]"
            ]
          },
          "metadata": {
            "tags": []
          },
          "execution_count": 132
        }
      ]
    },
    {
      "cell_type": "code",
      "metadata": {
        "colab": {
          "base_uri": "https://localhost:8080/"
        },
        "id": "F9UwFpx5CNdD",
        "outputId": "3f6a40c8-14cb-447d-f7a4-8e36bd7d776e"
      },
      "source": [
        "# list employees | age is less than 27\r\n",
        "[doc for doc in collection.find({'age': {'$lt': 27}})]"
      ],
      "execution_count": 133,
      "outputs": [
        {
          "output_type": "execute_result",
          "data": {
            "text/plain": [
              "[{'_id': ObjectId('602a8a9c930e884131f7984e'),\n",
              "  'age': 25,\n",
              "  'department': 'Sales',\n",
              "  'id_doc': '12345A',\n",
              "  'location': {'city': 'Sao Paulo', 'country': 'Brazil'},\n",
              "  'name': 'Anne',\n",
              "  'position': 'Manager',\n",
              "  'salary': 6000,\n",
              "  'status': 1}]"
            ]
          },
          "metadata": {
            "tags": []
          },
          "execution_count": 133
        }
      ]
    },
    {
      "cell_type": "code",
      "metadata": {
        "colab": {
          "base_uri": "https://localhost:8080/"
        },
        "id": "VNiHxB5hC5Yw",
        "outputId": "0642ebd8-1cb8-4036-e1a0-2ce9c8a96239"
      },
      "source": [
        "# find by ObjectID\r\n",
        "employee = {\r\n",
        "    'id_doc': '12345F',\r\n",
        "    'name': 'Francis',\r\n",
        "    'age': 55,\r\n",
        "    'location': {\r\n",
        "      'city': 'Sao Paulo',\r\n",
        "      'country': 'Brazil'},\r\n",
        "    'salary': 3000,\r\n",
        "    'position': 'Accounter',\r\n",
        "    'department': 'Finances',\r\n",
        "    'status': 1\r\n",
        "}\r\n",
        "id = collection.insert_one(employee).inserted_id\r\n",
        "id"
      ],
      "execution_count": 134,
      "outputs": [
        {
          "output_type": "execute_result",
          "data": {
            "text/plain": [
              "ObjectId('602a8a9d930e884131f79853')"
            ]
          },
          "metadata": {
            "tags": []
          },
          "execution_count": 134
        }
      ]
    },
    {
      "cell_type": "code",
      "metadata": {
        "id": "J1XydThy5E3u",
        "colab": {
          "base_uri": "https://localhost:8080/"
        },
        "outputId": "50d94e7b-fd57-4026-bc60-9fd667125afb"
      },
      "source": [
        "# find by ObjectID\r\n",
        "collection.find_one({'_id': id})"
      ],
      "execution_count": 135,
      "outputs": [
        {
          "output_type": "execute_result",
          "data": {
            "text/plain": [
              "{'_id': ObjectId('602a8a9d930e884131f79853'),\n",
              " 'age': 55,\n",
              " 'department': 'Finances',\n",
              " 'id_doc': '12345F',\n",
              " 'location': {'city': 'Sao Paulo', 'country': 'Brazil'},\n",
              " 'name': 'Francis',\n",
              " 'position': 'Accounter',\n",
              " 'salary': 3000,\n",
              " 'status': 1}"
            ]
          },
          "metadata": {
            "tags": []
          },
          "execution_count": 135
        }
      ]
    },
    {
      "cell_type": "code",
      "metadata": {
        "colab": {
          "base_uri": "https://localhost:8080/"
        },
        "id": "akgWxBpN6xM9",
        "outputId": "75e4b47f-f3e4-4abd-acb8-3d93e3378f0c"
      },
      "source": [
        "# insert without position info\r\n",
        "employee = {\r\n",
        "    'id_doc': '12345G',\r\n",
        "    'name': 'Gustavo',\r\n",
        "    'age': 43,\r\n",
        "    'location': {\r\n",
        "      'city': 'Sao Paulo',\r\n",
        "      'country': 'Brazil'},\r\n",
        "    'salary': 3000,\r\n",
        "    'department': 'Marketing',\r\n",
        "    'status': 1\r\n",
        "}\r\n",
        "id = collection.insert_one(employee).inserted_id\r\n",
        "collection.find_one({'_id': id})"
      ],
      "execution_count": 136,
      "outputs": [
        {
          "output_type": "execute_result",
          "data": {
            "text/plain": [
              "{'_id': ObjectId('602a8a9d930e884131f79854'),\n",
              " 'age': 43,\n",
              " 'department': 'Marketing',\n",
              " 'id_doc': '12345G',\n",
              " 'location': {'city': 'Sao Paulo', 'country': 'Brazil'},\n",
              " 'name': 'Gustavo',\n",
              " 'salary': 3000,\n",
              " 'status': 1}"
            ]
          },
          "metadata": {
            "tags": []
          },
          "execution_count": 136
        }
      ]
    },
    {
      "cell_type": "code",
      "metadata": {
        "colab": {
          "base_uri": "https://localhost:8080/"
        },
        "id": "K4MIcIQWEVx7",
        "outputId": "137bf40d-f130-4daa-8133-2e2c66ec00fc"
      },
      "source": [
        "# insert without position info\r\n",
        "employee = {\r\n",
        "    'id_doc': '12345H',\r\n",
        "    'name': 'Henry',\r\n",
        "    'age': 23,\r\n",
        "    'location': {\r\n",
        "      'city': 'Sao Paulo',\r\n",
        "      'country': 'Brazil'},\r\n",
        "    'position': None,\r\n",
        "    'salary': 2000,\r\n",
        "    'department': 'Marketing',\r\n",
        "    'status': 1\r\n",
        "}\r\n",
        "id = collection.insert_one(employee).inserted_id\r\n",
        "collection.find_one({'_id': id})"
      ],
      "execution_count": 137,
      "outputs": [
        {
          "output_type": "execute_result",
          "data": {
            "text/plain": [
              "{'_id': ObjectId('602a8a9d930e884131f79855'),\n",
              " 'age': 23,\n",
              " 'department': 'Marketing',\n",
              " 'id_doc': '12345H',\n",
              " 'location': {'city': 'Sao Paulo', 'country': 'Brazil'},\n",
              " 'name': 'Henry',\n",
              " 'position': None,\n",
              " 'salary': 2000,\n",
              " 'status': 1}"
            ]
          },
          "metadata": {
            "tags": []
          },
          "execution_count": 137
        }
      ]
    },
    {
      "cell_type": "code",
      "metadata": {
        "colab": {
          "base_uri": "https://localhost:8080/"
        },
        "id": "pz74BiDK7aXL",
        "outputId": "3ea202e8-1f56-4479-b756-49f8ed17f7fb"
      },
      "source": [
        "# list all documents without position field\r\n",
        "[doc for doc in collection.find({'position': {'$exists': False}})]"
      ],
      "execution_count": 138,
      "outputs": [
        {
          "output_type": "execute_result",
          "data": {
            "text/plain": [
              "[{'_id': ObjectId('602a8a9d930e884131f79854'),\n",
              "  'age': 43,\n",
              "  'department': 'Marketing',\n",
              "  'id_doc': '12345G',\n",
              "  'location': {'city': 'Sao Paulo', 'country': 'Brazil'},\n",
              "  'name': 'Gustavo',\n",
              "  'salary': 3000,\n",
              "  'status': 1}]"
            ]
          },
          "metadata": {
            "tags": []
          },
          "execution_count": 138
        }
      ]
    },
    {
      "cell_type": "code",
      "metadata": {
        "colab": {
          "base_uri": "https://localhost:8080/"
        },
        "id": "3ytCIvG58007",
        "outputId": "8040a8db-0c07-4bed-b28d-b29ea7d21253"
      },
      "source": [
        "# list all documents with value position is None\r\n",
        "[doc for doc in collection.find({'position': None})]"
      ],
      "execution_count": 139,
      "outputs": [
        {
          "output_type": "execute_result",
          "data": {
            "text/plain": [
              "[{'_id': ObjectId('602a8a9d930e884131f79854'),\n",
              "  'age': 43,\n",
              "  'department': 'Marketing',\n",
              "  'id_doc': '12345G',\n",
              "  'location': {'city': 'Sao Paulo', 'country': 'Brazil'},\n",
              "  'name': 'Gustavo',\n",
              "  'salary': 3000,\n",
              "  'status': 1},\n",
              " {'_id': ObjectId('602a8a9d930e884131f79855'),\n",
              "  'age': 23,\n",
              "  'department': 'Marketing',\n",
              "  'id_doc': '12345H',\n",
              "  'location': {'city': 'Sao Paulo', 'country': 'Brazil'},\n",
              "  'name': 'Henry',\n",
              "  'position': None,\n",
              "  'salary': 2000,\n",
              "  'status': 1}]"
            ]
          },
          "metadata": {
            "tags": []
          },
          "execution_count": 139
        }
      ]
    },
    {
      "cell_type": "markdown",
      "metadata": {
        "id": "00RbZpXA9OBu"
      },
      "source": [
        "**Update**"
      ]
    },
    {
      "cell_type": "code",
      "metadata": {
        "colab": {
          "base_uri": "https://localhost:8080/"
        },
        "id": "6BVjGbBD9M8C",
        "outputId": "2415a6fd-969d-43f0-f0d5-0f58860072c8"
      },
      "source": [
        "# update one document\r\n",
        "[doc for doc in collection.find({'id_doc': '12345G'})]"
      ],
      "execution_count": 140,
      "outputs": [
        {
          "output_type": "execute_result",
          "data": {
            "text/plain": [
              "[{'_id': ObjectId('602a8a9d930e884131f79854'),\n",
              "  'age': 43,\n",
              "  'department': 'Marketing',\n",
              "  'id_doc': '12345G',\n",
              "  'location': {'city': 'Sao Paulo', 'country': 'Brazil'},\n",
              "  'name': 'Gustavo',\n",
              "  'salary': 3000,\n",
              "  'status': 1}]"
            ]
          },
          "metadata": {
            "tags": []
          },
          "execution_count": 140
        }
      ]
    },
    {
      "cell_type": "code",
      "metadata": {
        "colab": {
          "base_uri": "https://localhost:8080/"
        },
        "id": "HDfgcLzm9VMS",
        "outputId": "51c9fb4c-6b03-4092-c4c1-b80a759d34e8"
      },
      "source": [
        "collection.update_one({'id_doc': '12345G'}, {'$set': {'position': 'MKT Analyst'}})\r\n",
        "[doc for doc in collection.find({'id_doc': '12345G'})]"
      ],
      "execution_count": 141,
      "outputs": [
        {
          "output_type": "execute_result",
          "data": {
            "text/plain": [
              "[{'_id': ObjectId('602a8a9d930e884131f79854'),\n",
              "  'age': 43,\n",
              "  'department': 'Marketing',\n",
              "  'id_doc': '12345G',\n",
              "  'location': {'city': 'Sao Paulo', 'country': 'Brazil'},\n",
              "  'name': 'Gustavo',\n",
              "  'position': 'MKT Analyst',\n",
              "  'salary': 3000,\n",
              "  'status': 1}]"
            ]
          },
          "metadata": {
            "tags": []
          },
          "execution_count": 141
        }
      ]
    },
    {
      "cell_type": "code",
      "metadata": {
        "colab": {
          "base_uri": "https://localhost:8080/"
        },
        "id": "X17dPJM6Gr0w",
        "outputId": "0f3d5e24-2e2e-4aad-aca8-06d71bbe1a02"
      },
      "source": [
        "# update many documents\r\n",
        "[doc for doc in collection.find({'department': 'Marketing'})]"
      ],
      "execution_count": 142,
      "outputs": [
        {
          "output_type": "execute_result",
          "data": {
            "text/plain": [
              "[{'_id': ObjectId('602a8a9d930e884131f79854'),\n",
              "  'age': 43,\n",
              "  'department': 'Marketing',\n",
              "  'id_doc': '12345G',\n",
              "  'location': {'city': 'Sao Paulo', 'country': 'Brazil'},\n",
              "  'name': 'Gustavo',\n",
              "  'position': 'MKT Analyst',\n",
              "  'salary': 3000,\n",
              "  'status': 1},\n",
              " {'_id': ObjectId('602a8a9d930e884131f79855'),\n",
              "  'age': 23,\n",
              "  'department': 'Marketing',\n",
              "  'id_doc': '12345H',\n",
              "  'location': {'city': 'Sao Paulo', 'country': 'Brazil'},\n",
              "  'name': 'Henry',\n",
              "  'position': None,\n",
              "  'salary': 2000,\n",
              "  'status': 1}]"
            ]
          },
          "metadata": {
            "tags": []
          },
          "execution_count": 142
        }
      ]
    },
    {
      "cell_type": "code",
      "metadata": {
        "colab": {
          "base_uri": "https://localhost:8080/"
        },
        "id": "R_B-v8Hj-ujE",
        "outputId": "bb059d59-b87b-40c0-810b-a80c30024437"
      },
      "source": [
        "collection.update_many({'department': 'Marketing'}, {'$set': {'position': 'MKT Analyst', 'salary': 2500}})\r\n",
        "[doc for doc in collection.find({'department': 'Marketing'})]"
      ],
      "execution_count": 143,
      "outputs": [
        {
          "output_type": "execute_result",
          "data": {
            "text/plain": [
              "[{'_id': ObjectId('602a8a9d930e884131f79854'),\n",
              "  'age': 43,\n",
              "  'department': 'Marketing',\n",
              "  'id_doc': '12345G',\n",
              "  'location': {'city': 'Sao Paulo', 'country': 'Brazil'},\n",
              "  'name': 'Gustavo',\n",
              "  'position': 'MKT Analyst',\n",
              "  'salary': 2500,\n",
              "  'status': 1},\n",
              " {'_id': ObjectId('602a8a9d930e884131f79855'),\n",
              "  'age': 23,\n",
              "  'department': 'Marketing',\n",
              "  'id_doc': '12345H',\n",
              "  'location': {'city': 'Sao Paulo', 'country': 'Brazil'},\n",
              "  'name': 'Henry',\n",
              "  'position': 'MKT Analyst',\n",
              "  'salary': 2500,\n",
              "  'status': 1}]"
            ]
          },
          "metadata": {
            "tags": []
          },
          "execution_count": 143
        }
      ]
    },
    {
      "cell_type": "markdown",
      "metadata": {
        "id": "G2zJhQbN1_6R"
      },
      "source": [
        "**Counting documents**"
      ]
    },
    {
      "cell_type": "code",
      "metadata": {
        "colab": {
          "base_uri": "https://localhost:8080/"
        },
        "id": "C5XFzLMU1Gs5",
        "outputId": "6d864056-bd1c-4830-da68-d757822b968c"
      },
      "source": [
        "collection.count_documents({})"
      ],
      "execution_count": 144,
      "outputs": [
        {
          "output_type": "execute_result",
          "data": {
            "text/plain": [
              "8"
            ]
          },
          "metadata": {
            "tags": []
          },
          "execution_count": 144
        }
      ]
    },
    {
      "cell_type": "code",
      "metadata": {
        "colab": {
          "base_uri": "https://localhost:8080/"
        },
        "id": "vmulDa9z2MO-",
        "outputId": "3361fd25-c97c-43d5-f102-bf9418498dc5"
      },
      "source": [
        "collection.count_documents({'department': 'Marketing'})"
      ],
      "execution_count": 145,
      "outputs": [
        {
          "output_type": "execute_result",
          "data": {
            "text/plain": [
              "2"
            ]
          },
          "metadata": {
            "tags": []
          },
          "execution_count": 145
        }
      ]
    },
    {
      "cell_type": "markdown",
      "metadata": {
        "id": "W6hC1e37_LD4"
      },
      "source": [
        "**Delete documents**"
      ]
    },
    {
      "cell_type": "code",
      "metadata": {
        "colab": {
          "base_uri": "https://localhost:8080/"
        },
        "id": "c8Tq97buHJ0N",
        "outputId": "9f1a286d-6788-41fe-c8cd-3adda107d948"
      },
      "source": [
        "# new documents\r\n",
        "employees = [{\r\n",
        "    'id_doc': 'train1',\r\n",
        "    'name': 'X',\r\n",
        "    'position': 'Stocker',\r\n",
        "    'department': '3part',\r\n",
        "    'status': 1\r\n",
        "},\r\n",
        "{\r\n",
        "    'id_doc': 'train2',\r\n",
        "    'name': 'Y',\r\n",
        "    'position': 'Stocker',\r\n",
        "    'department': '3part',\r\n",
        "    'status': 1\r\n",
        "},\r\n",
        "{\r\n",
        "    'id_doc': 'train3',\r\n",
        "    'name': 'Z',\r\n",
        "    'position': 'Stocker',\r\n",
        "    'department': '3part',\r\n",
        "    'status': 1\r\n",
        "}]\r\n",
        "# insert many documents\r\n",
        "collection.insert_many(employees)\r\n",
        "# list all documents (only id_doc, names and deparment and depart)\r\n",
        "[print(doc, sep='\\n') for doc in collection.find({}, \r\n",
        "                                                 {'_id':0, 'id_doc':1, \r\n",
        "                                                  'name':1, 'department': 1})]"
      ],
      "execution_count": 146,
      "outputs": [
        {
          "output_type": "stream",
          "text": [
            "{'id_doc': '12345A', 'name': 'Anne', 'department': 'Sales'}\n",
            "{'id_doc': '12345B', 'name': 'Bruna', 'department': 'Sales'}\n",
            "{'id_doc': '12345C', 'name': 'Carla', 'department': 'Sales'}\n",
            "{'id_doc': '12345D', 'name': 'David', 'department': 'Sales'}\n",
            "{'id_doc': '12345E', 'name': 'Eduarda', 'department': 'Sales'}\n",
            "{'id_doc': '12345F', 'name': 'Francis', 'department': 'Finances'}\n",
            "{'id_doc': '12345G', 'name': 'Gustavo', 'department': 'Marketing'}\n",
            "{'id_doc': '12345H', 'name': 'Henry', 'department': 'Marketing'}\n",
            "{'id_doc': 'train1', 'name': 'X', 'department': '3part'}\n",
            "{'id_doc': 'train2', 'name': 'Y', 'department': '3part'}\n",
            "{'id_doc': 'train3', 'name': 'Z', 'department': '3part'}\n"
          ],
          "name": "stdout"
        },
        {
          "output_type": "execute_result",
          "data": {
            "text/plain": [
              "[None, None, None, None, None, None, None, None, None, None, None]"
            ]
          },
          "metadata": {
            "tags": []
          },
          "execution_count": 146
        }
      ]
    },
    {
      "cell_type": "code",
      "metadata": {
        "colab": {
          "base_uri": "https://localhost:8080/"
        },
        "id": "u7wC8NwI_OEh",
        "outputId": "803a4ad5-9844-4546-82be-11b8e920fd64"
      },
      "source": [
        "# list all documents from 3part department\r\n",
        "[print(doc, sep='\\n') for doc in collection.find({'department': '3part'}, \r\n",
        "                                                 {'_id':0, 'id_doc':1, \r\n",
        "                                                  'name':1, 'department': 1})]"
      ],
      "execution_count": 147,
      "outputs": [
        {
          "output_type": "stream",
          "text": [
            "{'id_doc': 'train1', 'name': 'X', 'department': '3part'}\n",
            "{'id_doc': 'train2', 'name': 'Y', 'department': '3part'}\n",
            "{'id_doc': 'train3', 'name': 'Z', 'department': '3part'}\n"
          ],
          "name": "stdout"
        },
        {
          "output_type": "execute_result",
          "data": {
            "text/plain": [
              "[None, None, None]"
            ]
          },
          "metadata": {
            "tags": []
          },
          "execution_count": 147
        }
      ]
    },
    {
      "cell_type": "code",
      "metadata": {
        "colab": {
          "base_uri": "https://localhost:8080/"
        },
        "id": "wvu3iafzAQtW",
        "outputId": "cf09a863-595c-4ab0-96bd-0b1a96656e90"
      },
      "source": [
        "# delete one document\r\n",
        "collection.delete_one({'id_doc': 'train1'})\r\n",
        "# list all documents from 3part department\r\n",
        "[print(doc, sep='\\n') for doc in collection.find({'department': '3part'}, \r\n",
        "                                                 {'_id':0, 'id_doc':1, \r\n",
        "                                                  'name':1, 'department': 1})]"
      ],
      "execution_count": 148,
      "outputs": [
        {
          "output_type": "stream",
          "text": [
            "{'id_doc': 'train2', 'name': 'Y', 'department': '3part'}\n",
            "{'id_doc': 'train3', 'name': 'Z', 'department': '3part'}\n"
          ],
          "name": "stdout"
        },
        {
          "output_type": "execute_result",
          "data": {
            "text/plain": [
              "[None, None]"
            ]
          },
          "metadata": {
            "tags": []
          },
          "execution_count": 148
        }
      ]
    },
    {
      "cell_type": "code",
      "metadata": {
        "colab": {
          "base_uri": "https://localhost:8080/"
        },
        "id": "tGK0fGmRAitx",
        "outputId": "05433925-ee08-4e92-a99e-4f6b962a60f5"
      },
      "source": [
        "# delete many documents\r\n",
        "collection.delete_many({'department': '3part'})\r\n",
        "# list all documents\r\n",
        "[print(doc, sep='\\n') for doc in collection.find({}, \r\n",
        "                                                 {'_id':0, 'id_doc':1, \r\n",
        "                                                  'name':1, 'department': 1})]"
      ],
      "execution_count": 149,
      "outputs": [
        {
          "output_type": "stream",
          "text": [
            "{'id_doc': '12345A', 'name': 'Anne', 'department': 'Sales'}\n",
            "{'id_doc': '12345B', 'name': 'Bruna', 'department': 'Sales'}\n",
            "{'id_doc': '12345C', 'name': 'Carla', 'department': 'Sales'}\n",
            "{'id_doc': '12345D', 'name': 'David', 'department': 'Sales'}\n",
            "{'id_doc': '12345E', 'name': 'Eduarda', 'department': 'Sales'}\n",
            "{'id_doc': '12345F', 'name': 'Francis', 'department': 'Finances'}\n",
            "{'id_doc': '12345G', 'name': 'Gustavo', 'department': 'Marketing'}\n",
            "{'id_doc': '12345H', 'name': 'Henry', 'department': 'Marketing'}\n"
          ],
          "name": "stdout"
        },
        {
          "output_type": "execute_result",
          "data": {
            "text/plain": [
              "[None, None, None, None, None, None, None, None]"
            ]
          },
          "metadata": {
            "tags": []
          },
          "execution_count": 149
        }
      ]
    }
  ]
}